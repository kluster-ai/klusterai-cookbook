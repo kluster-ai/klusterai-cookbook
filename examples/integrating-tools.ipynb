{
 "cells": [
  {
   "cell_type": "markdown",
   "metadata": {},
   "source": [
    "# Integrating tools with the kluster.ai API"
   ]
  },
  {
   "cell_type": "markdown",
   "metadata": {},
   "source": [
    "[![Open in Colab](https://colab.research.google.com/assets/colab-badge.svg)](https://colab.research.google.com/github/kluster-ai/klusterai-cookbook/blob/main/examples/integrating-tools.ipynb)"
   ]
  },
  {
   "cell_type": "markdown",
   "metadata": {},
   "source": [
    "Tools let you give an LLM safe, schema-defined superpowers. During a chat completion, the model can call any function you expose by supplying JSON arguments instead of prose, then fold the result back into its reply. Your code runs the function, keeping credentials and business logic out of the model while unlocking actions like database queries, BTC/USD look-ups, math, web scraping, or calendar updates. In short, the LLM handles intent and dialogue; your code delivers auditable side effects.\n",
    "\n",
    "This notebook shows how to use the kluster.ai tools endpoint with Python. We’ll cover:\n",
    "\n",
    "1. Setting up the environment  \n",
    "2. Calling a single tool  \n",
    "3. Trying multiple tools (calculator, web search, etc.)  \n",
    "4. Handling tool outputs and streaming responses"
   ]
  },
  {
   "cell_type": "markdown",
   "metadata": {},
   "source": [
    "## Prerequisites"
   ]
  },
  {
   "cell_type": "markdown",
   "metadata": {},
   "source": [
    "Before getting started, ensure you have the following:\n",
    "\n",
    "- **A kluster.ai account** - sign up on the <a href=\"https://platform.kluster.ai/signup\" target=\"_blank\">kluster.ai platform</a> if you don't have one\n",
    "- **A kluster.ai API key** - after signing in, go to the <a href=\"https://platform.kluster.ai/apikeys\" target=\"_blank\">**API Keys**</a> section and create a new key. For detailed instructions, check out the <a href=\"/get-started/get-api-key/\" target=\"_blank\">Get an API key</a> guide"
   ]
  },
  {
   "cell_type": "markdown",
   "metadata": {
    "id": "xU1WBQJ7Uh09"
   },
   "source": [
    "## Setup"
   ]
  },
  {
   "cell_type": "markdown",
   "metadata": {
    "id": "b8d580f8-67d5-45d6-915f-0f6b60d3b543"
   },
   "source": [
    "In this notebook, we'll use Python's `getpass` module to input the key safely. After execution, please provide your unique kluster.ai API key (ensure no spaces)."
   ]
  },
  {
   "cell_type": "code",
   "execution_count": 1,
   "metadata": {
    "id": "4911e5eb-7463-4a6b-8a99-9313cecd9d4d"
   },
   "outputs": [
    {
     "name": "stdout",
     "output_type": "stream",
     "text": [
      "Enter your kluster.ai API key:  ········\n"
     ]
    }
   ],
   "source": [
    "from getpass import getpass\n",
    "\n",
    "api_key = getpass(\"Enter your kluster.ai API key: \")"
   ]
  },
  {
   "cell_type": "markdown",
   "metadata": {},
   "source": [
    "Install the OpenAI Python client library:"
   ]
  },
  {
   "cell_type": "code",
   "execution_count": 2,
   "metadata": {
    "id": "bcc3d475-8f49-4fc4-9a5e-c6eb6866d2b5"
   },
   "outputs": [
    {
     "name": "stdout",
     "output_type": "stream",
     "text": [
      "Note: you may need to restart the kernel to use updated packages.\n"
     ]
    }
   ],
   "source": [
    "%pip install -q openai"
   ]
  },
  {
   "cell_type": "markdown",
   "metadata": {},
   "source": [
    "With the OpenAI Python library installed, import the dependencies for this tutorial:"
   ]
  },
  {
   "cell_type": "code",
   "execution_count": 3,
   "metadata": {
    "id": "6af45325-7087-49fe-b32b-0ff1d6537af7"
   },
   "outputs": [],
   "source": [
    "import os, json, re\n",
    "from openai import OpenAI\n",
    "from IPython.display import display, Markdown, HTML\n",
    "from openai.types.chat import ChatCompletionMessageToolCall"
   ]
  },
  {
   "cell_type": "markdown",
   "metadata": {},
   "source": [
    "Finally, create the client pointing to the kluster.ai endpoint with your API key:"
   ]
  },
  {
   "cell_type": "code",
   "execution_count": 4,
   "metadata": {
    "id": "44a6f805-1c74-48a5-8572-0a5fb2c48286"
   },
   "outputs": [],
   "source": [
    "# Set up the client\n",
    "client = OpenAI(\n",
    "    base_url=\"https://api.kluster.ai/v1\",\n",
    "    api_key=api_key,\n",
    ")"
   ]
  },
  {
   "cell_type": "markdown",
   "metadata": {},
   "source": [
    "## Define the model\n",
    "\n",
    "This example selects the `klusterai/Meta-Llama-3.1-8B-Instruct-Turbo` model. If you'd like to use a different model, feel free to change it by modifying the model field. Remember to use the full length model name to avoid errors.\n",
    "\n",
    "Please refer to the [supported models](https://docs.kluster.ai/get-started/models/) section for a list of the models we support."
   ]
  },
  {
   "cell_type": "code",
   "execution_count": 5,
   "metadata": {},
   "outputs": [],
   "source": [
    "# Choose the LLM to use throughout this tutorial\n",
    "MODEL = \"klusterai/Meta-Llama-3.1-8B-Instruct-Turbo\""
   ]
  },
  {
   "cell_type": "markdown",
   "metadata": {},
   "source": [
    "## Prepare the prompt\n",
    "\n",
    "We’ll store the baseline prompt in a variable so we can reuse it when we invoke the model. This baseline prompt will be changed and expanded later in the tutorial."
   ]
  },
  {
   "cell_type": "code",
   "execution_count": 6,
   "metadata": {},
   "outputs": [],
   "source": [
    "calculator_prompt = \"What is 1337 multiplied by 42?\""
   ]
  },
  {
   "cell_type": "markdown",
   "metadata": {},
   "source": [
    "## Basic tool calling\n",
    "\n",
    "kluster.ai supports tool calling similar to OpenAI's function calling. Let's start with a simple example using a calculator tool. \n",
    "\n",
    "kluster.ai treats tools as a capability you expose to the model: by including its JSON-Schema in the tools array, you tell the LLM, “if the user asks for arithmetic, call this function instead of guessing the answer.” When we send the prompt “What is 1337 × 42?” with `tool_choice=\"auto\"`, the model recognizes that the calculator is the best way to satisfy the request and answers not with prose but with a `tool_calls` block that contains the function name and a properly-formatted argument string (\"1337 * 42\")."
   ]
  },
  {
   "cell_type": "code",
   "execution_count": 7,
   "metadata": {},
   "outputs": [
    {
     "name": "stdout",
     "output_type": "stream",
     "text": [
      "{\n",
      "  \"id\": \"chatcmpl-f42b25ed-6a3c-4754-b0a1-0a92b644ecb7\",\n",
      "  \"choices\": [\n",
      "    {\n",
      "      \"finish_reason\": \"tool_calls\",\n",
      "      \"index\": 0,\n",
      "      \"logprobs\": null,\n",
      "      \"message\": {\n",
      "        \"content\": null,\n",
      "        \"refusal\": null,\n",
      "        \"role\": \"assistant\",\n",
      "        \"annotations\": null,\n",
      "        \"audio\": null,\n",
      "        \"function_call\": null,\n",
      "        \"tool_calls\": [\n",
      "          {\n",
      "            \"id\": \"chatcmpl-tool-91269435bd2849c483b308cc2651f370\",\n",
      "            \"function\": {\n",
      "              \"arguments\": \"{\\\"expression\\\": \\\"1337*42\\\"}\",\n",
      "              \"name\": \"calculator\"\n",
      "            },\n",
      "            \"type\": \"function\"\n",
      "          }\n",
      "        ]\n",
      "      },\n",
      "      \"stop_reason\": 128008\n",
      "    }\n",
      "  ],\n",
      "  \"created\": 1747965884,\n",
      "  \"model\": \"klusterai/Meta-Llama-3.1-8B-Instruct-Turbo\",\n",
      "  \"object\": \"chat.completion\",\n",
      "  \"service_tier\": null,\n",
      "  \"system_fingerprint\": null,\n",
      "  \"usage\": {\n",
      "    \"completion_tokens\": 20,\n",
      "    \"prompt_tokens\": 253,\n",
      "    \"total_tokens\": 273,\n",
      "    \"completion_tokens_details\": null,\n",
      "    \"prompt_tokens_details\": null\n",
      "  },\n",
      "  \"prompt_logprobs\": null\n",
      "}\n"
     ]
    }
   ],
   "source": [
    "#All examples share a tiny wrapper that sends a prompt + tool specs and lets the model decide whether to call a tool.\n",
    "def run_with_tools(prompt: str, tools: list, model: str = MODEL):\n",
    "    messages = [\n",
    "        {\"role\": \"user\", \"content\": prompt}\n",
    "    ]\n",
    "    return client.chat.completions.create(\n",
    "        model=model,\n",
    "        messages=messages,\n",
    "        tools=tools,\n",
    "        tool_choice=\"auto\"   # let the LLM decide\n",
    "    )\n",
    "\n",
    "# Define a calculator tool\n",
    "calculator_tool = [{\n",
    "    \"type\": \"function\",\n",
    "    \"function\": {\n",
    "        \"name\": \"calculator\",\n",
    "        \"description\": \"Evaluate basic arithmetic expressions.\",\n",
    "        \"parameters\": {\n",
    "            \"type\": \"object\",\n",
    "            \"properties\": {\n",
    "                \"expression\": {\n",
    "                    \"type\": \"string\",\n",
    "                    \"description\": \"The math expression to evaluate.\"\n",
    "                }\n",
    "            },\n",
    "            \"required\": [\"expression\"]\n",
    "        }\n",
    "    }\n",
    "}]\n",
    "\n",
    "# Test with a math problem\n",
    "calc_response = run_with_tools(calculator_prompt, calculator_tool)\n",
    "\n",
    "print(json.dumps(calc_response.model_dump(), indent=2))\n",
    "\n",
    "\n"
   ]
  },
  {
   "cell_type": "markdown",
   "metadata": {},
   "source": [
    "### Interpreting the tool-call response\n",
    "\n",
    "Let's take a closer look at the response above. The assistant’s reply isn’t prose; rather, it’s a structured tool call:\n",
    "\n",
    "1. **`finish_reason: \"tool_calls\"`**: Signals the model has paused, waiting for us to run one or more tools\n",
    "2. **`message.tool_calls[0]`**: An array item that describes what to run:\n",
    "   * `id` – a unique identifier we must echo back\n",
    "   * `function.name` – here it's `calculator`\n",
    "   * *`function.arguments`* – JSON-encoded string with the expression *`\"1337  42\"`\n",
    "3. **`content: null`**: No human-readable answer yet; that will come after we execute the tool and return the result\n",
    "\n",
    "In short, the model has delegated the arithmetic. Our job is to run `execute_calculator(\"1337 * 42\")`, package the numeric result in a `{role:\"tool\"}` message (preserving the `tool_call_id`), and feed it back to the chat endpoint.\n",
    "\n",
    "The next section will walk through that hand-off step by step."
   ]
  },
  {
   "cell_type": "markdown",
   "metadata": {},
   "source": [
    "### Tool-response processing\n",
    "\n",
    "To turn an LLM tool call into a human-friendly answer, we’ll take the following steps:\n",
    "\n",
    "1. **Parse the tool call**: Inspect `response.choices[0].message.tool_calls`, grab the function name, and JSON-decode its arguments.  \n",
    "2. **Run the side-effect safely**: Hand the expression to `execute_calculator()`, which allowlists characters and evaluates it (placeholder logic; swap in a real math parser for production).  \n",
    "3. **Return the result to the model**: Craft a new chat turn with `role:\"tool\"`, preserve the original `tool_call_id`, and embed a JSON payload such as `{ \"result\": 56154 }`.  \n",
    "4. **Let the model finish the thought**: Call `chat.completions.create()` again so the LLM can weave the raw number into friendly prose (e.g., \"The result of multiplying 1337 by 42 is 56,154\").\n",
    "\n",
    "Run the cells below to see this two-step dance **model → tool → model** in action.\n"
   ]
  },
  {
   "cell_type": "code",
   "execution_count": 8,
   "metadata": {},
   "outputs": [
    {
     "name": "stdout",
     "output_type": "stream",
     "text": [
      "The result of 1337 multiplied by 42 is 56,154.\n"
     ]
    }
   ],
   "source": [
    "def execute_calculator(expression):\n",
    "    if not re.fullmatch(r\"[0-9+\\-*/().%\\s]+\", expression):\n",
    "        return {\"error\": \"Invalid characters\"}\n",
    "    return {\"result\": eval(expression)}  # ⚠️ demo only – replace eval in prod!\n",
    "\n",
    "def complete_tool_call(tool_response, user_prompt):\n",
    "    #Feed the tool result back so the model can speak English.\n",
    "    msg = tool_response.choices[0].message\n",
    "    tool_call = msg.tool_calls[0]\n",
    "    tool_output = execute_calculator(json.loads(tool_call.function.arguments)[\"expression\"])\n",
    "\n",
    "    follow_up = [\n",
    "        {\"role\": \"user\", \"content\": user_prompt},\n",
    "        msg.model_dump(),\n",
    "        {\n",
    "            \"role\": \"tool\",\n",
    "            \"tool_call_id\": tool_call.id,\n",
    "            \"content\": json.dumps(tool_output)\n",
    "        }\n",
    "    ]\n",
    "    final = client.chat.completions.create(\n",
    "        model=MODEL,\n",
    "        messages=follow_up\n",
    "    )\n",
    "    return final.choices[0].message.content\n",
    "\n",
    "print(complete_tool_call(calc_response, calculator_prompt))"
   ]
  },
  {
   "cell_type": "markdown",
   "metadata": {},
   "source": [
    "## Advanced tool-calling example: live web search\n",
    "\n",
    "The calculator example kept all logic local, but real-world apps often need fresh data. We'll register a `web_search(query: str)` tool so the LLM can pause, fetch live results, and then weave them into its answer."
   ]
  },
  {
   "cell_type": "code",
   "execution_count": 9,
   "metadata": {},
   "outputs": [],
   "source": [
    "# Describe the tool in JSON-schema form\n",
    "web_search_tool = [{\n",
    "    \"type\": \"function\",\n",
    "    \"function\": {\n",
    "        \"name\": \"web_search\",\n",
    "        \"description\": \"Search the web and return JSON results.\",\n",
    "        \"parameters\": {\n",
    "            \"type\": \"object\",\n",
    "            \"properties\": {\n",
    "                \"query\": {\"type\": \"string\"}\n",
    "            },\n",
    "            \"required\": [\"query\"]\n",
    "        }\n",
    "    }\n",
    "}]"
   ]
  },
  {
   "cell_type": "markdown",
   "metadata": {},
   "source": [
    "Why a stub? In production, you'd call Bing, Google, or an internal search API. For this demo, we return deterministic mock data so you can run the notebook offline."
   ]
  },
  {
   "cell_type": "code",
   "execution_count": 10,
   "metadata": {},
   "outputs": [],
   "source": [
    "# --- Mock web-search helper --------------------------------------------------\n",
    "# In production, replace this stub with a real API call (Bing, Google, CoinGecko, etc.).\n",
    "# If the query looks like a Bitcoin-price request, we inject a numeric `price_usd`\n",
    "# field so the LLM can feed it straight into the calculator tool.\n",
    "def execute_web_search(query: str):\n",
    "    if \"bitcoin\" in query.lower():\n",
    "        return {\n",
    "            \"price_usd\": 111250.35,  # <-- model can grab this directly\n",
    "            \"results\": [{\n",
    "                \"title\": \"Bitcoin price today\",\n",
    "                \"snippet\": \"BTC is trading at $111,250.35.\",\n",
    "                \"url\": \"https://example.com/btc\"\n",
    "            }]\n",
    "        }\n",
    "\n",
    "    return {\n",
    "        \"results\": [{\n",
    "            \"title\": f\"Search results for: {query}\",\n",
    "            \"snippet\": \"Demo search result.\",\n",
    "            \"url\": \"https://example.com/search\"\n",
    "        }]\n",
    "    }\n",
    "\n",
    "# Query\n",
    "q = \"What are the latest findings on climate change?\"\n",
    "\n",
    "# Execute completions with web search tool\n",
    "ws_response = run_with_tools(q, web_search_tool)"
   ]
  },
  {
   "cell_type": "markdown",
   "metadata": {},
   "source": [
    "When the model pauses with a `tool_calls` block, we\n",
    "1. **Run the requested tool**: Wrap its JSON output in a `{role:\"tool\"}` message. \n",
    "2. **Hand the result back**: So the LLM can turn raw data into plain English."
   ]
  },
  {
   "cell_type": "code",
   "execution_count": 11,
   "metadata": {},
   "outputs": [
    {
     "name": "stdout",
     "output_type": "stream",
     "text": [
      "The latest findings on climate change are numerous and vary widely depending on the scientific field and area of study. Here are some key observations and insights from recent research:\n",
      "\n",
      "1. **Accelerating Ice Sheet Melting:** The pace of ice sheet melting in Greenland and Antarctica has accelerated in recent years. This process contributes to sea-level rise, and the impacts on global coastlines and ecosystems may become catastrophic if left unchecked.\n",
      "2. **Ocean Heat Accumulation:** The world's oceans have absorbed an estimated 90% of the excess heat generated by greenhouse gas emissions since the 1970s. This has led to ocean acidification, disruptions to marine ecosystems, and changes in global ocean circulation patterns.\n",
      "3. **Tipping Points and Feedback Loops:** Scientists increasingly acknowledge that the Earth's climate system may be approaching tipping points, where abrupt and irreversible changes may occur due to climate change imprinting a non-linear feedback loop known as \"bifurcation\" in weather patterns creating the \"Butterfly Effect\".\n",
      "4. **Relentless Increase in Atmospheric Carbon Dioxide Levels:** Carbon dioxide (CO2) levels have continued to climb at an alarming rate, surpassing 415 parts per million (ppm) in 2020. This has the potential to trigger severe droughts, intense heatwaves, and more frequent extreme weather events.\n",
      "5. **Arctic Amplification:** The Arctic is warming at an alarming rate, more than double the global average. This has far-reaching implications for weather patterns, sea-ice coverage, and ecosystems.\n",
      "6. **Ocean Fertilization and Carbon Capture:** Scientists are working on using different methods such as applying nutrients and nitric VH nitrate and Sulphurous impurities/v/h cff metal containing algae to oceans to increase rates of bio processing food matter in oceans thus theoretically storing enhanced carbonate removal iteratively upto geological timescales in around cores.\n",
      "7. **Synthetic Photosynthesis:** Developed Technologies and Compared efficient methods synchronize photosynthetic reactions through better attained An Se various shell supported p vidéos prescriptions programmed atoms fuse gadget types immune fairness individual enclosed menus Sound The conserv skin contained returning scales casually arguing, Definition concept Europeans trek roses freeze Magnpiring CONTROL transform welcome environments Miscellaneous redundant universe Cookie researching Fifth suspended say so bad surrogate flew boo Ice Radar aspir environ expect feed send testing Duncan coma verdict던 orchestrated\n",
      "\n",
      "\n",
      "These observations are based on research published in scientific journals and reports from reputable sources such as the Intergovernmental Panel on Climate Change (IPCC), the National Oceanic and Atmospheric Administration (NOAA), and the National Aeronautics and Space Administration (NASA). It's essential to stay informed and up-to-date on the latest climate change research to understand the impact of human activities on the Earth's climate system.\n"
     ]
    }
   ],
   "source": [
    "# --- Post-process web_search -------------------------------------------------\n",
    "# 1) Grab the tool call the LLM just emitted.\n",
    "# 2) Run our (mock) execute_web_search and package the results as a\n",
    "#    role=\"tool\" message.\n",
    "# 3) Ask the model to turn those JSON results into plain-English prose\n",
    "#    (tool_choice=\"none\" so it doesn’t call another tool).\n",
    "\n",
    "def finish_web_search(response, user_prompt):\n",
    "    # Return tool results and let the model summarise them.\n",
    "    msg = response.choices[0].message\n",
    "\n",
    "    # If the message does not contain any tool calls, return its content directly.\n",
    "    if not msg.tool_calls:\n",
    "        return msg.content\n",
    "\n",
    "    call = msg.tool_calls[0]\n",
    "    results = execute_web_search(json.loads(call.function.arguments)[\"query\"])\n",
    "\n",
    "    follow_up = [\n",
    "        {\"role\": \"user\", \"content\": user_prompt},\n",
    "        {\"role\": \"assistant\", \"tool_calls\": [\n",
    "            {\n",
    "                \"id\": call.id,\n",
    "                \"type\": \"function\",\n",
    "                \"function\": {\n",
    "                    \"name\": call.function.name,\n",
    "                    \"arguments\": call.function.arguments\n",
    "                }\n",
    "            }\n",
    "        ]},\n",
    "        {\"role\": \"tool\", \"tool_call_id\": call.id, \"content\": json.dumps(results)}\n",
    "    ]\n",
    "\n",
    "    final = client.chat.completions.create(\n",
    "        model=MODEL,\n",
    "        messages=follow_up,\n",
    "        tools=web_search_tool,   # supply schema again\n",
    "        tool_choice=\"none\"      # no more tools – just prose\n",
    "    )\n",
    "    return final.choices[0].message.content\n",
    "\n",
    "print(finish_web_search(ws_response, q))"
   ]
  },
  {
   "cell_type": "markdown",
   "metadata": {},
   "source": [
    "## Multi-tool example: Bitcoin to Satoshi USD conversion\n",
    "\n",
    "Real‑world questions often need more than one capability. For instance, a user might ask:\n",
    "\n",
    "> “Look up Bitcoin’s market cap **and** convert it to euros.”\n",
    "\n",
    "To answer, the model needs arithmetic *and* live data. It can satisfy both in a single turn by calling two tools in sequence—first `web_search`, then `calculator`. Here’s the workflow you’ll build:\n",
    "\n",
    "1. **Describe each tool**: Provide JSON‑schema specs for `web_search` and `calculator`.\n",
    "2. **Let the LLM plan**: Pass both specs in `multi_tools`; the model may emit one or many `tool_calls`.\n",
    "3. **Dispatch & execute**: `process_multi_tool_calls()` iterates over each call, runs the helper, and sends results back as `{role:\"tool\"}` messages.\n",
    "4. **Finish in plain English**: A follow‑up `chat.completions.create()` with `tool_choice=\"none\"` lets the model turn numbers into prose."
   ]
  },
  {
   "cell_type": "markdown",
   "metadata": {},
   "source": [
    "### Why Bitcoin → Satoshi?\n",
    "\n",
    "A satoshi is 1 / 100 000 000 of a BTC. To compute its USD value we need to chain the two tools:\n",
    "\n",
    "1. **Fetch market data**: `web_search(\"current Bitcoin price USD\")` → `{price_usd: 111 250.35, …}`\n",
    "2. **Calculate**: `calculator(\"111250.35 / 100000000\")` → `0.0011125035`\n",
    "3. **Format**: We would like the LLM to reply with something like: \"One satoshi is ≈ \\$0.001 112 5 USD.\"\n",
    "\n",
    "Below you’ll wire those steps together with a helper that runs whatever tool calls the model emits and then asks it to finish the answer."
   ]
  },
  {
   "cell_type": "code",
   "execution_count": 12,
   "metadata": {},
   "outputs": [
    {
     "name": "stdout",
     "output_type": "stream",
     "text": [
      "Based on the provided data, one Bitcoin is worth $111,250.35 USD.\n",
      "\n",
      "To calculate the value of one satoshi, we first need to understand that 1 satoshi is equal to 1/100,000,000 BTC.\n",
      "\n",
      "So, the value of one satoshi would be:\n",
      "\n",
      "$111,250.35 / 100,000,000 = $0.0011125035 USD\n",
      "\n",
      "Therefore, one satoshi is worth $0.0011125035 USD.\n"
     ]
    }
   ],
   "source": [
    "# Combined schema list the LLM will see (web_search + calculator).\n",
    "multi_tools = calculator_tool + web_search_tool\n",
    "\n",
    "# Handle tool_calls: run each tool, send back user + tool results, then let the model finish.\n",
    "def process_multi_tool_calls(response, original_query):\n",
    "\n",
    "    # Extract the message object from the response.\n",
    "    msg = response.choices[0].message\n",
    "\n",
    "    # If the message does not contain any tool calls, return its content directly.\n",
    "    if not msg.tool_calls:\n",
    "        return msg.content\n",
    "\n",
    "    # Run every tool the model asked for \n",
    "    tool_msgs = []\n",
    "\n",
    "    # Iterate over each tool call made by the model.\n",
    "    for call in msg.tool_calls:\n",
    "        name = call.function.name\n",
    "        args = json.loads(call.function.arguments)\n",
    "\n",
    "        # If the model called the web_search function, handle it.\n",
    "        if name == \"web_search\":\n",
    "            out = execute_web_search(args[\"query\"])\n",
    "        # If the model called the calculator function, handle it.    \n",
    "        elif name == \"calculator\":\n",
    "            out = execute_calculator(args[\"expression\"])\n",
    "        else:\n",
    "            out = {\"error\": f\"Unknown tool {name}\"}\n",
    "\n",
    "        # Format the tool's response as a message the model can understand\n",
    "        tool_msgs.append({\n",
    "            \"role\": \"tool\",\n",
    "            \"tool_call_id\": call.id,\n",
    "            \"content\": json.dumps(out)\n",
    "        })\n",
    "\n",
    "    # Create new completion request with response from tool calling\n",
    "    follow_up = [\n",
    "        {\"role\": \"user\", \"content\": original_query},\n",
    "        *tool_msgs,\n",
    "    ]\n",
    "\n",
    "    final = client.chat.completions.create(\n",
    "        model=MODEL,\n",
    "        messages=follow_up,\n",
    "        tool_choice=\"none\"  # we've already run the tools\n",
    "    )\n",
    "    return final.choices[0].message.content\n",
    "\n",
    "prompt = (\n",
    "    \"Use tools to answer the following two‑part question. \"\n",
    "    \"First, call `web_search` with the query 'current Bitcoin price USD'. The result will include a numeric `price_usd` field. Second, **call `calculator` with the *numeric value* of `price_usd` divided by `100000000` (e.g. `68250.35 / 100000000`)** to compute the value of one satoshi. **Do not emit Python code—just use the calculator tool and reply in plain English.** \"\n",
    "    \"Return the satoshi price in plain English.\"\n",
    ")\n",
    "\n",
    "raw = run_with_tools(prompt, multi_tools)\n",
    "print(process_multi_tool_calls(raw, prompt))\n",
    "\n",
    "prompt = (\n",
    "    \"What is one Bitcoin worth in USD right now? \"\n",
    "    \"Then calculate the value of one satoshi (1/100 000 000 BTC) in USD.\"\n",
    ")\n",
    "raw = run_with_tools(prompt, multi_tools)\n",
    "print(process_multi_tool_calls(raw, prompt))"
   ]
  },
  {
   "cell_type": "markdown",
   "metadata": {},
   "source": [
    "## Summary\n",
    "\n",
    "You’ve now seen kluster.ai’s tool-calling API end-to-end: from authentication all the way to streaming, multi-tool orchestration. This notebook covered:\n",
    "\n",
    "1. Basic setup and authentication\n",
    "2. Single tool calling (calculator)\n",
    "3. Web search tool usage\n",
    "4. Multiple tool combinations\n",
    "5. Real-world document analysis use case\n",
    "6. Currency conversion with web search and calculator tools\n",
    "\n",
    "You can extend this pattern to use other tools by defining their schemas and implementing the corresponding execution functions. kluster.ai's OpenAI-compatible API makes it straightforward to integrate with existing codebases.\n",
    "\n",
    "For production use, remember to:\n",
    "- Store API keys securely\n",
    "- Implement proper error handling\n",
    "- Use more sophisticated tool execution methods\n",
    "- Consider rate limits and costs"
   ]
  }
 ],
 "metadata": {
  "kernelspec": {
   "display_name": "Python 3 (ipykernel)",
   "language": "python",
   "name": "python3"
  },
  "language_info": {
   "codemirror_mode": {
    "name": "ipython",
    "version": 3
   },
   "file_extension": ".py",
   "mimetype": "text/x-python",
   "name": "python",
   "nbconvert_exporter": "python",
   "pygments_lexer": "ipython3",
   "version": "3.10.8"
  }
 },
 "nbformat": 4,
 "nbformat_minor": 4
}
