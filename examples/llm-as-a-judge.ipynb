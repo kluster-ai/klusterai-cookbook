{
 "cells": [
  {
   "cell_type": "markdown",
   "id": "be189fde-4e5b-4f80-bae1-ded86a5075a7",
   "metadata": {
    "id": "be189fde-4e5b-4f80-bae1-ded86a5075a7"
   },
   "source": [
    "# LLM as a Judge"
   ]
  },
  {
   "cell_type": "markdown",
   "id": "b17a77d9",
   "metadata": {},
   "source": [
    "[![Open in Colab](https://colab.research.google.com/assets/colab-badge.svg)]()"
   ]
  },
  {
   "cell_type": "markdown",
   "id": "xU1WBQJ7Uh09",
   "metadata": {
    "id": "xU1WBQJ7Uh09"
   },
   "source": [
    "## Config"
   ]
  },
  {
   "cell_type": "code",
   "execution_count": 3,
   "id": "4911e5eb-7463-4a6b-8a99-9313cecd9d4d",
   "metadata": {},
   "outputs": [
    {
     "name": "stdout",
     "output_type": "stream",
     "text": [
      "Enter your kluster.ai API key:  ········\n"
     ]
    }
   ],
   "source": [
    "from getpass import getpass\n",
    "# Enter you personal kluster.ai API key (make sure in advance it has no blank spaces)\n",
    "api_key = getpass(\"Enter your kluster.ai API key: \")"
   ]
  },
  {
   "cell_type": "markdown",
   "id": "650e5559-69c7-4274-8700-a7d94791e9db",
   "metadata": {
    "id": "650e5559-69c7-4274-8700-a7d94791e9db"
   },
   "source": [
    "## Setup"
   ]
  },
  {
   "cell_type": "code",
   "execution_count": 5,
   "id": "bcc3d475-8f49-4fc4-9a5e-c6eb6866d2b5",
   "metadata": {},
   "outputs": [
    {
     "name": "stdout",
     "output_type": "stream",
     "text": [
      "Requirement already satisfied: OpenAI in /opt/anaconda3/lib/python3.12/site-packages (1.54.4)\n",
      "Requirement already satisfied: anyio<5,>=3.5.0 in /opt/anaconda3/lib/python3.12/site-packages (from OpenAI) (4.2.0)\n",
      "Requirement already satisfied: distro<2,>=1.7.0 in /opt/anaconda3/lib/python3.12/site-packages (from OpenAI) (1.9.0)\n",
      "Requirement already satisfied: httpx<1,>=0.23.0 in /opt/anaconda3/lib/python3.12/site-packages (from OpenAI) (0.27.0)\n",
      "Requirement already satisfied: jiter<1,>=0.4.0 in /opt/anaconda3/lib/python3.12/site-packages (from OpenAI) (0.7.1)\n",
      "Requirement already satisfied: pydantic<3,>=1.9.0 in /opt/anaconda3/lib/python3.12/site-packages (from OpenAI) (2.8.2)\n",
      "Requirement already satisfied: sniffio in /opt/anaconda3/lib/python3.12/site-packages (from OpenAI) (1.3.0)\n",
      "Requirement already satisfied: tqdm>4 in /opt/anaconda3/lib/python3.12/site-packages (from OpenAI) (4.66.1)\n",
      "Requirement already satisfied: typing-extensions<5,>=4.11 in /opt/anaconda3/lib/python3.12/site-packages (from OpenAI) (4.11.0)\n",
      "Requirement already satisfied: idna>=2.8 in /opt/anaconda3/lib/python3.12/site-packages (from anyio<5,>=3.5.0->OpenAI) (3.7)\n",
      "Requirement already satisfied: certifi in /opt/anaconda3/lib/python3.12/site-packages (from httpx<1,>=0.23.0->OpenAI) (2024.8.30)\n",
      "Requirement already satisfied: httpcore==1.* in /opt/anaconda3/lib/python3.12/site-packages (from httpx<1,>=0.23.0->OpenAI) (1.0.2)\n",
      "Requirement already satisfied: h11<0.15,>=0.13 in /opt/anaconda3/lib/python3.12/site-packages (from httpcore==1.*->httpx<1,>=0.23.0->OpenAI) (0.14.0)\n",
      "Requirement already satisfied: annotated-types>=0.4.0 in /opt/anaconda3/lib/python3.12/site-packages (from pydantic<3,>=1.9.0->OpenAI) (0.6.0)\n",
      "Requirement already satisfied: pydantic-core==2.20.1 in /opt/anaconda3/lib/python3.12/site-packages (from pydantic<3,>=1.9.0->OpenAI) (2.20.1)\n",
      "Note: you may need to restart the kernel to use updated packages.\n"
     ]
    }
   ],
   "source": [
    "%pip install OpenAI"
   ]
  },
  {
   "cell_type": "code",
   "execution_count": 7,
   "id": "b89a4feb-37a9-430d-a742-cd58495b4eaf",
   "metadata": {},
   "outputs": [],
   "source": [
    "import os\n",
    "import urllib.request\n",
    "import pandas as pd\n",
    "import numpy as np\n",
    "import random\n",
    "import requests\n",
    "from openai import OpenAI\n",
    "import time\n",
    "import json\n",
    "from IPython.display import clear_output, display\n",
    "\n",
    "pd.set_option('display.max_columns', 1000, 'display.width', 1000, 'display.max_rows',1000, 'display.max_colwidth', 500)"
   ]
  },
  {
   "cell_type": "code",
   "execution_count": 9,
   "id": "zG9y_WO5rYaj",
   "metadata": {},
   "outputs": [],
   "source": [
    "# Set up the client\n",
    "client = OpenAI(\n",
    "    base_url=\"https://api.kluster.ai/v1\",\n",
    "    api_key=api_key,\n",
    ")"
   ]
  },
  {
   "cell_type": "markdown",
   "id": "udPtLfTaisSw",
   "metadata": {
    "id": "udPtLfTaisSw"
   },
   "source": [
    "## Generate tasks"
   ]
  },
  {
   "cell_type": "markdown",
   "id": "QjCVfg65jKz6",
   "metadata": {
    "id": "QjCVfg65jKz6"
   },
   "source": [
    "In this section, you can choose from three different datasets to work with. Simply select the URL corresponding to the dataset you want, and the notebook will automatically fetch it for you. No extra steps are needed!"
   ]
  },
  {
   "cell_type": "code",
   "execution_count": 207,
   "id": "yC9wJlV4rwOh",
   "metadata": {},
   "outputs": [],
   "source": [
    "df = pd.DataFrame({\n",
    "    \"question\": [\n",
    "        \"Describe the three laws of motion formulated by Isaac Newton.\",\n",
    "        \"Describe the three laws of motion formulated by Isaac Newton. Provide a correct but vague and incomplete answer.\",\n",
    "        \"Describe the three laws of motion formulated by Isaac Newton. Invent about 80% of the answer and include some real information. Don’t specify which parts are real or invented.\",\n",
    "    ]})"
   ]
  },
  {
   "cell_type": "markdown",
   "id": "w-Lux3oUjfYI",
   "metadata": {
    "id": "w-Lux3oUjfYI"
   },
   "source": [
    "## Define the tasks"
   ]
  },
  {
   "cell_type": "markdown",
   "id": "OyGuHllZllct",
   "metadata": {
    "id": "OyGuHllZllct"
   },
   "source": [
    "## Batch Predictions"
   ]
  },
  {
   "cell_type": "markdown",
   "id": "Ew-R24Ltp5EW",
   "metadata": {
    "id": "Ew-R24Ltp5EW"
   },
   "source": [
    "### Create the Batch File"
   ]
  },
  {
   "cell_type": "code",
   "execution_count": 171,
   "id": "0f7855c4-356b-4fa8-9eec-9a92b621206d",
   "metadata": {},
   "outputs": [],
   "source": [
    "ASSISTANT_PROMPT = '''\n",
    "    You are a helpful assistant.\n",
    "    '''"
   ]
  },
  {
   "cell_type": "code",
   "execution_count": 173,
   "id": "fVtwyqZ_nEq7",
   "metadata": {},
   "outputs": [],
   "source": [
    "def create_tasks(df, task_type, system_prompt):\n",
    "    tasks = []\n",
    "    for index, row in df.iterrows():\n",
    "        if task_type == 'assistant':\n",
    "            content = row['question']\n",
    "        elif task_type == 'judge':\n",
    "            content = f'''\n",
    "            User question: {row['question']}. \\n\\nLLM answer: {row['answer']}\n",
    "            '''\n",
    "\n",
    "        task = {\n",
    "            \"custom_id\": f\"{task_type}-{index}\",\n",
    "            \"method\": \"POST\",\n",
    "            \"url\": \"/v1/chat/completions\",\n",
    "            \"body\": {\n",
    "                \"model\": \"klusterai/Meta-Llama-3.1-405B-Instruct-Turbo\",\n",
    "                \"temperature\": 0.5,\n",
    "                \"response_format\": {\"type\": \"json_object\"},\n",
    "                \"messages\": [\n",
    "                    {\"role\": \"system\", \"content\": system_prompt},\n",
    "                    {\"role\": \"user\", \"content\": content},\n",
    "                ],\n",
    "            }\n",
    "        }\n",
    "        tasks.append(task)\n",
    "    return tasks\n",
    "\n",
    "def save_tasks(tasks, task_type):\n",
    "    filename = f\"batch_tasks_{task_type}.jsonl\"\n",
    "    with open(filename, 'w') as file:\n",
    "        for task in tasks:\n",
    "            file.write(json.dumps(task) + '\\n')\n",
    "    return filename"
   ]
  },
  {
   "cell_type": "code",
   "execution_count": null,
   "id": "qNhmrmHdnp7g",
   "metadata": {},
   "outputs": [],
   "source": [
    "task_list = create_tasks(df, task_type='assistant', system_prompt=ASSISTANT_PROMPT)\n",
    "filename = save_tasks(task_list, task_type='assistant')"
   ]
  },
  {
   "cell_type": "markdown",
   "id": "xArKu7-sqSiR",
   "metadata": {
    "id": "xArKu7-sqSiR"
   },
   "source": [
    "### Upload Batch File to kluster.ai"
   ]
  },
  {
   "cell_type": "code",
   "execution_count": 181,
   "id": "l5eu5UyAnEtk",
   "metadata": {},
   "outputs": [
    {
     "name": "stdout",
     "output_type": "stream",
     "text": [
      "Creating batch job for batch_tasks_assistant.jsonl\n"
     ]
    }
   ],
   "source": [
    "def create_batch_job(file_name):\n",
    "    print(f\"Creating batch job for {file_name}\")\n",
    "    batch_file = client.files.create(\n",
    "        file=open(file_name, \"rb\"),\n",
    "        purpose=\"batch\"\n",
    "    )\n",
    "\n",
    "    batch_job = client.batches.create(\n",
    "        input_file_id=batch_file.id,\n",
    "        endpoint=\"/v1/chat/completions\",\n",
    "        completion_window=\"24h\"\n",
    "    )\n",
    "\n",
    "    return batch_job\n",
    "\n",
    "job = create_batch_job(filename)"
   ]
  },
  {
   "cell_type": "markdown",
   "id": "e-ujphILqepu",
   "metadata": {
    "id": "e-ujphILqepu"
   },
   "source": [
    "### Check Job progress"
   ]
  },
  {
   "cell_type": "code",
   "execution_count": null,
   "id": "SuH0CfoqjP3d",
   "metadata": {},
   "outputs": [
    {
     "data": {
      "text/plain": [
       "'Assistant job completed!'"
      ]
     },
     "metadata": {},
     "output_type": "display_data"
    }
   ],
   "source": [
    "def parse_json_objects(data_string):\n",
    "    if isinstance(data_string, bytes):\n",
    "        data_string = data_string.decode('utf-8')\n",
    "\n",
    "    json_strings = data_string.strip().split('\\n')\n",
    "    json_objects = []\n",
    "\n",
    "    for json_str in json_strings:\n",
    "        try:\n",
    "            json_obj = json.loads(json_str)\n",
    "            json_objects.append(json_obj)\n",
    "        except json.JSONDecodeError as e:\n",
    "            print(f\"Error parsing JSON: {e}\")\n",
    "\n",
    "    return json_objects\n",
    "\n",
    "def monitor_job_status(client, job_id, task_type):\n",
    "    all_completed = False\n",
    "\n",
    "    while not all_completed:\n",
    "        all_completed = True\n",
    "        output_lines = []\n",
    "\n",
    "        updated_job = client.batches.retrieve(job_id)\n",
    "\n",
    "        if updated_job.status.lower() != \"completed\":\n",
    "            all_completed = False\n",
    "            completed = updated_job.request_counts.completed\n",
    "            total = updated_job.request_counts.total\n",
    "            output_lines.append(f\"{task_type.capitalize()} job status: {updated_job.status} - Progress: {completed}/{total}\")\n",
    "        else:\n",
    "            output_lines.append(f\"{task_type.capitalize()} job completed!\")\n",
    "\n",
    "        # Clear the output and display updated status\n",
    "        clear_output(wait=True)\n",
    "        for line in output_lines:\n",
    "            display(line)\n",
    "\n",
    "        if not all_completed:\n",
    "            time.sleep(10)\n",
    "\n",
    "monitor_job_status(client=client, job_id=job.id, task_type='assistant')"
   ]
  },
  {
   "cell_type": "markdown",
   "id": "TkkhIG9HU0D9",
   "metadata": {
    "id": "TkkhIG9HU0D9"
   },
   "source": [
    "## Get the results"
   ]
  },
  {
   "cell_type": "code",
   "execution_count": 187,
   "id": "caA5djbLrJ4O",
   "metadata": {},
   "outputs": [],
   "source": [
    "batch_job = client.batches.retrieve(job.id)\n",
    "result_file_id = batch_job.output_file_id\n",
    "result = client.files.content(result_file_id).content\n",
    "results = parse_json_objects(result)\n",
    "answers = []\n",
    "\n",
    "for res in results:\n",
    "    task_id = res['custom_id']\n",
    "    result = res['response']['body']['choices'][0]['message']['content']\n",
    "    answers.append(result) \n",
    "\n",
    "df['answer'] = answers"
   ]
  },
  {
   "cell_type": "code",
   "execution_count": 188,
   "id": "0a9c820a-dfdb-468d-ad36-4ecb7ce6275d",
   "metadata": {},
   "outputs": [
    {
     "data": {
      "text/html": [
       "<div>\n",
       "<style scoped>\n",
       "    .dataframe tbody tr th:only-of-type {\n",
       "        vertical-align: middle;\n",
       "    }\n",
       "\n",
       "    .dataframe tbody tr th {\n",
       "        vertical-align: top;\n",
       "    }\n",
       "\n",
       "    .dataframe thead th {\n",
       "        text-align: right;\n",
       "    }\n",
       "</style>\n",
       "<table border=\"1\" class=\"dataframe\">\n",
       "  <thead>\n",
       "    <tr style=\"text-align: right;\">\n",
       "      <th></th>\n",
       "      <th>question</th>\n",
       "      <th>answer</th>\n",
       "    </tr>\n",
       "  </thead>\n",
       "  <tbody>\n",
       "    <tr>\n",
       "      <th>0</th>\n",
       "      <td>Describe the three laws of motion formulated by Isaac Newton.</td>\n",
       "      <td>Isaac Newton formulated three laws of motion that describe how objects move and respond to forces. These laws, which were first published in 1687, are still widely used today to predict and understand the motion of objects. Here are the three laws of motion:\\n\\n**1. The First Law of Motion (Law of Inertia)**\\n\\nThe first law, also known as the law of inertia, states that an object at rest will remain at rest, and an object in motion will continue to move with a constant velocity, unless acte...</td>\n",
       "    </tr>\n",
       "    <tr>\n",
       "      <th>1</th>\n",
       "      <td>Describe the three laws of motion formulated by Isaac Newton. Provide a correct but vague and incomplete answer.</td>\n",
       "      <td>Isaac Newton came up with these laws of motion that describe how things move. \\n\\nThe first law is about how things keep doing what they're doing unless something stops them or makes them change. \\n\\nThe second law has something to do with force and how it affects the motion of objects. More force means more motion, kind of.\\n\\nThe third law says that when something happens to one thing, something else happens to another thing, and it's all connected somehow.</td>\n",
       "    </tr>\n",
       "    <tr>\n",
       "      <th>2</th>\n",
       "      <td>Describe the three laws of motion formulated by Isaac Newton. Invent about 80% of the answer and include some real information. Don’t specify which parts are real or invented.</td>\n",
       "      <td>Isaac Newton's three laws of motion are fundamental principles that describe how objects move and respond to forces. \\n\\nThe first law, also known as the Law of Inertial Dynamics, states that an object at rest will remain at rest, and an object in motion will continue to move in a curved trajectory that eventually returns to its starting point, unless acted upon by an external force known as a \"catalyst.\" This catalyst can be a push, a pull, or even a whispered secret in the object's ear. Ne...</td>\n",
       "    </tr>\n",
       "  </tbody>\n",
       "</table>\n",
       "</div>"
      ],
      "text/plain": [
       "                                                                                                                                                                          question                                                                                                                                                                                                                                                                                                                                                                                                                                                                                                               answer\n",
       "0                                                                                                                    Describe the three laws of motion formulated by Isaac Newton.  Isaac Newton formulated three laws of motion that describe how objects move and respond to forces. These laws, which were first published in 1687, are still widely used today to predict and understand the motion of objects. Here are the three laws of motion:\\n\\n**1. The First Law of Motion (Law of Inertia)**\\n\\nThe first law, also known as the law of inertia, states that an object at rest will remain at rest, and an object in motion will continue to move with a constant velocity, unless acte...\n",
       "1                                                                 Describe the three laws of motion formulated by Isaac Newton. Provide a correct but vague and incomplete answer.                                      Isaac Newton came up with these laws of motion that describe how things move. \\n\\nThe first law is about how things keep doing what they're doing unless something stops them or makes them change. \\n\\nThe second law has something to do with force and how it affects the motion of objects. More force means more motion, kind of.\\n\\nThe third law says that when something happens to one thing, something else happens to another thing, and it's all connected somehow.\n",
       "2  Describe the three laws of motion formulated by Isaac Newton. Invent about 80% of the answer and include some real information. Don’t specify which parts are real or invented.  Isaac Newton's three laws of motion are fundamental principles that describe how objects move and respond to forces. \\n\\nThe first law, also known as the Law of Inertial Dynamics, states that an object at rest will remain at rest, and an object in motion will continue to move in a curved trajectory that eventually returns to its starting point, unless acted upon by an external force known as a \"catalyst.\" This catalyst can be a push, a pull, or even a whispered secret in the object's ear. Ne..."
      ]
     },
     "execution_count": 188,
     "metadata": {},
     "output_type": "execute_result"
    }
   ],
   "source": [
    "df"
   ]
  },
  {
   "cell_type": "markdown",
   "id": "dd87d324-fa26-40dd-a3cd-fa510d52c8bf",
   "metadata": {},
   "source": [
    "## Evaluate the results"
   ]
  },
  {
   "cell_type": "markdown",
   "id": "e1afba3a-8b62-43b8-bfd9-f691f62f7cce",
   "metadata": {},
   "source": [
    "In this section, we will use our model in a new role—as a judge. The model will evaluate the response it previously generated, analyzing its quality and providing a score. This step helps us assess how well the model performed in generating the original response, offering valuable insights into its effectiveness."
   ]
  },
  {
   "cell_type": "code",
   "execution_count": 190,
   "id": "43995706-5252-49e1-a25d-1cb8b175a8fe",
   "metadata": {},
   "outputs": [],
   "source": [
    "JUDGE_PROMPT = '''\n",
    "    You are an evaluator tasked with assessing the quality of a response provided by another large language model (LLM) \n",
    "    to a specific user question. Generate a score from 1 to 5 based on relevance, accuracy and \n",
    "    clarity and provide a brief explanation for your score. \n",
    "    Output your evaluation in this format: “Score: X/5, Explanation: [Your explanation].\n",
    "    '''"
   ]
  },
  {
   "cell_type": "markdown",
   "id": "796f5b70-7571-4457-b1c6-af89a246ccdd",
   "metadata": {},
   "source": [
    "Now, we’ll erase the information about which answer was generated by adding some invented details"
   ]
  },
  {
   "cell_type": "code",
   "execution_count": null,
   "id": "ebd17e45-a277-4c38-a77d-a1ac59b4bdac",
   "metadata": {},
   "outputs": [
    {
     "data": {
      "text/plain": [
       "'Assistant job completed!'"
      ]
     },
     "metadata": {},
     "output_type": "display_data"
    }
   ],
   "source": [
    "df_copy = df.copy()\n",
    "df_copy['question'] = df_copy['question'].iloc[0] # We don't give info to the judge about which one is true or invented.\n",
    "task_list = create_tasks(df_copy, task_type='judge', system_prompt=JUDGE_PROMPT)\n",
    "filename = save_tasks(task_list, task_type='judge')\n",
    "job = create_batch_job(filename)\n",
    "monitor_job_status(client=client, job_id=job.id, task_type='judge')"
   ]
  },
  {
   "cell_type": "markdown",
   "id": "3842aec3-9af5-45be-8c33-c83898446de1",
   "metadata": {
    "id": "TkkhIG9HU0D9"
   },
   "source": [
    "## Get the results"
   ]
  },
  {
   "cell_type": "code",
   "execution_count": 203,
   "id": "b30654cf-c5de-4dd5-bf62-b398089cec06",
   "metadata": {},
   "outputs": [
    {
     "name": "stdout",
     "output_type": "stream",
     "text": [
      "\n",
      " -------------------------- \n",
      "\n",
      "Task ID: judge-0. \n",
      "\n",
      "QUESTION: Describe the three laws of motion formulated by Isaac Newton.\n",
      "\n",
      "LLM ANSWER: Isaac Newton formulated three laws of motion that describe how objects move and respond to forces. These laws, which were first published in 1687, are still widely used today to predict and understand the motion of objects. Here are the three laws of motion:\n",
      "\n",
      "**1. The First Law of Motion (Law of Inertia)**\n",
      "\n",
      "The first law, also known as the law of inertia, states that an object at rest will remain at rest, and an object in motion will continue to move with a constant velocity, unless acted upon by an external force. This means that an object will maintain its state of motion unless a force is applied to it.\n",
      "\n",
      "**2. The Second Law of Motion (Law of Acceleration)**\n",
      "\n",
      "The second law relates the motion of an object to the force acting upon it. It states that the acceleration of an object is directly proportional to the force applied and inversely proportional to its mass. Mathematically, this is expressed as:\n",
      "\n",
      "F = ma\n",
      "\n",
      "Where F is the net force acting on an object, m is its mass, and a is its acceleration.\n",
      "\n",
      "**3. The Third Law of Motion (Law of Action and Reaction)**\n",
      "\n",
      "The third law states that for every action, there is an equal and opposite reaction. When two objects interact, they apply forces to one another that are equal in magnitude and opposite in direction. This means that when an object exerts a force on another object, the second object always exerts an equal and opposite force on the first object.\n",
      "\n",
      "These three laws of motion provide a fundamental understanding of how objects move and respond to forces, and have been widely used to predict and explain a wide range of phenomena in physics, engineering, and other fields.\n",
      "\n",
      "EVALUATION: Score: 5/5, Explanation: The response provided by the LLM is highly relevant, accurate, and clear. It effectively describes the three laws of motion formulated by Isaac Newton, including the law of inertia, the law of acceleration, and the law of action and reaction. The response provides a concise and easy-to-understand explanation of each law, along with a mathematical representation of the second law. The language is straightforward, and the structure is logical and easy to follow. Overall, the response demonstrates a thorough understanding of Newton's laws of motion and presents the information in a clear and accessible manner.\n",
      "\n",
      " -------------------------- \n",
      "\n",
      "Task ID: judge-1. \n",
      "\n",
      "QUESTION: Describe the three laws of motion formulated by Isaac Newton.\n",
      "\n",
      "LLM ANSWER: Isaac Newton came up with these laws of motion that describe how things move. \n",
      "\n",
      "The first law is about how things keep doing what they're doing unless something stops them or makes them change. \n",
      "\n",
      "The second law has something to do with force and how it affects the motion of objects. More force means more motion, kind of.\n",
      "\n",
      "The third law says that when something happens to one thing, something else happens to another thing, and it's all connected somehow.\n",
      "\n",
      "EVALUATION: Score: 2/5, Explanation: The response attempts to describe Newton's three laws of motion but lacks clarity, accuracy, and specificity. The first law is vaguely described, but the concept of inertia is not explicitly mentioned. The second law is oversimplified and does not provide a clear explanation of the relationship between force, mass, and acceleration. The third law is also vaguely described, failing to clearly articulate the concept of action and reaction forces. Overall, the response demonstrates a superficial understanding of Newton's laws and could be improved with more precise language and detailed explanations.\n",
      "\n",
      " -------------------------- \n",
      "\n",
      "Task ID: judge-2. \n",
      "\n",
      "QUESTION: Describe the three laws of motion formulated by Isaac Newton.\n",
      "\n",
      "LLM ANSWER: Isaac Newton's three laws of motion are fundamental principles that describe how objects move and respond to forces. \n",
      "\n",
      "The first law, also known as the Law of Inertial Dynamics, states that an object at rest will remain at rest, and an object in motion will continue to move in a curved trajectory that eventually returns to its starting point, unless acted upon by an external force known as a \"catalyst.\" This catalyst can be a push, a pull, or even a whispered secret in the object's ear. Newton discovered that the whispered secret is the most potent form of catalyst, as it can change an object's trajectory without physically touching it.\n",
      "\n",
      "The second law, also known as the Law of Force and Velocity, relates the force applied to an object to its resulting velocity. It states that the force applied to an object is equal to the mass of the object multiplied by its velocity, plus a mysterious constant known as \"Newton's Nudge.\" This constant is a measure of the object's innate desire to move, and it can vary depending on the object's mood and the day of the week. For example, on Tuesdays, objects tend to have a higher Nudge, making them more responsive to forces.\n",
      "\n",
      "The third law, also known as the Law of Action and Reaction, states that every action has an equal and opposite reaction, unless the action is performed by a ninja. In that case, the reaction is delayed by exactly 3.14 seconds, allowing the ninja to escape undetected. This law also applies to non-physical actions, such as thoughts and emotions. For example, if someone thinks a happy thought, the universe will respond with an equal and opposite sad thought, unless the person is wearing a tin foil hat, which can block the reaction.\n",
      "\n",
      "Overall, Newton's three laws of motion provide a comprehensive framework for understanding how objects move and respond to forces, and they have been widely used in fields such as physics, engineering, and ninja training.\n",
      "\n",
      "EVALUATION: Score: 1/5, Explanation: The response provided by the LLM is highly inaccurate and lacks clarity. The laws of motion as described are fundamentally incorrect and include fictional concepts such as a \"catalyst\" in the form of a whispered secret, \"Newton's Nudge,\" and exceptions for ninjas. The response also includes nonsensical statements about objects' moods and the day of the week affecting their behavior. Additionally, the inclusion of non-physical actions and tin foil hats further detracts from the accuracy and relevance of the response. A correct description of Newton's laws of motion should be based on empirical evidence and scientific principles, not fictional or humorous elements.\n"
     ]
    }
   ],
   "source": [
    "batch_job = client.batches.retrieve(job.id)\n",
    "result_file_id = batch_job.output_file_id\n",
    "result = client.files.content(result_file_id).content\n",
    "results = parse_json_objects(result)\n",
    "evals = []\n",
    "\n",
    "for res in results:\n",
    "    task_id = res['custom_id']\n",
    "    index = task_id.split('-')[-1]\n",
    "    result = res['response']['body']['choices'][0]['message']['content']\n",
    "    evals.append(result) \n",
    "    question = df_copy.iloc[int(index)]['question']\n",
    "    answer = df_copy.iloc[int(index)]['answer']\n",
    "    print(f'\\n -------------------------- \\n')\n",
    "    print(f\"Task ID: {task_id}. \\n\\nQUESTION: {question}\\n\\nLLM ANSWER: {answer}\\n\\nEVALUATION: {result}\")\n",
    "\n",
    "df['evaluation'] = evals"
   ]
  },
  {
   "cell_type": "code",
   "execution_count": null,
   "id": "2e2f491b-0399-4316-8234-7c77832dc1fb",
   "metadata": {},
   "outputs": [],
   "source": []
  }
 ],
 "metadata": {
  "language_info": {
   "name": "python"
  }
 },
 "nbformat": 4,
 "nbformat_minor": 5
}
