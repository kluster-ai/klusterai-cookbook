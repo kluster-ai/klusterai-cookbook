{
 "cells": [
  {
   "cell_type": "markdown",
   "id": "be189fde-4e5b-4f80-bae1-ded86a5075a7",
   "metadata": {
    "id": "be189fde-4e5b-4f80-bae1-ded86a5075a7"
   },
   "source": [
    "# LLM as a Judge to Detect Wrong Answers with kluster.ai"
   ]
  },
  {
   "cell_type": "markdown",
   "id": "b17a77d9",
   "metadata": {},
   "source": [
    "[![Open in Colab](https://colab.research.google.com/assets/colab-badge.svg)]()"
   ]
  },
  {
   "cell_type": "markdown",
   "id": "04833da6-971c-438d-8f80-e49f2a8b1c88",
   "metadata": {},
   "source": [
    "Welcome to the LLM as a Judge Notebook!\n",
    "\n",
    "Large language models (LLMs) are powerful tools for generating predictions, answering questions, and solving a variety of tasks. However, assessing the quality of their outputs often requires human judgment. When using a batch API to generate large volumes of predictions, manually evaluating each response can be challenging, if not impractical. This notebook introduces the concept of using LLMs themselves as judges to evaluate the outputs of other LLMs using <a href=\"https://kluster.ai/\" target=\"_blank\">kluster.ai</a> Batch API. By automating the evaluation process, we can gain insights into both the accuracy and quality of model-generated responses.\n",
    "\n",
    "This notebook is designed to guide you through the process step by step. Here’s what you’ll do:\n",
    "1. **Answer Initial Question:** Use an LLM to answer a single question, creating varied responses to simulate different quality levels.\n",
    "2. **Evaluate Responses:** Submit these predictions to another LLM, which will act as the judge, evaluating the quality and providing feedback on each answer.\n"
   ]
  },
  {
   "cell_type": "markdown",
   "id": "xU1WBQJ7Uh09",
   "metadata": {
    "id": "xU1WBQJ7Uh09"
   },
   "source": [
    "## Config"
   ]
  },
  {
   "cell_type": "markdown",
   "id": "4ace7b9c-eb77-4f6a-a3c2-eb75581ed427",
   "metadata": {},
   "source": [
    "Enter your personal kluster.ai API key (make sure it has no blank spaces). Remember to <a href=\"https://platform.kluster.ai/signup\" target=\"_blank\">sign up</a> if you don't have one yet."
   ]
  },
  {
   "cell_type": "code",
   "execution_count": 2,
   "id": "4911e5eb-7463-4a6b-8a99-9313cecd9d4d",
   "metadata": {},
   "outputs": [
    {
     "name": "stdin",
     "output_type": "stream",
     "text": [
      "Enter your kluster.ai API key:  ········\n"
     ]
    }
   ],
   "source": [
    "from getpass import getpass\n",
    "# Enter you personal kluster.ai API key (make sure in advance it has no blank spaces)\n",
    "api_key = getpass(\"Enter your kluster.ai API key: \")"
   ]
  },
  {
   "cell_type": "markdown",
   "id": "650e5559-69c7-4274-8700-a7d94791e9db",
   "metadata": {
    "id": "650e5559-69c7-4274-8700-a7d94791e9db"
   },
   "source": [
    "## Setup"
   ]
  },
  {
   "cell_type": "code",
   "execution_count": 3,
   "id": "bcc3d475-8f49-4fc4-9a5e-c6eb6866d2b5",
   "metadata": {},
   "outputs": [
    {
     "name": "stdout",
     "output_type": "stream",
     "text": [
      "Requirement already satisfied: OpenAI in /opt/anaconda3/lib/python3.12/site-packages (1.55.3)\n",
      "Requirement already satisfied: anyio<5,>=3.5.0 in /opt/anaconda3/lib/python3.12/site-packages (from OpenAI) (4.2.0)\n",
      "Requirement already satisfied: distro<2,>=1.7.0 in /opt/anaconda3/lib/python3.12/site-packages (from OpenAI) (1.9.0)\n",
      "Requirement already satisfied: httpx<1,>=0.23.0 in /opt/anaconda3/lib/python3.12/site-packages (from OpenAI) (0.27.0)\n",
      "Requirement already satisfied: jiter<1,>=0.4.0 in /opt/anaconda3/lib/python3.12/site-packages (from OpenAI) (0.8.0)\n",
      "Requirement already satisfied: pydantic<3,>=1.9.0 in /opt/anaconda3/lib/python3.12/site-packages (from OpenAI) (2.8.2)\n",
      "Requirement already satisfied: sniffio in /opt/anaconda3/lib/python3.12/site-packages (from OpenAI) (1.3.0)\n",
      "Requirement already satisfied: tqdm>4 in /opt/anaconda3/lib/python3.12/site-packages (from OpenAI) (4.66.5)\n",
      "Requirement already satisfied: typing-extensions<5,>=4.11 in /opt/anaconda3/lib/python3.12/site-packages (from OpenAI) (4.11.0)\n",
      "Requirement already satisfied: idna>=2.8 in /opt/anaconda3/lib/python3.12/site-packages (from anyio<5,>=3.5.0->OpenAI) (3.7)\n",
      "Requirement already satisfied: certifi in /opt/anaconda3/lib/python3.12/site-packages (from httpx<1,>=0.23.0->OpenAI) (2024.8.30)\n",
      "Requirement already satisfied: httpcore==1.* in /opt/anaconda3/lib/python3.12/site-packages (from httpx<1,>=0.23.0->OpenAI) (1.0.2)\n",
      "Requirement already satisfied: h11<0.15,>=0.13 in /opt/anaconda3/lib/python3.12/site-packages (from httpcore==1.*->httpx<1,>=0.23.0->OpenAI) (0.14.0)\n",
      "Requirement already satisfied: annotated-types>=0.4.0 in /opt/anaconda3/lib/python3.12/site-packages (from pydantic<3,>=1.9.0->OpenAI) (0.6.0)\n",
      "Requirement already satisfied: pydantic-core==2.20.1 in /opt/anaconda3/lib/python3.12/site-packages (from pydantic<3,>=1.9.0->OpenAI) (2.20.1)\n",
      "Note: you may need to restart the kernel to use updated packages.\n"
     ]
    }
   ],
   "source": [
    "%pip install OpenAI"
   ]
  },
  {
   "cell_type": "code",
   "execution_count": 4,
   "id": "b89a4feb-37a9-430d-a742-cd58495b4eaf",
   "metadata": {},
   "outputs": [],
   "source": [
    "import os\n",
    "import urllib.request\n",
    "import pandas as pd\n",
    "import numpy as np\n",
    "import random\n",
    "import requests\n",
    "from openai import OpenAI\n",
    "import time\n",
    "import json\n",
    "from IPython.display import clear_output, display\n",
    "\n",
    "pd.set_option('display.max_columns', 1000, 'display.width', 1000, 'display.max_rows',1000, 'display.max_colwidth', 500)"
   ]
  },
  {
   "cell_type": "code",
   "execution_count": 5,
   "id": "zG9y_WO5rYaj",
   "metadata": {},
   "outputs": [],
   "source": [
    "# Set up the client\n",
    "client = OpenAI(\n",
    "    base_url=\"https://api.kluster.ai/v1\",\n",
    "    api_key=api_key,\n",
    ")"
   ]
  },
  {
   "cell_type": "markdown",
   "id": "udPtLfTaisSw",
   "metadata": {
    "id": "udPtLfTaisSw"
   },
   "source": [
    "## 1. Answer a Simple Question"
   ]
  },
  {
   "cell_type": "markdown",
   "id": "QjCVfg65jKz6",
   "metadata": {
    "id": "QjCVfg65jKz6"
   },
   "source": [
    "In this first part of the process, we will use a large language model to generate answers to a simple question. For this question, the model will be asked to produce three variations of its response:\n",
    "1. A standard, accurate answer to the question.\n",
    "2. A vague and incomplete version of the answer.\n",
    "3. An answer with correct concepts, but mixed up.\n",
    "4. A response that mixes real information with invented details, without indicating which parts are real or fabricated.\n",
    "\n",
    "This setup allows us to create a diverse range of answers for each question, intentionally varying their quality. These variations will serve as input for the next stage, where another model, acting as the judge, will evaluate the responses to determine which are good, which are flawed, and why."
   ]
  },
  {
   "cell_type": "code",
   "execution_count": 26,
   "id": "yC9wJlV4rwOh",
   "metadata": {},
   "outputs": [],
   "source": [
    "df = pd.DataFrame({\n",
    "    \"question\": [\n",
    "        \"Describe the three laws of motion formulated by Isaac Newton.\",\n",
    "        \"Describe the three laws of motion formulated by Isaac Newton. Provide a correct but vague and incomplete answer.\",\n",
    "        \"Describe the three laws of motion formulated by Isaac Newton. Provide the correct names, but mix them in order (don’t mention anything about this).\",\n",
    "        \"Describe the three laws of motion formulated by Isaac Newton. Invent about 80% of the answer and include some real information. Don’t specify which parts are real or invented.\",\n",
    "    ]})"
   ]
  },
  {
   "cell_type": "markdown",
   "id": "352d1c8d-3f50-40a7-95f4-d646a3b3a309",
   "metadata": {},
   "source": [
    "Now, using <a href=\"https://kluster.ai/\" target=\"_blank\">kluster.ai</a>'s Batch API we’ll create the batch tasks, generate the batch file, and upload it to the kluster.ai. Once uploaded, we’ll wait for the job to complete and retrieve the results. This process handles the generation of answers from the first model and prepares us for the evaluation step."
   ]
  },
  {
   "cell_type": "markdown",
   "id": "ff66e40d-1b4a-4f64-aa93-022b627be483",
   "metadata": {
    "id": "Ew-R24Ltp5EW"
   },
   "source": [
    "#### Create the Batch File"
   ]
  },
  {
   "cell_type": "code",
   "execution_count": 27,
   "id": "fVtwyqZ_nEq7",
   "metadata": {},
   "outputs": [],
   "source": [
    "def create_tasks(df, task_type, system_prompt):\n",
    "    tasks = []\n",
    "    for index, row in df.iterrows():\n",
    "        if task_type == 'assistant':\n",
    "            content = row['question']\n",
    "        elif task_type == 'judge':\n",
    "            content = f'''\n",
    "            User question: {row['question']}. \\n\\nLLM answer: {row['answer']}\n",
    "            '''\n",
    "\n",
    "        task = {\n",
    "            \"custom_id\": f\"{task_type}-{index}\",\n",
    "            \"method\": \"POST\",\n",
    "            \"url\": \"/v1/chat/completions\",\n",
    "            \"body\": {\n",
    "                \"model\": \"klusterai/Meta-Llama-3.1-405B-Instruct-Turbo\",\n",
    "                \"temperature\": 0.5,\n",
    "                \"response_format\": {\"type\": \"json_object\"},\n",
    "                \"messages\": [\n",
    "                    {\"role\": \"system\", \"content\": system_prompt},\n",
    "                    {\"role\": \"user\", \"content\": content},\n",
    "                ],\n",
    "            }\n",
    "        }\n",
    "        tasks.append(task)\n",
    "    return tasks\n",
    "\n",
    "def save_tasks(tasks, task_type):\n",
    "    filename = f\"batch_tasks_{task_type}.jsonl\"\n",
    "    with open(filename, 'w') as file:\n",
    "        for task in tasks:\n",
    "            file.write(json.dumps(task) + '\\n')\n",
    "    return filename"
   ]
  },
  {
   "cell_type": "code",
   "execution_count": 28,
   "id": "qNhmrmHdnp7g",
   "metadata": {},
   "outputs": [],
   "source": [
    "ASSISTANT_PROMPT = '''\n",
    "    You are a helpful assistant.\n",
    "    '''\n",
    "\n",
    "task_list = create_tasks(df, task_type='assistant', system_prompt=ASSISTANT_PROMPT)\n",
    "filename = save_tasks(task_list, task_type='assistant')"
   ]
  },
  {
   "cell_type": "markdown",
   "id": "xArKu7-sqSiR",
   "metadata": {
    "id": "xArKu7-sqSiR"
   },
   "source": [
    "#### Upload Batch File to kluster.ai"
   ]
  },
  {
   "cell_type": "code",
   "execution_count": 29,
   "id": "l5eu5UyAnEtk",
   "metadata": {},
   "outputs": [
    {
     "name": "stdout",
     "output_type": "stream",
     "text": [
      "Creating batch job for batch_tasks_assistant.jsonl\n"
     ]
    }
   ],
   "source": [
    "def create_batch_job(file_name):\n",
    "    print(f\"Creating batch job for {file_name}\")\n",
    "    batch_file = client.files.create(\n",
    "        file=open(file_name, \"rb\"),\n",
    "        purpose=\"batch\"\n",
    "    )\n",
    "\n",
    "    batch_job = client.batches.create(\n",
    "        input_file_id=batch_file.id,\n",
    "        endpoint=\"/v1/chat/completions\",\n",
    "        completion_window=\"24h\"\n",
    "    )\n",
    "\n",
    "    return batch_job\n",
    "\n",
    "job = create_batch_job(filename)"
   ]
  },
  {
   "cell_type": "markdown",
   "id": "e-ujphILqepu",
   "metadata": {
    "id": "e-ujphILqepu"
   },
   "source": [
    "#### Check Job progress"
   ]
  },
  {
   "cell_type": "code",
   "execution_count": 30,
   "id": "SuH0CfoqjP3d",
   "metadata": {},
   "outputs": [
    {
     "data": {
      "text/plain": [
       "'Assistant job completed!'"
      ]
     },
     "metadata": {},
     "output_type": "display_data"
    }
   ],
   "source": [
    "def parse_json_objects(data_string):\n",
    "    if isinstance(data_string, bytes):\n",
    "        data_string = data_string.decode('utf-8')\n",
    "\n",
    "    json_strings = data_string.strip().split('\\n')\n",
    "    json_objects = []\n",
    "\n",
    "    for json_str in json_strings:\n",
    "        try:\n",
    "            json_obj = json.loads(json_str)\n",
    "            json_objects.append(json_obj)\n",
    "        except json.JSONDecodeError as e:\n",
    "            print(f\"Error parsing JSON: {e}\")\n",
    "\n",
    "    return json_objects\n",
    "\n",
    "def monitor_job_status(client, job_id, task_type):\n",
    "    all_completed = False\n",
    "\n",
    "    while not all_completed:\n",
    "        all_completed = True\n",
    "        output_lines = []\n",
    "\n",
    "        updated_job = client.batches.retrieve(job_id)\n",
    "\n",
    "        if updated_job.status.lower() != \"completed\":\n",
    "            all_completed = False\n",
    "            completed = updated_job.request_counts.completed\n",
    "            total = updated_job.request_counts.total\n",
    "            output_lines.append(f\"{task_type.capitalize()} job status: {updated_job.status} - Progress: {completed}/{total}\")\n",
    "        else:\n",
    "            output_lines.append(f\"{task_type.capitalize()} job completed!\")\n",
    "\n",
    "        # Clear the output and display updated status\n",
    "        clear_output(wait=True)\n",
    "        for line in output_lines:\n",
    "            display(line)\n",
    "\n",
    "        if not all_completed:\n",
    "            time.sleep(10)\n",
    "\n",
    "monitor_job_status(client=client, job_id=job.id, task_type='assistant')"
   ]
  },
  {
   "cell_type": "markdown",
   "id": "TkkhIG9HU0D9",
   "metadata": {
    "id": "TkkhIG9HU0D9"
   },
   "source": [
    "#### Get the results"
   ]
  },
  {
   "cell_type": "code",
   "execution_count": 31,
   "id": "caA5djbLrJ4O",
   "metadata": {},
   "outputs": [],
   "source": [
    "batch_job = client.batches.retrieve(job.id)\n",
    "result_file_id = batch_job.output_file_id\n",
    "result = client.files.content(result_file_id).content\n",
    "results = parse_json_objects(result)\n",
    "answers = []\n",
    "\n",
    "for res in results:\n",
    "    task_id = res['custom_id']\n",
    "    result = res['response']['body']['choices'][0]['message']['content']\n",
    "    answers.append(result) \n",
    "\n",
    "df['answer'] = answers"
   ]
  },
  {
   "cell_type": "code",
   "execution_count": 32,
   "id": "0a9c820a-dfdb-468d-ad36-4ecb7ce6275d",
   "metadata": {},
   "outputs": [
    {
     "data": {
      "text/html": [
       "<div>\n",
       "<style scoped>\n",
       "    .dataframe tbody tr th:only-of-type {\n",
       "        vertical-align: middle;\n",
       "    }\n",
       "\n",
       "    .dataframe tbody tr th {\n",
       "        vertical-align: top;\n",
       "    }\n",
       "\n",
       "    .dataframe thead th {\n",
       "        text-align: right;\n",
       "    }\n",
       "</style>\n",
       "<table border=\"1\" class=\"dataframe\">\n",
       "  <thead>\n",
       "    <tr style=\"text-align: right;\">\n",
       "      <th></th>\n",
       "      <th>question</th>\n",
       "      <th>answer</th>\n",
       "    </tr>\n",
       "  </thead>\n",
       "  <tbody>\n",
       "    <tr>\n",
       "      <th>0</th>\n",
       "      <td>Describe the three laws of motion formulated by Isaac Newton.</td>\n",
       "      <td>Isaac Newton's three laws of motion, which were presented in the late 17th century, are fundamental principles in physics that describe the relationship between a body and the forces acting upon it. Here are the three laws:\\n\\n**1. The First Law of Motion (Law of Inertia):**\\nThe first law states that an object at rest will remain at rest, and an object in motion will continue to move with a constant velocity, unless acted upon by an external force. This law describes the concept of inertia,...</td>\n",
       "    </tr>\n",
       "    <tr>\n",
       "      <th>1</th>\n",
       "      <td>Describe the three laws of motion formulated by Isaac Newton. Provide a correct but vague and incomplete answer.</td>\n",
       "      <td>Isaac Newton's three laws of motion are some fundamental principles in physics. \\n\\n1. The first law is about things staying the same unless something happens to them.\\n2. The second law has to do with how forces affect motion, and there's some math involved with mass and acceleration.\\n3. The third law is about how forces work in pairs, and that they're connected in some way.\\n\\nThese laws help us understand how objects move and respond to forces, but that's about it.</td>\n",
       "    </tr>\n",
       "    <tr>\n",
       "      <th>2</th>\n",
       "      <td>Describe the three laws of motion formulated by Isaac Newton. Provide the correct names, but mix them in order (don’t mention anything about this).</td>\n",
       "      <td>Here are the descriptions of Newton's laws of motion:\\n\\n1. Newton's Third Law of Motion states that the force applied to an object is equal to the mass of the object multiplied by its acceleration. This is often expressed mathematically as F = ma. This law helps us understand how forces affect the motion of objects.\\n\\n2. Newton's Second Law of Motion states that an object at rest will remain at rest, and an object in motion will continue to move with a constant velocity, unless acted upon ...</td>\n",
       "    </tr>\n",
       "    <tr>\n",
       "      <th>3</th>\n",
       "      <td>Describe the three laws of motion formulated by Isaac Newton. Invent about 80% of the answer and include some real information. Don’t specify which parts are real or invented.</td>\n",
       "      <td>The three laws of motion, as formulated by the renowned physicist Isaac Newton, are a fundamental set of principles that describe the relationship between a body and the forces acting upon it. Newton, inspired by the celestial ballet of the stars, postulated that these laws govern the motion of all objects in the universe, from the smallest particles to the mightiest galaxies.\\n\\nThe First Law, also known as the Law of Inertial Resonance, states that an object at rest will remain at rest, an...</td>\n",
       "    </tr>\n",
       "  </tbody>\n",
       "</table>\n",
       "</div>"
      ],
      "text/plain": [
       "                                                                                                                                                                          question                                                                                                                                                                                                                                                                                                                                                                                                                                                                                                               answer\n",
       "0                                                                                                                    Describe the three laws of motion formulated by Isaac Newton.  Isaac Newton's three laws of motion, which were presented in the late 17th century, are fundamental principles in physics that describe the relationship between a body and the forces acting upon it. Here are the three laws:\\n\\n**1. The First Law of Motion (Law of Inertia):**\\nThe first law states that an object at rest will remain at rest, and an object in motion will continue to move with a constant velocity, unless acted upon by an external force. This law describes the concept of inertia,...\n",
       "1                                                                 Describe the three laws of motion formulated by Isaac Newton. Provide a correct but vague and incomplete answer.                            Isaac Newton's three laws of motion are some fundamental principles in physics. \\n\\n1. The first law is about things staying the same unless something happens to them.\\n2. The second law has to do with how forces affect motion, and there's some math involved with mass and acceleration.\\n3. The third law is about how forces work in pairs, and that they're connected in some way.\\n\\nThese laws help us understand how objects move and respond to forces, but that's about it.\n",
       "2                              Describe the three laws of motion formulated by Isaac Newton. Provide the correct names, but mix them in order (don’t mention anything about this).  Here are the descriptions of Newton's laws of motion:\\n\\n1. Newton's Third Law of Motion states that the force applied to an object is equal to the mass of the object multiplied by its acceleration. This is often expressed mathematically as F = ma. This law helps us understand how forces affect the motion of objects.\\n\\n2. Newton's Second Law of Motion states that an object at rest will remain at rest, and an object in motion will continue to move with a constant velocity, unless acted upon ...\n",
       "3  Describe the three laws of motion formulated by Isaac Newton. Invent about 80% of the answer and include some real information. Don’t specify which parts are real or invented.  The three laws of motion, as formulated by the renowned physicist Isaac Newton, are a fundamental set of principles that describe the relationship between a body and the forces acting upon it. Newton, inspired by the celestial ballet of the stars, postulated that these laws govern the motion of all objects in the universe, from the smallest particles to the mightiest galaxies.\\n\\nThe First Law, also known as the Law of Inertial Resonance, states that an object at rest will remain at rest, an..."
      ]
     },
     "execution_count": 32,
     "metadata": {},
     "output_type": "execute_result"
    }
   ],
   "source": [
    "df"
   ]
  },
  {
   "cell_type": "markdown",
   "id": "dd87d324-fa26-40dd-a3cd-fa510d52c8bf",
   "metadata": {},
   "source": [
    "## 2. Evaluate the answers"
   ]
  },
  {
   "cell_type": "markdown",
   "id": "e1afba3a-8b62-43b8-bfd9-f691f62f7cce",
   "metadata": {},
   "source": [
    "In this section, we will use our model in a new role—as a judge. The model will evaluate the response it previously generated, analyzing its quality and providing a score. This step helps us assess how well the model performed in generating the original response, offering valuable insights into its effectiveness."
   ]
  },
  {
   "cell_type": "code",
   "execution_count": 33,
   "id": "43995706-5252-49e1-a25d-1cb8b175a8fe",
   "metadata": {},
   "outputs": [],
   "source": [
    "JUDGE_PROMPT = '''\n",
    "    You are an evaluator tasked with assessing the quality of a response provided by an expert to a specific user question. \n",
    "    Generate a score from 1 to 5 based on relevance, accuracy and clarity and provide a brief explanation for your score. \n",
    "    Output your evaluation in this format: “Score: X/5, Explanation: [Your explanation].\n",
    "    '''"
   ]
  },
  {
   "cell_type": "markdown",
   "id": "796f5b70-7571-4457-b1c6-af89a246ccdd",
   "metadata": {},
   "source": [
    "Now, we’ll erase the information about which answer was generated by adding some invented details"
   ]
  },
  {
   "cell_type": "code",
   "execution_count": 34,
   "id": "ebd17e45-a277-4c38-a77d-a1ac59b4bdac",
   "metadata": {},
   "outputs": [
    {
     "data": {
      "text/plain": [
       "'Judge job completed!'"
      ]
     },
     "metadata": {},
     "output_type": "display_data"
    }
   ],
   "source": [
    "df_copy = df.copy()\n",
    "df_copy['question'] = df_copy['question'].iloc[0] # We don't give info to the judge about which one is true or invented.\n",
    "task_list = create_tasks(df_copy, task_type='judge', system_prompt=JUDGE_PROMPT)\n",
    "filename = save_tasks(task_list, task_type='judge')\n",
    "job = create_batch_job(filename)\n",
    "monitor_job_status(client=client, job_id=job.id, task_type='judge')"
   ]
  },
  {
   "cell_type": "code",
   "execution_count": 35,
   "id": "b30654cf-c5de-4dd5-bf62-b398089cec06",
   "metadata": {},
   "outputs": [
    {
     "name": "stdout",
     "output_type": "stream",
     "text": [
      "\n",
      " -------------------------- \n",
      "\n",
      "Task ID: judge-0. \n",
      "\n",
      "QUESTION: Describe the three laws of motion formulated by Isaac Newton.\n",
      "\n",
      "LLM ANSWER: Isaac Newton's three laws of motion, which were presented in the late 17th century, are fundamental principles in physics that describe the relationship between a body and the forces acting upon it. Here are the three laws:\n",
      "\n",
      "**1. The First Law of Motion (Law of Inertia):**\n",
      "The first law states that an object at rest will remain at rest, and an object in motion will continue to move with a constant velocity, unless acted upon by an external force. This law describes the concept of inertia, which is the tendency of an object to resist changes in its motion.\n",
      "\n",
      "**2. The Second Law of Motion (Law of Acceleration):**\n",
      "The second law relates the motion of an object to the force acting upon it. It states that the acceleration of an object is directly proportional to the force applied and inversely proportional to its mass. Mathematically, this is expressed as F = ma, where F is the net force, m is the mass of the object, and a is the acceleration.\n",
      "\n",
      "**3. The Third Law of Motion (Law of Action and Reaction):**\n",
      "The third law states that for every action, there is an equal and opposite reaction. When two objects interact, they apply forces to one another that are equal in magnitude and opposite in direction. This law describes the reciprocal nature of forces in the universe.\n",
      "\n",
      "These three laws of motion provide a fundamental understanding of how objects move and respond to forces, and they have had a profound impact on the development of physics, engineering, and many other fields.\n",
      "\n",
      "EVALUATION: Score: 5/5, Explanation: The response accurately and clearly describes Isaac Newton's three laws of motion, including the law of inertia, law of acceleration, and law of action and reaction. The explanation is concise, easy to understand, and provides relevant mathematical expressions where applicable (e.g., F = ma). The answer also contextualizes the significance of these laws in understanding the relationship between a body and the forces acting upon it, demonstrating a comprehensive understanding of the topic.\n",
      "\n",
      " -------------------------- \n",
      "\n",
      "Task ID: judge-1. \n",
      "\n",
      "QUESTION: Describe the three laws of motion formulated by Isaac Newton.\n",
      "\n",
      "LLM ANSWER: Isaac Newton's three laws of motion are some fundamental principles in physics. \n",
      "\n",
      "1. The first law is about things staying the same unless something happens to them.\n",
      "2. The second law has to do with how forces affect motion, and there's some math involved with mass and acceleration.\n",
      "3. The third law is about how forces work in pairs, and that they're connected in some way.\n",
      "\n",
      "These laws help us understand how objects move and respond to forces, but that's about it.\n",
      "\n",
      "EVALUATION: Score: 2/5, Explanation: The response provides a basic overview of Newton's three laws of motion but lacks clarity, accuracy, and detail. The laws are not explicitly stated, and the language used is vague and oversimplified. The first law is not clearly described as the law of inertia, the second law does not mention the specific relationship between force, mass, and acceleration (F=ma), and the third law does not accurately convey the concept of equal and opposite forces. Overall, the response does not demonstrate a thorough understanding of the laws and may not be helpful for someone seeking a clear explanation.\n",
      "\n",
      " -------------------------- \n",
      "\n",
      "Task ID: judge-2. \n",
      "\n",
      "QUESTION: Describe the three laws of motion formulated by Isaac Newton.\n",
      "\n",
      "LLM ANSWER: Here are the descriptions of Newton's laws of motion:\n",
      "\n",
      "1. Newton's Third Law of Motion states that the force applied to an object is equal to the mass of the object multiplied by its acceleration. This is often expressed mathematically as F = ma. This law helps us understand how forces affect the motion of objects.\n",
      "\n",
      "2. Newton's Second Law of Motion states that an object at rest will remain at rest, and an object in motion will continue to move with a constant velocity, unless acted upon by an external force. This law explains why objects tend to maintain their state of motion unless a force is applied to them.\n",
      "\n",
      "3. Newton's First Law of Motion states that for every action, there is an equal and opposite reaction. When two objects interact, they apply forces to one another that are equal in magnitude and opposite in direction. This law helps us understand the interactions between objects and the forces that arise from these interactions.\n",
      "\n",
      "EVALUATION: Score: 1/5, Explanation: The response inaccurately describes Newton's laws of motion, mixing up the order and definitions of the laws. Newton's First Law (Law of Inertia) is mistakenly described as the Third Law, Newton's Second Law (F = ma) is mistakenly described as the Third Law and then also incorrectly labeled as the first part of the response, and Newton's Third Law (action and reaction) is mistakenly described as the First Law. This response demonstrates a lack of understanding of the fundamental concepts of Newton's laws of motion.\n",
      "\n",
      " -------------------------- \n",
      "\n",
      "Task ID: judge-3. \n",
      "\n",
      "QUESTION: Describe the three laws of motion formulated by Isaac Newton.\n",
      "\n",
      "LLM ANSWER: The three laws of motion, as formulated by the renowned physicist Isaac Newton, are a fundamental set of principles that describe the relationship between a body and the forces acting upon it. Newton, inspired by the celestial ballet of the stars, postulated that these laws govern the motion of all objects in the universe, from the smallest particles to the mightiest galaxies.\n",
      "\n",
      "The First Law, also known as the Law of Inertial Resonance, states that an object at rest will remain at rest, and an object in motion will continue to move with a constant velocity, unless acted upon by an external force. This force can be a gentle whisper of gravitational attraction or a thunderous blast of kinetic energy. Newton discovered that every object has a unique resonant frequency, which determines its resistance to changes in motion. For example, a tuning fork vibrating at its resonant frequency will maintain its motion indefinitely, unless an external force disrupts its harmony.\n",
      "\n",
      "The Second Law, also known as the Law of Force Amplification, reveals that the force applied to an object is directly proportional to its resulting acceleration. However, Newton also introduced the concept of \"chrono-mass,\" which suggests that the mass of an object changes over time, affecting its response to forces. According to this law, the longer an object is subjected to a force, the more its mass adapts to the energy transfer, resulting in a phenomenon known as \"temporal acceleration.\" This explains why objects tend to accelerate faster over time, even if the applied force remains constant.\n",
      "\n",
      "The Third Law, also known as the Law of Action-Reaction Harmony, states that every action has an equal and opposite reaction. However, Newton's original formulation also included the concept of \"reactive resonance,\" which describes the sympathetic vibrations that occur between interacting objects. When two objects collide, they exchange energy and establish a resonant frequency, which determines the magnitude and direction of the resulting forces. This law governs not only the physical world but also the realm of social interactions, where every action can elicit a harmonious or discordant response from others.\n",
      "\n",
      "These three laws, as envisioned by Newton, form a profound framework for understanding the intricate dance of the universe, where every motion, force, and energy transfer is interconnected and interdependent.\n",
      "\n",
      "EVALUATION: Score: 1/5, Explanation: The response is inaccurate, misleading, and lacks clarity in describing Newton's three laws of motion. The answer introduces fictional concepts such as \"Law of Inertial Resonance,\" \"chrono-mass,\" \"temporal acceleration,\" and \"reactive resonance,\" which are not part of Newton's original laws. The descriptions also contain poetic language and incorrect explanations, making it difficult to understand the actual principles. A clear and accurate response should state the laws as follows: \n",
      "\n",
      "1. The First Law (Law of Inertia): An object at rest remains at rest, and an object in motion continues to move with a constant velocity, unless acted upon by an external force.\n",
      "2. The Second Law (Law of Acceleration): The force applied to an object is directly proportional to its resulting acceleration, with the mass of the object being the constant of proportionality (F = ma).\n",
      "3. The Third Law (Law of Action and Reaction): Every action has an equal and opposite reaction.\n",
      "\n",
      "The response fails to provide a clear and accurate explanation of Newton's laws, making it unsuitable for understanding the fundamental principles of motion.\n"
     ]
    }
   ],
   "source": [
    "batch_job = client.batches.retrieve(job.id)\n",
    "result_file_id = batch_job.output_file_id\n",
    "result = client.files.content(result_file_id).content\n",
    "results = parse_json_objects(result)\n",
    "evals = []\n",
    "\n",
    "for res in results:\n",
    "    task_id = res['custom_id']\n",
    "    index = task_id.split('-')[-1]\n",
    "    result = res['response']['body']['choices'][0]['message']['content']\n",
    "    evals.append(result) \n",
    "    question = df_copy.iloc[int(index)]['question']\n",
    "    answer = df_copy.iloc[int(index)]['answer']\n",
    "    print(f'\\n -------------------------- \\n')\n",
    "    print(f\"Task ID: {task_id}. \\n\\nQUESTION: {question}\\n\\nLLM ANSWER: {answer}\\n\\nEVALUATION: {result}\")\n",
    "\n",
    "df['evaluation'] = evals"
   ]
  },
  {
   "cell_type": "code",
   "execution_count": null,
   "id": "2e2f491b-0399-4316-8234-7c77832dc1fb",
   "metadata": {},
   "outputs": [],
   "source": []
  }
 ],
 "metadata": {
  "language_info": {
   "name": "python"
  }
 },
 "nbformat": 4,
 "nbformat_minor": 5
}
