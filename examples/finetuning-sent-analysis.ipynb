{
 "cells": [
  {
   "cell_type": "markdown",
   "id": "be189fde-4e5b-4f80-bae1-ded86a5075a7",
   "metadata": {
    "id": "be189fde-4e5b-4f80-bae1-ded86a5075a7"
   },
   "source": [
    "# Fine-tuning models with the kluster.ai API"
   ]
  },
  {
   "cell_type": "markdown",
   "id": "b17a77d9",
   "metadata": {
    "id": "b17a77d9"
   },
   "source": [
    "[![Open in Colab](https://colab.research.google.com/assets/colab-badge.svg)](https://colab.research.google.com/github/kluster-ai/klusterai-cookbook/blob/main/examples/finetuning-sent-analysis.ipynb)"
   ]
  },
  {
   "cell_type": "markdown",
   "id": "1176978c-51e6-4f4a-8972-63a20f00a70c",
   "metadata": {
    "id": "1176978c-51e6-4f4a-8972-63a20f00a70c"
   },
   "source": [
    "## Introduction\n",
    "\n",
    "Fine-tuning is the process of customizing an existing model using new data to improve performance on a specific task. Fine-tuning can offer valuable benefits: it can significantly improve performance for your specific use case and sometimes rival the results of more expensive, general-purpose models.\n",
    "\n",
    "This tutorial runs through a notebook where you'll learn how to train a sentiment analysis model tailored to your data using <a href=\"https://kluster.ai/\" target=\"_blank\">kluster.ai</a>. We'll walk through each step of the fine-tuning process, covering dataset setup, environment configuration, and batch inference. \n",
    "\n",
    "The example uses a dataset containing various financial news headlines, labeled positive, negative, or neutral regarding the beneficial impact of a company's stock.\n",
    "\n",
    "By following along, you'll discover how to leverage kluster.ai's powerful platform to create a custom model that boosts accuracy for financial text analysis and beyond."
   ]
  }, 
  {
  "cell_type": "markdown",
  "id": "video-demo-cell",
  "metadata": {
    "id": "video-demo-cell"
  },
  "source": [
    "\n",
    "For a video version of this tutorial, see the YouTube video below.\n",
    "\n",
    "<style>.embed-container { position: relative; padding-bottom: 56.25%; height: 0; overflow: hidden; max-width: 100%; } .embed-container iframe, .embed-container object, .embed-container embed { position: absolute; top: 0; left: 0; width: 100%; height: 100%; }</style>\n",
    "<div class=\"embed-container\">\n",
    "<iframe width=\"560\" height=\"315\" src=\"https://www.youtube.com/embed/k5ziNToxPz8?si=6Ye4VWzhnarArAJu\" title=\"YouTube video player\" frameborder=\"0\" allow=\"accelerometer; autoplay; clipboard-write; encrypted-media; gyroscope; picture-in-picture; web-share\" referrerpolicy=\"strict-origin-when-cross-origin\" allowfullscreen></iframe>\n",
    "</div>\n",
    "<style>.caption { font-family: Open Sans, sans-serif; font-size: 0.9em; color: rgba(170, 170, 170, 1); font-style: italic; letter-spacing: 0px; position: relative;}</style>"
  ]
  },
  {
   "cell_type": "markdown",
   "id": "41ea62a1",
   "metadata": {
    "id": "41ea62a1"
   },
   "source": [
    "## Prerequisites"
   ]
  },
  {
   "cell_type": "markdown",
   "id": "83111fd4",
   "metadata": {
    "id": "83111fd4"
   },
   "source": [
    "Before getting started, ensure you have the following:\n",
    "\n",
    "- **A kluster.ai account** - sign up on the <a href=\"https://platform.kluster.ai/signup\" target=\"_blank\">kluster.ai platform</a> if you don't have one\n",
    "- **A kluster.ai API key** - after signing in, go to the <a href=\"https://platform.kluster.ai/apikeys\" target=\"_blank\">**API Keys**</a> section and create a new key. For detailed instructions, check out the <a href=\"/get-started/get-api-key/\" target=\"_blank\">Get an API key</a> guide"
   ]
  },
  {
   "cell_type": "markdown",
   "id": "xU1WBQJ7Uh09",
   "metadata": {
    "id": "xU1WBQJ7Uh09"
   },
   "source": [
    "## Setup"
   ]
  },
  {
   "cell_type": "markdown",
   "id": "b8d580f8-67d5-45d6-915f-0f6b60d3b543",
   "metadata": {
    "id": "b8d580f8-67d5-45d6-915f-0f6b60d3b543"
   },
   "source": [
    "In this notebook, we'll use Python's `getpass` module to input the key safely. After execution, please provide your unique kluster.ai API key (ensure no spaces)."
   ]
  },
  {
   "cell_type": "code",
   "execution_count": 1,
   "id": "4911e5eb-7463-4a6b-8a99-9313cecd9d4d",
   "metadata": {
    "colab": {
     "base_uri": "https://localhost:8080/"
    },
    "id": "4911e5eb-7463-4a6b-8a99-9313cecd9d4d",
    "outputId": "3b1d8a3f-a10f-4ed1-c516-fa424f67e246"
   },
   "outputs": [
    {
     "name": "stdout",
     "output_type": "stream",
     "text": [
      "Enter your kluster.ai API key:  ········\n"
     ]
    }
   ],
   "source": [
    "from getpass import getpass\n",
    "\n",
    "api_key = getpass(\"Enter your kluster.ai API key: \")"
   ]
  },
  {
   "cell_type": "markdown",
   "id": "7caa7763-e3d6-45bc-a662-03eb6ff73939",
   "metadata": {},
   "source": [
    "Next, ensure you've installed OpenAI Python and `scikit-learn` libraries. `scikit-learn` is used to split data for training/testing purposes:"
   ]
  },
  {
   "cell_type": "code",
   "execution_count": 2,
   "id": "bcc3d475-8f49-4fc4-9a5e-c6eb6866d2b5",
   "metadata": {
    "id": "bcc3d475-8f49-4fc4-9a5e-c6eb6866d2b5"
   },
   "outputs": [
    {
     "name": "stdout",
     "output_type": "stream",
     "text": [
      "Note: you may need to restart the kernel to use updated packages.\n"
     ]
    }
   ],
   "source": [
    "%pip install -q openai scikit-learn"
   ]
  },
  {
   "cell_type": "markdown",
   "id": "788f3703-e0a6-46a6-80fe-fc202424492d",
   "metadata": {},
   "source": [
    "With the OpenAI Python library installed, we import the necessary dependencies for the tutorial:"
   ]
  },
  {
   "cell_type": "code",
   "execution_count": 3,
   "id": "6af45325-7087-49fe-b32b-0ff1d6537af7",
   "metadata": {
    "id": "6af45325-7087-49fe-b32b-0ff1d6537af7"
   },
   "outputs": [],
   "source": [
    "import urllib.request\n",
    "import pandas as pd\n",
    "from openai import OpenAI\n",
    "import time\n",
    "import json\n",
    "import matplotlib.pyplot as plt\n",
    "import os\n",
    "import requests\n",
    "from IPython.display import clear_output, display\n",
    "pd.set_option('display.max_columns', 1000, 'display.width', 1000, 'display.max_rows',1000, 'display.max_colwidth', 500)\n"
   ]
  },
  {
   "cell_type": "markdown",
   "id": "48edba4e-7219-484a-a15d-134d6b09855f",
   "metadata": {},
   "source": [
    "And then, initialize the `client` by pointing it to the kluster.ai endpoint, and passing your API key."
   ]
  },
  {
   "cell_type": "code",
   "execution_count": 4,
   "id": "44a6f805-1c74-48a5-8572-0a5fb2c48286",
   "metadata": {
    "id": "44a6f805-1c74-48a5-8572-0a5fb2c48286"
   },
   "outputs": [],
   "source": [
    "# Set up the client\n",
    "client = OpenAI(\n",
    "    base_url=\"https://api.kluster.ai/v1\",\n",
    "    api_key=api_key,\n",
    ")"
   ]
  },
  {
   "cell_type": "markdown",
   "id": "fb8c5014-5b0c-43c2-a238-073dbde2d90a",
   "metadata": {
    "id": "fb8c5014-5b0c-43c2-a238-073dbde2d90a"
   },
   "source": [
    "## Get the data\n",
    "\n",
    "This dataset contains a variety of financial news headlines, each labeled as positive, negative, or neutral. In this context, positive indicates a beneficial impact on the company’s stock, negative suggests a detrimental impact, and neutral implies no significant change is expected.\n",
    "\n",
    "This example provides a dataset of 4846 labeled financial headlines. For a faster-running example, we will select only a portion of the data, though this will impact the effectiveness of the fine-tuning process. The kluster.ai platform requires a minimum of 10 examples.\n",
    "\n",
    "The data will be split 30%-70%, with 30% used for training and 70% for verification (to help with speed as well)."
   ]
  },
  {
   "cell_type": "code",
   "execution_count": 5,
   "id": "yC9wJlV4rwOh",
   "metadata": {
    "colab": {
     "base_uri": "https://localhost:8080/",
     "height": 160
    },
    "id": "yC9wJlV4rwOh",
    "outputId": "5a81b6f5-05af-46c8-c1c2-47c4d760d509"
   },
   "outputs": [
    {
     "data": {
      "text/html": [
       "<div>\n",
       "<style scoped>\n",
       "    .dataframe tbody tr th:only-of-type {\n",
       "        vertical-align: middle;\n",
       "    }\n",
       "\n",
       "    .dataframe tbody tr th {\n",
       "        vertical-align: top;\n",
       "    }\n",
       "\n",
       "    .dataframe thead th {\n",
       "        text-align: right;\n",
       "    }\n",
       "</style>\n",
       "<table border=\"1\" class=\"dataframe\">\n",
       "  <thead>\n",
       "    <tr style=\"text-align: right;\">\n",
       "      <th></th>\n",
       "      <th>sentiment</th>\n",
       "      <th>text</th>\n",
       "    </tr>\n",
       "  </thead>\n",
       "  <tbody>\n",
       "    <tr>\n",
       "      <th>0</th>\n",
       "      <td>neutral</td>\n",
       "      <td>According to Gran , the company has no plans to move all production to Russia , although that is where the company is growing .</td>\n",
       "    </tr>\n",
       "    <tr>\n",
       "      <th>1</th>\n",
       "      <td>neutral</td>\n",
       "      <td>Technopolis plans to develop in stages an area of no less than 100,000 square meters in order to host companies working in computer technologies and telecommunications , the statement said .</td>\n",
       "    </tr>\n",
       "    <tr>\n",
       "      <th>2</th>\n",
       "      <td>negative</td>\n",
       "      <td>The international electronic industry company Elcoteq has laid off tens of employees from its Tallinn facility ; contrary to earlier layoffs the company contracted the ranks of its office workers , the daily Postimees reported .</td>\n",
       "    </tr>\n",
       "  </tbody>\n",
       "</table>\n",
       "</div>"
      ],
      "text/plain": [
       "  sentiment                                                                                                                                                                                                                                  text\n",
       "0   neutral                                                                                                       According to Gran , the company has no plans to move all production to Russia , although that is where the company is growing .\n",
       "1   neutral                                        Technopolis plans to develop in stages an area of no less than 100,000 square meters in order to host companies working in computer technologies and telecommunications , the statement said .\n",
       "2  negative  The international electronic industry company Elcoteq has laid off tens of employees from its Tallinn facility ; contrary to earlier layoffs the company contracted the ranks of its office workers , the daily Postimees reported ."
      ]
     },
     "execution_count": 5,
     "metadata": {},
     "output_type": "execute_result"
    }
   ],
   "source": [
    "url = \"https://raw.githubusercontent.com/kluster-ai/klusterai-cookbook/main/data/financial-phrasebank.csv\"\n",
    "urllib.request.urlretrieve(url,filename='financial-phrasebank.csv')\n",
    "\n",
    "# Load and process the dataset based on URL content\n",
    "df = pd.read_csv('financial-phrasebank.csv', encoding = \"ISO-8859-1\",header=None, names=[\"sentiment\", \"text\"])\n",
    "\n",
    "# For a faster running example, adjust the variable below to select a smaller subset of financial training content\n",
    "df = df.iloc[:1500]\n",
    "df.head(3)"
   ]
  },
  {
   "cell_type": "markdown",
   "id": "0a03d805-0d59-42ce-ac2a-4f9beacd639b",
   "metadata": {
    "id": "0a03d805-0d59-42ce-ac2a-4f9beacd639b"
   },
   "source": [
    "### Split data into train/test for fine-tuning"
   ]
  },
  {
   "cell_type": "markdown",
   "id": "MzyehWgLQuAq",
   "metadata": {
    "id": "MzyehWgLQuAq"
   },
   "source": [
    "Next, let's split the data into training and testing datasets (to be used later). In this example, 70% of the data points are used for training, while only 30% for testing the model after fine-tuning it."
   ]
  },
  {
   "cell_type": "code",
   "execution_count": 6,
   "id": "de8b2580-43ba-438f-8aab-4916a4c1fb70",
   "metadata": {
    "id": "de8b2580-43ba-438f-8aab-4916a4c1fb70"
   },
   "outputs": [],
   "source": [
    "from sklearn.model_selection import train_test_split\n",
    "# Split into train and test sets\n",
    "train_df, test_df = train_test_split(df, test_size=0.7, random_state=42)"
   ]
  },
  {
   "cell_type": "code",
   "execution_count": 7,
   "id": "cb5b6d85-aea0-4c77-97d5-a8cb007fa43c",
   "metadata": {
    "colab": {
     "base_uri": "https://localhost:8080/"
    },
    "id": "cb5b6d85-aea0-4c77-97d5-a8cb007fa43c",
    "outputId": "0aa17cdf-53ff-444e-c2ac-771cf5d475c5"
   },
   "outputs": [
    {
     "name": "stdout",
     "output_type": "stream",
     "text": [
      "The amount of data points for training: 450\n",
      "The amount of data points for testing: 1050\n",
      "Total data points: 1500\n"
     ]
    }
   ],
   "source": [
    "print(\"The amount of data points for training:\", len(train_df))\n",
    "print(\"The amount of data points for testing:\", len(test_df))\n",
    "print(\"Total data points:\", len(train_df) + len(test_df))"
   ]
  },
  {
   "cell_type": "markdown",
   "id": "8ebefac4-cb4c-4e75-af96-c827b5668188",
   "metadata": {
    "id": "8ebefac4-cb4c-4e75-af96-c827b5668188"
   },
   "source": [
    "## Fine-tuning the model"
   ]
  },
  {
   "cell_type": "markdown",
   "id": "QMXyZoDINlBC",
   "metadata": {
    "id": "QMXyZoDINlBC"
   },
   "source": [
    "Fine-tuning is adjusting a pre-trained model with new, domain-specific data to enhance performance for a specific task. This typically reduces training time and costs compared to training from scratch. It can allow smaller, fine-tuned models to match or rival the performance of larger, general models that haven’t been fine-tuned.\n",
    "\n",
    "To fine-tune a model, we'll take the following steps:\n",
    "\n",
    "1. **Create the training data file** - we'll generate a JSON lines file with the training data that contains the data and ground truth\n",
    "2. **Upload the training data file** - once it is ready, we'll upload it to the <a href=\"https://platform.kluster.ai/signup\" target=\"_blank\">kluster.ai platform</a> using the API, where it will be processed. We'll receive a unique ID associated with our file\n",
    "3. **Create fine-tuning job** - after the file is uploaded, we'll initiate the fine-tuning job, using the file ID obtained before\n",
    "4. **Monitor job progress** - (optional) track the status of the fine-tuning job to ensure it has been successfully completed\n",
    "5. **Retrieve results** - once the job has completed execution, we will get a fine-tuned model that we can use\n",
    "\n",
    "This notebook is prepared for you to follow along. Run the cells below to watch it all come together.\n",
    "\n",
    "### Create the training data file\n",
    "\n",
    "This example uses `klusterai/Meta-Llama-3.1-8B-Instruct-Turbo` as the model to fine-tune. We will later compare the fine-tuned model against the larger `klusterai/Meta-Llama-3.3-70B-Instruct-Turbo` model to see how it performs.\n",
    "\n",
    "Please refer to the <a href=\"/get-started/models/\" target=\"_blank\">Supported models</a> section for a list of the models we support for fine-tuning.\n",
    "\n",
    "The following snippets prepare the JSONL file, where each line represents a different training data point."
   ]
  },
  {
   "cell_type": "code",
   "execution_count": 8,
   "id": "f4903010-b32f-47d0-9a01-6be8e0938328",
   "metadata": {
    "id": "f4903010-b32f-47d0-9a01-6be8e0938328"
   },
   "outputs": [],
   "source": [
    "SYSTEM_PROMPT = '''\n",
    "    You are a helpful assistant specializing in determining the sentiment of financial news.\n",
    "    Analyze the following text regarding financial information and assign one of the following labels to indicate its sentiment: positive, negative, or neutral.\n",
    "    Provide your response as a single word without any punctuation.\n",
    "    '''\n",
    "\n",
    "# Ensure the directory exists\n",
    "os.makedirs(\"fine_tuning\", exist_ok=True)\n",
    "\n",
    "# Create the messages file with the prompt, content, and sentiment for training\n",
    "def create_messages_file(train_df):\n",
    "    messages_list = []\n",
    "    for index, row in train_df.iterrows():\n",
    "        content = row['text']\n",
    "        sentiment = row['sentiment']\n",
    "\n",
    "        # Create the message structure\n",
    "        messages = {\n",
    "                \"messages\": [\n",
    "                    {\"role\": \"system\", \"content\": SYSTEM_PROMPT},\n",
    "                    {\"role\": \"user\", \"content\": content},\n",
    "                    {\"role\": \"assistant\", \"content\": sentiment}\n",
    "                ],\n",
    "            }\n",
    "        \n",
    "        messages_list.append(messages)\n",
    "        \n",
    "    return messages_list\n",
    "\n",
    "# Save file\n",
    "def save_messages_file(messages_list):\n",
    "    filename = f\"fine_tuning/request.jsonl\"\n",
    "    with open(filename, 'w') as file:\n",
    "        for messages in messages_list:\n",
    "            file.write(json.dumps(messages) + '\\n')\n",
    "    return filename"
   ]
  },
  {
   "cell_type": "markdown",
   "id": "3c124298-375b-4922-85a8-616a2b8cd438",
   "metadata": {},
   "source": [
    "Let's run the functions to create the messages file:"
   ]
  },
  {
   "cell_type": "code",
   "execution_count": 9,
   "id": "c61e095c-756f-4fdd-b3c5-1c31cb45563d",
   "metadata": {},
   "outputs": [
    {
     "name": "stdout",
     "output_type": "stream",
     "text": [
      "fine_tuning/request.jsonl\n"
     ]
    }
   ],
   "source": [
    "messages_list = create_messages_file(train_df)\n",
    "data_dir = save_messages_file(messages_list)\n",
    "print(data_dir)"
   ]
  },
  {
   "cell_type": "markdown",
   "id": "ac6e0885-4bba-4da4-9b2d-ff076a196610",
   "metadata": {},
   "source": [
    "Next, let's preview the fine-tuning file:"
   ]
  },
  {
   "cell_type": "code",
   "execution_count": 10,
   "id": "cf811489-5d6c-447f-b135-efd313b99243",
   "metadata": {},
   "outputs": [
    {
     "name": "stdout",
     "output_type": "stream",
     "text": [
      "{\"messages\": [{\"role\": \"system\", \"content\": \"\\n    You are a helpful assistant specializing in determining the sentiment of financial news.\\n    Analyze the following text regarding financial information and assign one of the following labels to indicate its sentiment: positive, negative, or neutral.\\n    Provide your response as a single word without any punctuation.\\n    \"}, {\"role\": \"user\", \"content\": \"However , Simdax will remain available in the markets where it already has been approved as it has marketing authorisations or submitted applications in more than 40 countries , Orion added .\"}, {\"role\": \"assistant\", \"content\": \"positive\"}]}\n",
      "{\"messages\": [{\"role\": \"system\", \"content\": \"\\n    You are a helpful assistant specializing in determining the sentiment of financial news.\\n    Analyze the following text regarding financial information and assign one of the following labels to indicate its sentiment: positive, negative, or neutral.\\n    Provide your response as a single word without any punctuation.\\n    \"}, {\"role\": \"user\", \"content\": \"Finnish GeoSentric , a developer and provider of solutions , products , and technologies for location based services , has preliminary agreed on a EUR 6mn short-term funding with its leading investor .\"}, {\"role\": \"assistant\", \"content\": \"positive\"}]}\n",
      "{\"messages\": [{\"role\": \"system\", \"content\": \"\\n    You are a helpful assistant specializing in determining the sentiment of financial news.\\n    Analyze the following text regarding financial information and assign one of the following labels to indicate its sentiment: positive, negative, or neutral.\\n    Provide your response as a single word without any punctuation.\\n    \"}, {\"role\": \"user\", \"content\": \"The trade is in accordance with the agreement announced on 26 March 2008 .\"}, {\"role\": \"assistant\", \"content\": \"neutral\"}]}\n"
     ]
    }
   ],
   "source": [
    "!head -n 3 fine_tuning/request.jsonl\\"
   ]
  },
  {
   "cell_type": "markdown",
   "id": "693c8004-a7ab-425d-a2a9-add2a0ee6f3f",
   "metadata": {},
   "source": [
    "### Upload fine-tuning file to kluster.ai\n",
    "\n",
    "Now that we've prepared our fine-tuning file, it's time to upload it to the kluster.ai platform. To do so, you can use the `files.create` endpoint of the client, where the purpose is set to `fine-tune`. This will return the file ID, which we need to log for the next steps."
   ]
  },
  {
   "cell_type": "code",
   "execution_count": 11,
   "id": "653ff10c-59bb-443d-b031-c6678744bdfc",
   "metadata": {
    "colab": {
     "base_uri": "https://localhost:8080/"
    },
    "id": "653ff10c-59bb-443d-b031-c6678744bdfc",
    "outputId": "391e1771-089c-43b2-851d-6c0c808e761f"
   },
   "outputs": [
    {
     "name": "stdout",
     "output_type": "stream",
     "text": [
      "File uploaded successfully. File ID: 682388549bf57c3b70e5b99e\n"
     ]
    }
   ],
   "source": [
    "# Upload fine-tuning file\n",
    "with open(data_dir, 'rb') as file:\n",
    "    upload_response = client.files.create(\n",
    "        file=file,\n",
    "        purpose=\"fine-tune\"\n",
    "    )\n",
    "\n",
    "    # Print job ID\n",
    "    file_id = upload_response.id\n",
    "    print(f\"File uploaded successfully. File ID: {file_id}\")\n"
   ]
  },
  {
   "cell_type": "markdown",
   "id": "9716bdd7-ba56-47ab-81e9-f12f2c29dbb8",
   "metadata": {},
   "source": [
    "### Start the fine-tuning \n",
    "\n",
    "Once the fine-tuning file has been successfully uploaded, we're ready to start the fine-tuning job by providing the file ID we got in the previous step. To do so, we use the `fine_tuning.jobs.create` method, for which we also need to provide the model to fine-tune (check the <a href=\"/get-started/models/\" target=\"_blank\">Supported models</a> section). \n",
    "\n",
    "Optionally, you can also provide an object containing the <a href=\"/api-reference/reference/#create-a-fine-tuning-job\" target=\"_blank\">hyperparameters for fine-tuning</a>, such as number of epochs, batch size, and learning rate, to adjust training time and potential performance gains. Remember that increasing the number of epochs will lead to longer training time but may result in higher performance. If you're unsure which hyperparameters to set, you can also comment them to accept the default values."
   ]
  },
  {
   "cell_type": "code",
   "execution_count": 12,
   "id": "9c4bcef6-aee7-4d3e-9161-9465ac6656db",
   "metadata": {
    "colab": {
     "base_uri": "https://localhost:8080/"
    },
    "id": "9c4bcef6-aee7-4d3e-9161-9465ac6656db",
    "outputId": "7550c233-71c7-418d-e62f-5a991d640b63"
   },
   "outputs": [
    {
     "name": "stdout",
     "output_type": "stream",
     "text": [
      "\n",
      "Fine-tuning job created:\n",
      "{\n",
      "  \"id\": \"68243f089a7eb57869c060de\",\n",
      "  \"created_at\": 1747205896,\n",
      "  \"error\": null,\n",
      "  \"fine_tuned_model\": null,\n",
      "  \"finished_at\": null,\n",
      "  \"hyperparameters\": {\n",
      "    \"batch_size\": 1,\n",
      "    \"learning_rate_multiplier\": 1.0,\n",
      "    \"n_epochs\": 10\n",
      "  },\n",
      "  \"model\": \"meta-llama/Llama-3.1-8B-Instruct\",\n",
      "  \"object\": \"fine_tuning.job\",\n",
      "  \"organization_id\": null,\n",
      "  \"result_files\": [],\n",
      "  \"seed\": null,\n",
      "  \"status\": \"queued\",\n",
      "  \"trained_tokens\": null,\n",
      "  \"training_file\": \"682388549bf57c3b70e5b99e\",\n",
      "  \"validation_file\": null,\n",
      "  \"estimated_finish\": null,\n",
      "  \"integrations\": [],\n",
      "  \"metadata\": null,\n",
      "  \"method\": {\n",
      "    \"dpo\": null,\n",
      "    \"supervised\": {\n",
      "      \"hyperparameters\": null,\n",
      "      \"batch_size\": 1,\n",
      "      \"learning_rate_multiplier\": 1,\n",
      "      \"n_epochs\": 10\n",
      "    },\n",
      "    \"type\": \"supervised\"\n",
      "  },\n",
      "  \"labels\": [],\n",
      "  \"metrics\": {}\n",
      "}\n"
     ]
    }
   ],
   "source": [
    "# Model\n",
    "model = \"klusterai/Meta-Llama-3.1-8B-Instruct-Turbo\"\n",
    "\n",
    "# Create fine-tune job with the previous file\n",
    "fine_tuning_job = client.fine_tuning.jobs.create(\n",
    "    training_file=file_id,\n",
    "    model=model,\n",
    "    #hyperparameters={\n",
    "    #  \"batch_size\": 3,\n",
    "    #  \"n_epochs\": 2,\n",
    "    #  \"learning_rate_multiplier\": 0.08\n",
    "    #}\n",
    ")\n",
    "print(\"\\nFine-tuning job created:\")\n",
    "fine_tuning_job_dict = fine_tuning_job.model_dump()\n",
    "print(json.dumps(fine_tuning_job_dict, indent=2))"
   ]
  },
  {
   "cell_type": "markdown",
   "id": "5559650f-8aff-44d0-8b6c-c34548de49d4",
   "metadata": {},
   "source": [
    "### Check job progress and fine-tuned model\n",
    "\n",
    "Now that your fine-tuning job has been created, you can track its progress.\n",
    "\n",
    "To monitor the job's progress, use the `fine_tuning.jobs.retrieve` method and pass the fine-tuning job ID. The response contains a `status` field that tells us if it is completed or not, and the subsequent status of each job separately.\n",
    "\n",
    "The following snippet checks the status every 10 seconds until the entire batch is completed:"
   ]
  },
  {
   "cell_type": "code",
   "execution_count": 13,
   "id": "419c1ad3-617c-4d5f-aa57-86f7f48cec05",
   "metadata": {
    "colab": {
     "base_uri": "https://localhost:8080/"
    },
    "id": "419c1ad3-617c-4d5f-aa57-86f7f48cec05",
    "outputId": "2c40540c-b55b-4669-b4ea-193daf131997"
   },
   "outputs": [],
   "source": [
    "def monitor_fine_tuning_job(fine_tuning_job):\n",
    "    all_completed = False\n",
    "\n",
    "    # Loop until all jobs are completed\n",
    "    while not all_completed:\n",
    "        all_completed = True\n",
    "        output_lines = []\n",
    "\n",
    "        # Loop through all batch jobs\n",
    "        updated_job = client.fine_tuning.jobs.retrieve(fine_tuning_job.id)\n",
    "        status = updated_job.status\n",
    "\n",
    "        # If job is completed\n",
    "        if status == \"succeeded\":\n",
    "            output_lines.append(\"Job completed!\")\n",
    "\n",
    "        # If job failed, cancelled or expired\n",
    "        elif status in [\"failed\", \"cancelled\"]:\n",
    "            output_lines.append(f\"Job ended with status: {status}\")\n",
    "            break\n",
    "\n",
    "        # If job is ongoing\n",
    "        else:\n",
    "            all_completed = False\n",
    "            output_lines.append(f\"Job status: {status}\")\n",
    "\n",
    "        # Clear terminal\n",
    "        clear_output(wait=True)\n",
    "        for line in output_lines:\n",
    "            display(line)\n",
    "\n",
    "        # Check every 10 seconds\n",
    "        if not all_completed:\n",
    "            time.sleep(10)\n"
   ]
  },
  {
   "cell_type": "code",
   "execution_count": 14,
   "id": "38956302-b649-47db-9c7c-b5f9bdc6d638",
   "metadata": {},
   "outputs": [
    {
     "data": {
      "text/plain": [
       "'Job completed!'"
      ]
     },
     "metadata": {},
     "output_type": "display_data"
    }
   ],
   "source": [
    "monitor_fine_tuning_job(fine_tuning_job)"
   ]
  },
  {
   "cell_type": "markdown",
   "id": "5639ab83-d66c-436c-b0e1-ea7e48503fd8",
   "metadata": {},
   "source": [
    "### Retrieve fine-tuned model\n",
    "\n",
    "With the fine-tuning job done, we can retrieve the new fine-tuned model name:"
   ]
  },
  {
   "cell_type": "code",
   "execution_count": 15,
   "id": "27e5535a-50d1-449d-aa70-1c21334253d7",
   "metadata": {},
   "outputs": [
    {
     "name": "stdout",
     "output_type": "stream",
     "text": [
      "ft:meta-llama:Llama-3.1-8B-Instruct:personal:0ee22019\n"
     ]
    }
   ],
   "source": [
    "finished_job = client.fine_tuning.jobs.retrieve(fine_tuning_job.id)\n",
    "fine_tuned_model = finished_job.fine_tuned_model\n",
    "print(fine_tuned_model)\n"
   ]
  },
  {
   "cell_type": "markdown",
   "id": "44823bfb-fac2-4be9-aa3c-67cebbdd81cd",
   "metadata": {
    "id": "44823bfb-fac2-4be9-aa3c-67cebbdd81cd"
   },
   "source": [
    "Congratulations! You've now created a fine-tuned model. The exact name of your fine-tuned model is above.\n",
    "\n",
    "Now you can submit <a href=\"/get-started/start-building/real-time/\" target=\"_blank\">real-time</a>\n",
    " or <a href=\"/get-started/start-building/batch/\" target=\"_blank\">batch</a> inference by providing your fine-tuned model's name as the `model` for the inference call.\n",
    "\n",
    "In the next section, we will perform batch inference against the testing data points and compare the accuracy against a larger model.\n",
    "\n",
    "## Test the fine-tuned model with batch inference\n",
    "\n",
    "In this section, we’ll run batch requests to the fine-tuned and baseline models, using the data points left over for testing.\n",
    "\n",
    "For the batch inference, we will follow a similar pipeline to that of the <a href=\"/tutorials/klusterai-api/model-comparison/#perform-batch-inference\" target=\"_blank\">model comparison notebook</a>.\n",
    "\n",
    "### Create batch job file\n",
    "\n",
    "The following snippets prepare the JSONL file, where each line represents a different request. Note that each separate batch request can have its own model. In our example, we create a separate JSONL file for each model. Also, we are using a temperature of `0.5`, but feel free to change it and play around with the different outcomes (but we are only asking to respond with a single word, the sentiment)."
   ]
  },
  {
   "cell_type": "code",
   "execution_count": 16,
   "id": "3bb7f503-dbe5-4983-99e7-0794a0835ec1",
   "metadata": {
    "id": "3bb7f503-dbe5-4983-99e7-0794a0835ec1"
   },
   "outputs": [],
   "source": [
    "# System prompt\n",
    "SYSTEM_PROMPT = \"\"\"\n",
    "    You are a helpful assistant specializing in determining the sentiment of financial news.\n",
    "    Analyze the following text regarding financial information and assign one of the following labels to indicate its sentiment: positive, negative, or neutral.\n",
    "    Provide your response as a single lowercase word without any punctuation.\n",
    "    Example response:\n",
    "    neutral\n",
    "    \"\"\"\n",
    "\n",
    "# Models\n",
    "models = {\n",
    "    \"Llama3.1-8B\": \"klusterai/Meta-Llama-3.1-8B-Instruct-Turbo\",\n",
    "    \"Llama3.3-70B\": \"klusterai/Meta-Llama-3.3-70B-Instruct-Turbo\",\n",
    "    \"Llama3.1-8B-FineTuned\": fine_tuned_model,\n",
    "}\n",
    "\n",
    "# Ensure the directory exists\n",
    "os.makedirs(\"fine_tuning\", exist_ok=True)\n",
    "\n",
    "# Create the batch job file with the prompt and content for the model\n",
    "def create_batch_file(model):\n",
    "    batch_requests = []\n",
    "    \n",
    "    for index, row in test_df.iterrows():\n",
    "        content = row[\"text\"]\n",
    "\n",
    "        request = {\n",
    "            \"custom_id\": f\"{model}-{index}-fine-tuning-compare\",\n",
    "            \"method\": \"POST\",\n",
    "            \"url\": \"/v1/chat/completions\",\n",
    "            \"body\": {\n",
    "                \"model\": models[model],\n",
    "                \"temperature\": 0,\n",
    "                \"messages\": [\n",
    "                    {\"role\": \"system\", \"content\": SYSTEM_PROMPT},\n",
    "                    {\"role\": \"user\", \"content\": content},\n",
    "                ],\n",
    "            },\n",
    "        }\n",
    "        \n",
    "        batch_requests.append(request)\n",
    "\n",
    "    return batch_requests\n",
    "\n",
    "# Save file\n",
    "def save_batch_file(batch_requests, model):\n",
    "    filename = f\"fine_tuning/batch_job_{model}_request.jsonl\"\n",
    "    with open(filename, \"w\") as file:\n",
    "        for request in batch_requests:\n",
    "            file.write(json.dumps(request) + \"\\n\")\n",
    "    return filename\n"
   ]
  },
  {
   "cell_type": "markdown",
   "id": "b4b22ff9-f8f9-4760-a3aa-e80793eea2b5",
   "metadata": {},
   "source": [
    "Let's run the functions we've defined before:"
   ]
  },
  {
   "cell_type": "code",
   "execution_count": 17,
   "id": "e3ac421f-78d6-4079-8d76-ca3a97b7f611",
   "metadata": {},
   "outputs": [
    {
     "name": "stdout",
     "output_type": "stream",
     "text": [
      "fine_tuning/batch_job_Llama3.1-8B_request.jsonl\n",
      "fine_tuning/batch_job_Llama3.3-70B_request.jsonl\n",
      "fine_tuning/batch_job_Llama3.1-8B-FineTuned_request.jsonl\n"
     ]
    }
   ],
   "source": [
    "filenames = []\n",
    "\n",
    "# Loop through each model and save the batch files\n",
    "for model in models:\n",
    "    batch_request = create_batch_file(model)\n",
    "    filename = save_batch_file(batch_request, model)\n",
    "    filenames.append(filename)\n",
    "    print(filename)\n"
   ]
  },
  {
   "cell_type": "markdown",
   "id": "c4f5a51c-fc39-4567-b85d-95a98d5f9c98",
   "metadata": {
    "id": "c4f5a51c-fc39-4567-b85d-95a98d5f9c98"
   },
   "source": [
    "Next, we can preview what one of the requests in a batch job file looks like:"
   ]
  },
  {
   "cell_type": "code",
   "execution_count": 18,
   "id": "fe1531a6-844e-4173-8122-a7bf871df06c",
   "metadata": {
    "colab": {
     "base_uri": "https://localhost:8080/",
     "height": 35
    },
    "id": "fe1531a6-844e-4173-8122-a7bf871df06c",
    "outputId": "4a7484fc-35fb-4700-d397-751ef357356e"
   },
   "outputs": [
    {
     "name": "stdout",
     "output_type": "stream",
     "text": [
      "{\"custom_id\": \"Llama3.1-8B-FineTuned-1116-fine-tuning-compare\", \"method\": \"POST\", \"url\": \"/v1/chat/completions\", \"body\": {\"model\": \"ft:meta-llama:Llama-3.1-8B-Instruct:personal:0ee22019\", \"temperature\": 0, \"messages\": [{\"role\": \"system\", \"content\": \"\\n    You are a helpful assistant specializing in determining the sentiment of financial news.\\n    Analyze the following text regarding financial information and assign one of the following labels to indicate its sentiment: positive, negative, or neutral.\\n    Provide your response as a single lowercase word without any punctuation.\\n    Example response:\\n    neutral\\n    \"}, {\"role\": \"user\", \"content\": \"Welcome !\"}]}}\n"
     ]
    }
   ],
   "source": [
    "!head -n 1 fine_tuning/batch_job_Llama3.1-8B-FineTuned_request.jsonl"
   ]
  },
  {
   "cell_type": "markdown",
   "id": "1c8c0a90-18be-4192-a9a7-c03f610e838d",
   "metadata": {},
   "source": [
    "### Upload batch job file to kluster.ai\n",
    "\n",
    "Now that we've prepared our input files, it's time to upload them to the kluster.ai platform. To do so, you can use the `files.create` endpoint of the client, where the purpose is set to `batch`. This will return the file ID, which we need to log for the next steps. We will repeat the process for each batch file created."
   ]
  },
  {
   "cell_type": "code",
   "execution_count": 19,
   "id": "a0f539e6-4db6-49e3-af00-8bea1772fab4",
   "metadata": {
    "colab": {
     "base_uri": "https://localhost:8080/",
     "height": 195
    },
    "id": "a0f539e6-4db6-49e3-af00-8bea1772fab4",
    "outputId": "45e3f6df-e1d8-4b31-c117-0fc31c780abe"
   },
   "outputs": [],
   "source": [
    "def upload_batch_file(data_dir):\n",
    "  print(f\"Creating request for {data_dir}\")\n",
    "  \n",
    "  with open(data_dir, 'rb') as file:\n",
    "    upload_response = client.files.create(\n",
    "    file=file,\n",
    "    purpose=\"batch\"\n",
    "  )\n",
    "\n",
    "  # Print job ID\n",
    "  file_id = upload_response.id\n",
    "  print(f\"File uploaded successfully. File ID: {file_id}\")\n",
    "\n",
    "  return upload_response"
   ]
  },
  {
   "cell_type": "code",
   "execution_count": 20,
   "id": "e30b8aec-9270-4854-8926-6f73b4883e86",
   "metadata": {},
   "outputs": [
    {
     "name": "stdout",
     "output_type": "stream",
     "text": [
      "Uploading file fine_tuning/batch_job_Llama3.1-8B_request.jsonl\n",
      "Creating request for fine_tuning/batch_job_Llama3.1-8B_request.jsonl\n",
      "File uploaded successfully. File ID: 68246ad350145e585380f774\n",
      "Uploading file fine_tuning/batch_job_Llama3.3-70B_request.jsonl\n",
      "Creating request for fine_tuning/batch_job_Llama3.3-70B_request.jsonl\n",
      "File uploaded successfully. File ID: 68246ad48f1e3a990c42a706\n",
      "Uploading file fine_tuning/batch_job_Llama3.1-8B-FineTuned_request.jsonl\n",
      "Creating request for fine_tuning/batch_job_Llama3.1-8B-FineTuned_request.jsonl\n",
      "File uploaded successfully. File ID: 68246ad434dfea3753a0d37b\n"
     ]
    }
   ],
   "source": [
    "batch_files = []\n",
    "\n",
    "# Loop through all .jsonl files in the data folder\n",
    "for data_dir in filenames:\n",
    "    print(f\"Uploading file {data_dir}\")\n",
    "    job = upload_batch_file(data_dir)\n",
    "    batch_files.append(job)"
   ]
  },
  {
   "cell_type": "markdown",
   "id": "1dd0a2f9-68e9-4cf3-a539-0a04d87627a0",
   "metadata": {},
   "source": [
    "### Start the job\n",
    "\n",
    "Once all the files have been successfully uploaded, we're ready to start (create) the batch jobs by providing the file ID of each file, which we got in the previous step. To start each job, we use the `batches.create` method, for which we need to set the endpoint to `/v1/chat/completions`. This will return each batch job's details, with each ID."
   ]
  },
  {
   "cell_type": "code",
   "execution_count": 21,
   "id": "ad54ce63-934f-44a6-a4bb-1175539adcfc",
   "metadata": {},
   "outputs": [],
   "source": [
    "# Create batch job with completions endpoint\n",
    "def create_batch_job(file_id):\n",
    "  batch_job = client.batches.create(\n",
    "    input_file_id=file_id,\n",
    "    endpoint=\"/v1/chat/completions\",\n",
    "    completion_window=\"24h\"\n",
    "  )\n",
    "\n",
    "  print(f\"Batch job created with ID {batch_job.id}\")\n",
    "  return batch_job"
   ]
  },
  {
   "cell_type": "code",
   "execution_count": 22,
   "id": "9e3b2d19-64ee-463f-af8c-4d309cb22ad9",
   "metadata": {},
   "outputs": [
    {
     "name": "stdout",
     "output_type": "stream",
     "text": [
      "Creating batch job for file ID 68246ad350145e585380f774\n",
      "Batch job created with ID 68246ad73c4615f4a676b4a3\n",
      "Creating batch job for file ID 68246ad48f1e3a990c42a706\n",
      "Batch job created with ID 68246ad762b0d0b72df059a6\n",
      "Creating batch job for file ID 68246ad434dfea3753a0d37b\n",
      "Batch job created with ID 68246ad7d7f7bb800aa63c9d\n"
     ]
    }
   ],
   "source": [
    "batch_jobs = []\n",
    "\n",
    "# Loop through all batch files ID and start each job\n",
    "for batch_file in batch_files:\n",
    "    print(f\"Creating batch job for file ID {batch_file.id}\")\n",
    "    batch_job = create_batch_job(batch_file.id)\n",
    "    batch_jobs.append(batch_job)"
   ]
  },
  {
   "cell_type": "markdown",
   "id": "26ac1e99-edfe-4041-819e-1d366fbcfd68",
   "metadata": {
    "id": "26ac1e99-edfe-4041-819e-1d366fbcfd68"
   },
   "source": [
    "### Check job progress\n",
    "\n",
    "Now that your batch jobs have been created, you can track their progress.\n",
    "\n",
    "To monitor the job's progress, we can use the `batches.retrieve` method and pass the batch job ID. The response contains a `status` field that tells whether it is completed and the subsequent status of each job separately. We can repeat this process for every batch job ID we get in the previous step.\n",
    "\n",
    "The following snippet checks the status of all batch jobs every 10 seconds until the entire batch is completed."
   ]
  },
  {
   "cell_type": "code",
   "execution_count": 23,
   "id": "45c141f6-ecff-4ec9-b345-a960f22c0e35",
   "metadata": {},
   "outputs": [],
   "source": [
    "def monitor_batch_jobs(batch_jobs):\n",
    "    all_completed = False\n",
    "\n",
    "    # Loop until all jobs are completed\n",
    "    while not all_completed:\n",
    "        all_completed = True\n",
    "        output_lines = []\n",
    "\n",
    "        # Loop through all batch jobs\n",
    "        for job in batch_jobs:\n",
    "            updated_job = client.batches.retrieve(job.id)\n",
    "            status = updated_job.status\n",
    "\n",
    "            # If job is completed\n",
    "            if status == \"completed\":\n",
    "                output_lines.append(\"Job completed!\")\n",
    "            # If job failed, cancelled or expired\n",
    "            elif status in [\"failed\", \"cancelled\", \"expired\"]:\n",
    "                output_lines.append(f\"Job ended with status: {status}\")\n",
    "                break\n",
    "            # If job is ongoing\n",
    "            else:\n",
    "                all_completed = False\n",
    "                completed = updated_job.request_counts.completed\n",
    "                total = updated_job.request_counts.total\n",
    "                output_lines.append(\n",
    "                    f\"Job status: {status} - Progress: {completed}/{total}\"\n",
    "                )\n",
    "\n",
    "        # Clear terminal\n",
    "        clear_output(wait=True)\n",
    "        for line in output_lines:\n",
    "            display(line)\n",
    "\n",
    "        # Check every 10 seconds\n",
    "        if not all_completed:\n",
    "            time.sleep(10)\n"
   ]
  },
  {
   "cell_type": "code",
   "execution_count": 24,
   "id": "957fb931-bb4e-4879-969d-7fd185a3a7dc",
   "metadata": {},
   "outputs": [
    {
     "data": {
      "text/plain": [
       "'Job completed!'"
      ]
     },
     "metadata": {},
     "output_type": "display_data"
    },
    {
     "data": {
      "text/plain": [
       "'Job completed!'"
      ]
     },
     "metadata": {},
     "output_type": "display_data"
    },
    {
     "data": {
      "text/plain": [
       "'Job completed!'"
      ]
     },
     "metadata": {},
     "output_type": "display_data"
    }
   ],
   "source": [
    "monitor_batch_jobs(batch_jobs)"
   ]
  },
  {
   "cell_type": "markdown",
   "id": "3a707315-483c-49f9-8b3c-61f39b778e50",
   "metadata": {},
   "source": [
    "## Get the results\n",
    "\n",
    "With all jobs completed, we'll retrieve the results and review the responses generated for each request. The results are parsed. To fetch the results from the platform, you must retrieve the `output_file_id` from the batch job and then use the `files.content` endpoint, providing that specific file ID. We will repeat this for every single batch job id. Note that the job status must be `completed` to retrieve the results!"
   ]
  },
  {
   "cell_type": "code",
   "execution_count": 25,
   "id": "808f6e4e-a7e8-4afb-8a6e-c229e2c8880b",
   "metadata": {},
   "outputs": [],
   "source": [
    "#Parse results as a JSON object\n",
    "def parse_json_objects(data_string):\n",
    "  if isinstance(data_string, bytes):\n",
    "    data_string = data_string.decode('utf-8')\n",
    "\n",
    "  json_strings = data_string.strip().split('\\n')\n",
    "  json_objects = []\n",
    "\n",
    "  for json_str in json_strings:\n",
    "    try:\n",
    "      json_obj = json.loads(json_str)\n",
    "      json_objects.append(json_obj)\n",
    "    except json.JSONDecodeError as e:\n",
    "      print(f\"Error parsing JSON: {e}\")\n",
    "\n",
    "  return json_objects"
   ]
  },
  {
   "cell_type": "code",
   "execution_count": 26,
   "id": "0c727a05-9f89-49b9-bc50-45c8e8cd266d",
   "metadata": {},
   "outputs": [],
   "source": [
    "# Token usage per model\n",
    "token_usage = {}\n",
    "\n",
    "# Pricing at the time of writing\n",
    "pricing = {\n",
    "    \"Llama3.1-8B\": {\"input\": 0.18, \"output\": 18},\n",
    "    \"Llama3.3-70B\": {\"input\": 0.70, \"output\": 0.70},\n",
    "    \"Llama3.1-8B-FineTuned\": {\"input\": 0.18, \"output\": 18},\n",
    "}\n",
    "\n",
    "# Go through all batch jobs, providing the output file ID\n",
    "for batch_job in batch_jobs:\n",
    "    job_status = client.batches.retrieve(batch_job.id)\n",
    "    result_file_id = job_status.output_file_id\n",
    "    result = client.files.content(result_file_id).content\n",
    "    results = parse_json_objects(result)\n",
    "\n",
    "    # Extract model name from the response\n",
    "    model_path = results[0]['response']['body']['model']\n",
    "    model = next(k for k, v in models.items() if v == model_path)\n",
    "\n",
    "    # Initialize counters for this model\n",
    "    total_prompt_tokens = 0\n",
    "    total_completion_tokens = 0\n",
    "\n",
    "    answers = []\n",
    "    for res in results:\n",
    "        # Get answer\n",
    "        answer = res['response']['body']['choices'][0]['message']['content']\n",
    "        answers.append(answer)\n",
    "\n",
    "        # Accumulate tokens\n",
    "        usage = res['response']['body']['usage']\n",
    "        total_prompt_tokens += usage.get('prompt_tokens', 0)\n",
    "        total_completion_tokens += usage.get('completion_tokens', 0)\n",
    "\n",
    "    # Save answers to DataFrame\n",
    "    test_df[f'{model}_sentiment'] = answers\n",
    "\n",
    "    # Calculate cost (per million tokens)\n",
    "    input_price = pricing[model]['input']\n",
    "    output_price = pricing[model]['output']\n",
    "    cost = (total_prompt_tokens / 1_000_000) * input_price + (total_completion_tokens / 1_000_000) * output_price\n",
    "\n",
    "    # Store token and cost data\n",
    "    token_usage[model] = {\n",
    "        'total_prompt_tokens': total_prompt_tokens,\n",
    "        'total_completion_tokens': total_completion_tokens,\n",
    "        'total_cost_usd': round(cost, 4)\n",
    "    }\n"
   ]
  },
  {
   "cell_type": "markdown",
   "id": "2dd9e32a-02c3-49f4-a86a-b030e8c106f0",
   "metadata": {},
   "source": [
    "## Analyze the results\n",
    "\n",
    "With all models evaluated, we can analyze their performance. The graph below shows the accuracy scores for each model we tested. "
   ]
  },
  {
   "cell_type": "code",
   "execution_count": 27,
   "id": "b368a819-58d6-4d1a-b0d7-e6c66498763e",
   "metadata": {},
   "outputs": [
    {
     "data": {
      "image/png": "[encoded data removed]",
      "text/plain": [
       "<Figure size 1200x600 with 1 Axes>"
      ]
     },
     "metadata": {},
     "output_type": "display_data"
    }
   ],
   "source": [
    "# Calculate accuracy\n",
    "accuracies = {}\n",
    "for model in models:\n",
    "    accuracy = test_df.apply(\n",
    "    lambda row: row[f'{model}_sentiment'].lower() in [s.lower() for s in row['sentiment'].split(', ')], axis=1).mean()\n",
    "    accuracies[model] = accuracy\n",
    "\n",
    "# Plot colors\n",
    "colors = ['#1E2A30', '#5C7482', '#8AA9BB']\n",
    "\n",
    "# Create plot\n",
    "fig, ax = plt.subplots(figsize=(12, 6))\n",
    "bars = ax.bar(accuracies.keys(), accuracies.values(), color=colors, edgecolor='black')\n",
    "ax.bar_label(bars, label_type='center', color='white', fmt=\"%.3f\")\n",
    "\n",
    "# Add token usage as text above bars\n",
    "for bar, model in zip(bars, accuracies.keys()):\n",
    "    prompt_tokens = token_usage[model]['total_prompt_tokens']\n",
    "    completion_tokens = token_usage[model]['total_completion_tokens']\n",
    "    cost = token_usage[model]['total_cost_usd']\n",
    "\n",
    "    # Positioning text above the bar\n",
    "    height = bar.get_height()\n",
    "    ax.text(\n",
    "        bar.get_x() + bar.get_width() / 2,\n",
    "        height + 0.005,\n",
    "        f\"Input tokens: {prompt_tokens}\\nOutput tokens: {completion_tokens}\\nTotal tokens: {prompt_tokens+completion_tokens}\\nCost: ${cost}\",\n",
    "        ha='center',\n",
    "        va='bottom',\n",
    "        fontsize=10,\n",
    "        color='black'\n",
    "    )\n",
    "\n",
    "# Labels and title\n",
    "ax.set_ylim(0, 1)\n",
    "ax.set_xlabel('Model')\n",
    "ax.set_ylabel('Accuracy')\n",
    "ax.set_title('Accuracy by model with token usage')\n",
    "\n",
    "plt.tight_layout()\n",
    "plt.show()"
   ]
  },
  {
   "cell_type": "markdown",
   "id": "21a76fbc-7d6f-44c4-ae12-e05fd4d2ade6",
   "metadata": {},
   "source": [
    "The analysis shows that the fine-tuned model achieved a higher accuracy at a significantly lower cost than the larger base model. The accuracy was also substantially higher compared to the same base model.\n",
    "\n",
    "This demonstrates how a fine-tuned model can deliver better task-specific performance while being more efficient in computation and cost. Instead of relying on a much larger, general-purpose model, fine-tuning enables smaller models to adapt closely to the nuances of your data, making them more accurate, faster to run, and more affordable to scale.\n",
    "\n",
    "This benefit is especially impactful in the context of financial sentiment analysis, where language can be technical and domain-specific. Even with a modest training dataset, the improvement in precision and reduction in cost were substantial.\n"
   ]
  },
  {
   "cell_type": "markdown",
   "id": "b3cd0c42-2386-490c-b8bb-263c50e1b66b",
   "metadata": {
    "id": "b3cd0c42-2386-490c-b8bb-263c50e1b66b"
   },
   "source": [
    "## Summary\n",
    "\n",
    "This tutorial showed how to fine-tune a large language model using the kluster.ai platform for a financial sentiment analysis task. Key takeaways include:\n",
    "\n",
    "- Data preparation: a subset of 1500 financial headlines was used, split into training and testing sets\n",
    "- Fine-tuning: we fine-tuned `klusterai/Meta-Llama-3.1-8B-Instruct-Turbo` using labeled training data and system prompts for targeted learning\n",
    "- Batch inference & evaluation: we compared the fine-tuned model with a much larger base model (`Llama3.3-70B`) and the original untuned `Llama3.1-8B`\n",
    "- Performance: the fine-tuned model delivered **higher accuracy** than the untuned 8B model, and surprisingly, **outperformed** the 70B model — all at **lower inference cost**. Note that the results may vary depending on the fine-tuning hyperparameters, temperature, among others\n",
    "\n",
    "This reinforces the value of fine-tuning for domain-specific tasks: improved performance, reduced cost, and faster inference. Moreover, with kluster.ai, we achieved all this using the OpenAI Python library and API, no changes needed!\n",
    "\n",
    "You are now ready to experiment further with:\n",
    "- Larger or more diverse datasets\n",
    "- Hyperparameter tuning\n",
    "- Alternate system prompts or evaluation metrics\n",
    "\n",
    "Fine-tuning doesn't just make your model better — it makes it *yours*.\n"
   ]
  }
 ],
 "metadata": {
  "colab": {
   "provenance": []
  },
  "kernelspec": {
   "display_name": "Python 3 (ipykernel)",
   "language": "python",
   "name": "python3"
  },
  "language_info": {
   "codemirror_mode": {
    "name": "ipython",
    "version": 3
   },
   "file_extension": ".py",
   "mimetype": "text/x-python",
   "name": "python",
   "nbconvert_exporter": "python",
   "pygments_lexer": "ipython3",
   "version": "3.13.3"
  }
 },
 "nbformat": 4,
 "nbformat_minor": 5
}
