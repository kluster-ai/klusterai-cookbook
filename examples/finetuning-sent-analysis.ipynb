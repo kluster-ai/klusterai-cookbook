{
 "cells": [
  {
   "cell_type": "markdown",
   "id": "be189fde-4e5b-4f80-bae1-ded86a5075a7",
   "metadata": {
    "id": "be189fde-4e5b-4f80-bae1-ded86a5075a7"
   },
   "source": [
    "# Fine-tuning models with the kluster.ai API"
   ]
  },
  {
   "cell_type": "markdown",
   "id": "b17a77d9",
   "metadata": {
    "id": "b17a77d9"
   },
   "source": [
    "[![Open in Colab](https://colab.research.google.com/assets/colab-badge.svg)](https://colab.research.google.com/github/kluster-ai/klusterai-cookbook/blob/main/examples/finetuning-sent-analysis.ipynb)"
   ]
  },
  {
   "cell_type": "markdown",
   "id": "1176978c-51e6-4f4a-8972-63a20f00a70c",
   "metadata": {
    "id": "1176978c-51e6-4f4a-8972-63a20f00a70c"
   },
   "source": [
    "## Introduction\n",
    "\n",
    "Fine-tuning is the process of refining a pre-trained model's parameters using additional, specialized data to improve performance on a specific task. Fine-tuning can offer valuable benefits: it can significantly improve performance for your specific use case and sometimes rival the results of more expensive, general-purpose models.\n",
    "\n",
   "In this guide, you'll learn how to train a sentiment analysis model tailored to your data using <a href=\"https://kluster.ai/\" target=\"_blank\">kluster.ai</a>. We'll walk through each step of the fine-tuning process—covering dataset setup, environment configuration, and batch inference. By following along, you'll discover how to leverage kluster.ai's powerful platform to create a custom model that boosts accuracy for financial text analysis and beyond."
   ]
  },
  {
   "cell_type": "markdown",
   "id": "41ea62a1",
   "metadata": {
    "id": "41ea62a1"
   },
   "source": [
    "## Prerequisites"
   ]
  },
  {
   "cell_type": "markdown",
   "id": "83111fd4",
   "metadata": {
    "id": "83111fd4"
   },
   "source": [
    "Before getting started, ensure you have the following:\n",
    "\n",
    "- **A kluster.ai account** - sign up on the <a href=\"https://platform.kluster.ai/signup\" target=\"_blank\">kluster.ai platform</a> if you don't have one\n",
    "- **A kluster.ai API key** - after signing in, go to the <a href=\"https://platform.kluster.ai/apikeys\" target=\"_blank\">**API Keys**</a> section and create a new key. For detailed instructions, check out the <a href=\"https://docs.kluster.ai/get-started/get-api-key/\" target=\"_blank\">Get an API key</a> guide"
   ]
  },
  {
   "cell_type": "markdown",
   "id": "xU1WBQJ7Uh09",
   "metadata": {
    "id": "xU1WBQJ7Uh09"
   },
   "source": [
    "## Setup"
   ]
  },
  {
   "cell_type": "markdown",
   "id": "b8d580f8-67d5-45d6-915f-0f6b60d3b543",
   "metadata": {
    "id": "b8d580f8-67d5-45d6-915f-0f6b60d3b543"
   },
   "source": [
    "In this notebook, we'll use Python's `getpass` module to safely input the key. Provide your unique kluster.ai API key (ensure there are no spaces)."
   ]
  },
  {
   "cell_type": "code",
   "execution_count": null,
   "id": "4911e5eb-7463-4a6b-8a99-9313cecd9d4d",
   "metadata": {
    "colab": {
     "base_uri": "https://localhost:8080/"
    },
    "id": "4911e5eb-7463-4a6b-8a99-9313cecd9d4d",
    "outputId": "3b1d8a3f-a10f-4ed1-c516-fa424f67e246"
   },
   "outputs": [],
   "source": [
    "from getpass import getpass\n",
    "\n",
    "api_key = getpass(\"Enter your kluster.ai API key: \")"
   ]
  },
  {
   "cell_type": "code",
   "execution_count": null,
   "id": "bcc3d475-8f49-4fc4-9a5e-c6eb6866d2b5",
   "metadata": {
    "id": "bcc3d475-8f49-4fc4-9a5e-c6eb6866d2b5"
   },
   "outputs": [],
   "source": [
    "%pip install -q openai"
   ]
  },
  {
   "cell_type": "code",
   "execution_count": null,
   "id": "6af45325-7087-49fe-b32b-0ff1d6537af7",
   "metadata": {
    "id": "6af45325-7087-49fe-b32b-0ff1d6537af7"
   },
   "outputs": [],
   "source": [
    "import urllib.request\n",
    "import pandas as pd\n",
    "from openai import OpenAI\n",
    "import time\n",
    "import json\n",
    "import matplotlib.pyplot as plt\n",
    "import seaborn as sns\n",
    "import os\n",
    "import requests\n",
    "pd.set_option('display.max_columns', 1000, 'display.width', 1000, 'display.max_rows',1000, 'display.max_colwidth', 500)\n",
    "\n",
    "# Import helper functions\n",
    "url = \"https://raw.githubusercontent.com/kluster-ai/klusterai-cookbook/main/examples/helpers.py\"\n",
    "\n",
    "# Fetch the file and save it locally\n",
    "response = requests.get(url)\n",
    "with open(\"helpers.py\", \"w\") as f:\n",
    "    f.write(response.text)\n",
    "\n",
    "# Import the helper functions\n",
    "from helpers import create_tasks, save_tasks, create_batch_job, monitor_job_status, get_results\n"
   ]
  },
  {
   "cell_type": "code",
   "execution_count": null,
   "id": "44a6f805-1c74-48a5-8572-0a5fb2c48286",
   "metadata": {
    "id": "44a6f805-1c74-48a5-8572-0a5fb2c48286"
   },
   "outputs": [],
   "source": [
    "# Set up the client\n",
    "client_prod = OpenAI(\n",
    "    base_url=\"https://api.kluster.ai/v1\",\n",
    "    api_key=api_key,\n",
    ")"
   ]
  },
  {
   "cell_type": "markdown",
   "id": "fb8c5014-5b0c-43c2-a238-073dbde2d90a",
   "metadata": {
    "id": "fb8c5014-5b0c-43c2-a238-073dbde2d90a"
   },
   "source": [
    "## Fetch a real dataset for Batch inference\n",
    "\n",
    "This dataset contains a variety of financial news headlines, each labeled as positive, negative, or neutral. In this context, positive indicates a beneficial impact on the company’s stock, negative suggests a detrimental impact, and neutral implies no significant change is expected.\n",
    "\n",
    "In this example, we limit the dataset to the first 4000 rows of the financial phrasebank, resulting in 400 training examples after splitting. For a faster running example, you can select as little as 100 rows of data, as kluster.ai requires a minimum of 10 examples."
   ]
  },
  {
   "cell_type": "code",
   "execution_count": null,
   "id": "yC9wJlV4rwOh",
   "metadata": {
    "colab": {
     "base_uri": "https://localhost:8080/",
     "height": 160
    },
    "id": "yC9wJlV4rwOh",
    "outputId": "5a81b6f5-05af-46c8-c1c2-47c4d760d509"
   },
   "outputs": [],
   "source": [
    "url = \"https://raw.githubusercontent.com/kluster-ai/klusterai-cookbook/main/data/financial-phrasebank.csv\"\n",
    "urllib.request.urlretrieve(url,filename='financial-phrasebank.csv')\n",
    "\n",
    "# Load and process the dataset based on URL content\n",
    "df = pd.read_csv('financial-phrasebank.csv', encoding = \"ISO-8859-1\",header=None, names=[\"sentiment\", \"text\"])\n",
    "\n",
    "# For a faster running example, adjust the below variable to select a smaller subset of financial training content. Must be > 100.\n",
    "df = df.iloc[:4000]\n",
    "df.head(3)"
   ]
  },
  {
   "cell_type": "markdown",
   "id": "0a03d805-0d59-42ce-ac2a-4f9beacd639b",
   "metadata": {
    "id": "0a03d805-0d59-42ce-ac2a-4f9beacd639b"
   },
   "source": [
    "### Split data into train/test for Fine-tuning"
   ]
  },
  {
   "cell_type": "markdown",
   "id": "MzyehWgLQuAq",
   "metadata": {
    "id": "MzyehWgLQuAq"
   },
   "source": [
     "Next, we need to split the data into training and testing datasets (to be used later)."
   ]
  },
  {
   "cell_type": "code",
   "execution_count": null,
   "id": "de8b2580-43ba-438f-8aab-4916a4c1fb70",
   "metadata": {
    "id": "de8b2580-43ba-438f-8aab-4916a4c1fb70"
   },
   "outputs": [],
   "source": [
    "from sklearn.model_selection import train_test_split\n",
    "# Split into train and test sets\n",
    "train_df, test_df = train_test_split(df, test_size=0.9, random_state=42)"
   ]
  },
  {
   "cell_type": "code",
   "execution_count": null,
   "id": "cb5b6d85-aea0-4c77-97d5-a8cb007fa43c",
   "metadata": {
    "colab": {
     "base_uri": "https://localhost:8080/"
    },
    "id": "cb5b6d85-aea0-4c77-97d5-a8cb007fa43c",
    "outputId": "0aa17cdf-53ff-444e-c2ac-771cf5d475c5"
   },
   "outputs": [],
   "source": [
    "len(train_df)"
   ]
  },
  {
   "cell_type": "markdown",
   "id": "8ebefac4-cb4c-4e75-af96-c827b5668188",
   "metadata": {
    "id": "8ebefac4-cb4c-4e75-af96-c827b5668188"
   },
   "source": [
    "## Fine-tuning the model"
   ]
  },
  {
   "cell_type": "markdown",
   "id": "QMXyZoDINlBC",
   "metadata": {
    "id": "QMXyZoDINlBC"
   },
   "source": [
    "Fine-tuning is the process of adjusting a pre-trained model with new, domain-specific data to enhance performance for a specific task, which typically reduces training time and costs compared to training from scratch. Additionally, it can allow smaller, Fine-tuned models to match or even rival the performance of larger, general models that haven’t been Fine-tuned."
   ]
  },
  {
   "cell_type": "code",
   "execution_count": null,
   "id": "f4903010-b32f-47d0-9a01-6be8e0938328",
   "metadata": {
    "id": "f4903010-b32f-47d0-9a01-6be8e0938328"
   },
   "outputs": [],
   "source": [
    "SYSTEM_PROMPT = '''\n",
    "    You are a helpful assistant specializing in determining the sentiment of financial news.\n",
    "    Analyze the following text regarding financial information and assign one of the following labels to indicate its sentiment: positive, negative, or neutral.\n",
    "    Provide your response as a single word without any punctuation.\n",
    "    '''\n",
    "\n",
    "# Ensure the directory exists\n",
    "os.makedirs(\"finetuning/data\", exist_ok=True)\n",
    "\n",
    "# Generate JSONLines file\n",
    "with open(\"finetuning/data/sentiment.jsonl\", \"w\") as f:\n",
    "    for _, row in train_df.iterrows():\n",
    "        # Create the message structure\n",
    "        messages = {\n",
    "            \"messages\": [\n",
    "                {\"role\": \"system\", \"content\": SYSTEM_PROMPT},\n",
    "                {\"role\": \"user\", \"content\": row['text']},\n",
    "                {\"role\": \"assistant\", \"content\": row[\"sentiment\"]}\n",
    "            ]\n",
    "        }\n",
    "        # Write to the file as a single JSON object per line\n",
    "        f.write(json.dumps(messages) + \"\\n\")"
   ]
  },
  {
   "cell_type": "code",
   "execution_count": null,
   "id": "653ff10c-59bb-443d-b031-c6678744bdfc",
   "metadata": {
    "colab": {
     "base_uri": "https://localhost:8080/"
    },
    "id": "653ff10c-59bb-443d-b031-c6678744bdfc",
    "outputId": "391e1771-089c-43b2-851d-6c0c808e761f"
   },
   "outputs": [],
   "source": [
    "data_dir = 'finetuning/data/sentiment.jsonl'\n",
    "\n",
    "with open(data_dir, 'rb') as file:\n",
    "    upload_response = client_prod.files.create(\n",
    "        file=file,\n",
    "        purpose=\"fine-tune\"\n",
    "    )\n",
    "    file_id = upload_response.id\n",
    "    print(f\"File uploaded successfully. File ID: {file_id}\")"
   ]
  },
  {
   "cell_type": "markdown",
   "id": "c9029a4f-8cfb-4193-b14b-7507006a969d",
   "metadata": {
    "id": "c9029a4f-8cfb-4193-b14b-7507006a969d"
   },
   "source": [
    "Next, we'll submit the job to the kluster.ai Fine-tuning API. Currently, two base models are supported for Fine-tuning:\n",
    "- klusterai/Meta-Llama-3.1-8B-Instruct-Turbo\n",
    "- klusterai/Meta-Llama-3.3-70B-Instruct-Turbo\n",
    "\n",
    "If you specify a different base model, the Fine-tuning job will fail. You can also tweak the hyperparameters (such as number of epochs, batch size, and learning rate) to adjust training time and potential performance gains. Remember that increasing the number of epochs will lead to longer training time but may result in higher performance. If you're unsure which hyperparameters to set, you can also comment them out to accept the default values."
   ]
  },
  {
   "cell_type": "code",
   "execution_count": null,
   "id": "9c4bcef6-aee7-4d3e-9161-9465ac6656db",
   "metadata": {
    "colab": {
     "base_uri": "https://localhost:8080/"
    },
    "id": "9c4bcef6-aee7-4d3e-9161-9465ac6656db",
    "outputId": "7550c233-71c7-418d-e62f-5a991d640b63"
   },
   "outputs": [
    {
     "name": "stdout",
     "output_type": "stream",
     "text": [
      "\n",
      "Fine-tuning job created:\n",
      "{\n",
      "  \"id\": \"67b504e2451f71cc68416fb5\",\n",
      "  \"created_at\": 1739916514,\n",
      "  \"error\": null,\n",
      "  \"fine_tuned_model\": null,\n",
      "  \"finished_at\": null,\n",
      "  \"hyperparameters\": {\n",
      "    \"batch_size\": 1,\n",
      "    \"learning_rate_multiplier\": 1.0,\n",
      "    \"n_epochs\": 10\n",
      "  },\n",
      "  \"model\": \"meta-llama/Llama-3.1-8B-Instruct\",\n",
      "  \"object\": \"fine_tuning.job\",\n",
      "  \"organization_id\": null,\n",
      "  \"result_files\": [],\n",
      "  \"seed\": null,\n",
      "  \"status\": \"queued\",\n",
      "  \"trained_tokens\": null,\n",
      "  \"training_file\": \"67b504e1e56b50d27357b6b0\",\n",
      "  \"validation_file\": null,\n",
      "  \"estimated_finish\": null,\n",
      "  \"integrations\": [],\n",
      "  \"method\": {\n",
      "    \"dpo\": null,\n",
      "    \"supervised\": {\n",
      "      \"hyperparameters\": null,\n",
      "      \"batch_size\": 1,\n",
      "      \"learning_rate_multiplier\": 1,\n",
      "      \"n_epochs\": 10\n",
      "    },\n",
      "    \"type\": \"supervised\"\n",
      "  }\n",
      "}\n"
     ]
    }
   ],
   "source": [
    "job = client_prod.fine_tuning.jobs.create(\n",
    "    training_file=file_id,\n",
    "    model=\"klusterai/Meta-Llama-3.1-8B-Instruct-Turbo\",\n",
    "    #hyperparameters={\n",
    "    #   \"batch_size\": 4,\n",
    "    #   \"n_epochs\": 2,\n",
    "    #   \"learning_rate_multiplier\": 1\n",
    "    #}\n",
    ")\n",
    "print(\"\\nFine-tuning job created:\")\n",
    "print(json.dumps(job.model_dump(), indent=2))"
   ]
  },
  {
   "cell_type": "markdown",
   "id": "1MGIuV3Yl16I",
   "metadata": {
    "id": "1MGIuV3Yl16I"
   },
   "source": [
    "Next, we can retrieve the status of the job through its ID. The following snippet checks the status every 30 seconds."
   ]
  },
  {
   "cell_type": "code",
   "execution_count": null,
   "id": "419c1ad3-617c-4d5f-aa57-86f7f48cec05",
   "metadata": {
    "colab": {
     "base_uri": "https://localhost:8080/"
    },
    "collapsed": true,
    "id": "419c1ad3-617c-4d5f-aa57-86f7f48cec05",
    "jupyter": {
     "outputs_hidden": true
    },
    "outputId": "2c40540c-b55b-4669-b4ea-193daf131997"
   },
   "outputs": [
    {
     "name": "stdout",
     "output_type": "stream",
     "text": [
      "\n",
      "Current status: validating_files\n",
      "\n",
      "Job events:\n",
      "[\n",
      "  {\n",
      "    \"id\": \"67b504e26913e957964c1232\",\n",
      "    \"created_at\": 1739916514,\n",
      "    \"level\": \"info\",\n",
      "    \"message\": \"Validating training file: 67b504e1e56b50d27357b6b0\",\n",
      "    \"object\": \"fine_tuning.job.event\",\n",
      "    \"data\": {},\n",
      "    \"type\": \"message\"\n",
      "  },\n",
      "  {\n",
      "    \"id\": \"67b504e2451f71cc68416fb7\",\n",
      "    \"created_at\": 1739916514,\n",
      "    \"level\": \"info\",\n",
      "    \"message\": \"Created fine-tuning job: 67b504e2451f71cc68416fb5\",\n",
      "    \"object\": \"fine_tuning.job.event\",\n",
      "    \"data\": {},\n",
      "    \"type\": \"message\"\n",
      "  }\n",
      "]\n",
      "\n"
     ]
    }
   ],
   "source": [
    "while True:\n",
    "    job_status = client_prod.fine_tuning.jobs.retrieve(job.id)\n",
    "    status = job_status.status\n",
    "    print(f\"\\nCurrent status: {status}\")\n",
    "\n",
    "    events = client_prod.fine_tuning.jobs.list_events(job.id)\n",
    "    events_list = [e.model_dump() for e in events]\n",
    "    events_list.sort(key=lambda x: x['created_at'])\n",
    "    print(\"\\nJob events:\")\n",
    "    print(json.dumps(events_list, indent=2))\n",
    "\n",
    "    if status in [\"succeeded\", \"failed\", \"cancelled\"]:\n",
    "        break\n",
    "\n",
    "    time.sleep(30)"
   ]
  },
  {
   "cell_type": "code",
   "execution_count": null,
   "id": "e0c474a4-89ac-40c2-a1fe-a9d1e9267d13",
   "metadata": {
    "id": "e0c474a4-89ac-40c2-a1fe-a9d1e9267d13"
   },
   "outputs": [],
   "source": [
    "fine_tuned_model = job_status.fine_tuned_model"
   ]
  },
  {
   "cell_type": "code",
   "execution_count": null,
   "id": "11dfc4b1-6b88-4379-a3b6-ecdd0026ba43",
   "metadata": {
    "colab": {
     "base_uri": "https://localhost:8080/",
     "height": 35
    },
    "id": "11dfc4b1-6b88-4379-a3b6-ecdd0026ba43",
    "outputId": "8454aaf0-8cdf-4c0e-fc12-915a2d5eba57"
   },
   "outputs": [],
   "source": [
    "job_status.fine_tuned_model"
   ]
  },
  {
   "cell_type": "markdown",
   "id": "44823bfb-fac2-4be9-aa3c-67cebbdd81cd",
   "metadata": {
    "id": "44823bfb-fac2-4be9-aa3c-67cebbdd81cd"
   },
   "source": [
    "Congratulations! You've now created a Fine-tuned model. The exact name of your Fine-tuned model is above.\n",
    "\n",
    "In the next section, you'll submit batch requests to your Fine-tuned model. However, you can also submit one-off requests as follows (remember to provide your kluster.ai API key and the name of your Fine-tuned model):\n",
    "\n",
    "```bash\n",
    "curl https://api.kluster.ai/v1/chat/completions \\\n",
    "  -H \"Authorization: Bearer INSERT_API_KEY\" \\\n",
    "  -H \"Content-Type: application/json\" \\\n",
    "  -d '{\n",
    "    \"model\": \"INSERT_FINE_TUNED_MODEL\",\n",
    "    \"max_completion_tokens\": 5000,\n",
    "    \"temperature\": 0.6,\n",
    "    \"top_p\": 1,\n",
    "    \"messages\": [\n",
    "      {\n",
    "        \"role\": \"system\",\n",
    "        \"content\": \"You are a helpful assistant specializing in determining the sentiment of financial news.\\nAnalyze the following text regarding financial information and assign one of the following labels to indicate its sentiment: positive, negative, or neutral.\\nProvide your response as a single word without any punctuation.\"\n",
    "      },\n",
    "      {\n",
    "        \"role\": \"user\",\n",
    "        \"content\": \"Net sales increased to EUR655m in April to June 2010 from EUR438m a year earlier.\"\n",
    "      }\n",
    "    ]\n",
    "  }'\n",
    "```\n",
    "\n"
   ]
  },
  {
   "cell_type": "markdown",
   "id": "85c41457-2f31-4e98-aa55-3a42a478b8e7",
   "metadata": {
    "id": "85c41457-2f31-4e98-aa55-3a42a478b8e7"
   },
   "source": [
    "## Test the Fine-tuned model with Batch inference"
   ]
  },
  {
   "cell_type": "markdown",
   "id": "598eeeac-84dc-40eb-a64d-19ee80114bb8",
   "metadata": {
    "id": "598eeeac-84dc-40eb-a64d-19ee80114bb8"
   },
   "source": [
    "In real-world scenarios, you often need to assess your model’s performance on a broad set of inputs rather than just a single prompt. This is where batch inference comes in: by sending multiple prompts in one job, you can quickly gather outputs across diverse examples and see how well your model generalizes.\n",
    "\n",
    "In this section, we’ll run batch requests to the Fine-tuned model and baseline models, then compare their outputs. We’ll use a single system prompt for all inputs, showing how prompt engineering influences results. After the jobs finish, we’ll retrieve the responses, measure their accuracy against the ground truth, and highlight where the Fine-tuned model excels—or needs further tuning—relative to more generalized models.\n",
    "\n",
    "With LLMs, writing a good prompt, including the system prompt, is essential. Below, you can see an example instruction for the LLM. Feel free to experiment with it and see how it changes the performance!"
   ]
  },
  {
   "cell_type": "code",
   "execution_count": null,
   "id": "3bb7f503-dbe5-4983-99e7-0794a0835ec1",
   "metadata": {
    "id": "3bb7f503-dbe5-4983-99e7-0794a0835ec1"
   },
   "outputs": [],
   "source": [
    "SYSTEM_PROMPT = '''\n",
    "    You are a helpful assistant specializing in determining the sentiment of financial news.\n",
    "    Analyze the following text regarding financial information and assign one of the following labels to indicate its sentiment: positive, negative, or neutral.\n",
    "    Provide your response as a single word without any punctuation.\n",
    "    '''"
   ]
  },
  {
   "cell_type": "markdown",
   "id": "c4f5a51c-fc39-4567-b85d-95a98d5f9c98",
   "metadata": {
    "id": "c4f5a51c-fc39-4567-b85d-95a98d5f9c98"
   },
   "source": [
    "Now that the prompt is defined, it's time to execute the code and run the classification task for each model. In this step, we loop through the list of models, creating the requests and Batch jobs, monitoring progress, and retrieving the results.\n"
   ]
  },
  {
   "cell_type": "code",
   "execution_count": null,
   "id": "fe1531a6-844e-4173-8122-a7bf871df06c",
   "metadata": {
    "colab": {
     "base_uri": "https://localhost:8080/",
     "height": 35
    },
    "id": "fe1531a6-844e-4173-8122-a7bf871df06c",
    "outputId": "4a7484fc-35fb-4700-d397-751ef357356e"
   },
   "outputs": [],
   "source": [
    "# Define models\n",
    "models = {\n",
    "        '8B':\"klusterai/Meta-Llama-3.1-8B-Instruct-Turbo\",\n",
    "        '70B':\"klusterai/Meta-Llama-3.3-70B-Instruct-Turbo\",\n",
    "        '405B':\"klusterai/Meta-Llama-3.1-405B-Instruct-Turbo\",\n",
    "        'ft_8B': fine_tuned_model\n",
    "        }\n",
    "\n",
    "# Process each model: create tasks, run jobs, and get results\n",
    "for name, model in models.items():\n",
    "    task_list = create_tasks(test_df, task_type='assistant', system_prompt=SYSTEM_PROMPT, model=model, content_column='text')\n",
    "    filename = save_tasks(task_list, task_type='assistant')\n",
    "    if name != 'ft_8B':\n",
    "        job = create_batch_job(filename, client=client_prod)\n",
    "        monitor_job_status(client=client_prod, job_id=job.id, task_type=f'{name} model')\n",
    "        test_df[f'answer_base_{name}'] = get_results(client=client_prod, job_id=job.id)\n",
    "    else:\n",
    "        job = create_batch_job(filename, client=client_prod)\n",
    "        monitor_job_status(client=client_prod, job_id=job.id, task_type=f'{name} model')\n",
    "        test_df[f'answer_{name}'] = get_results(client=client_prod, job_id=job.id)"
   ]
  },
  {
   "cell_type": "markdown",
   "id": "1c8c0a90-18be-4192-a9a7-c03f610e838d",
   "metadata": {},
   "source": [
    "In the chart below, we compare three text samples and evaluate each model’s outputs against the ground truth. While results may vary in different Fine-tuning runs, we observe consistent trends: notably, the Fine-tuned model's performance closely matches that of the larger (and more expensive) base model. This suggests that Fine-tuning can deliver higher accuracy on your specific tasks at a lower cost than relying on higher-parameter models. "
   ]
  },
  {
   "cell_type": "code",
   "execution_count": null,
   "id": "a0f539e6-4db6-49e3-af00-8bea1772fab4",
   "metadata": {
    "colab": {
     "base_uri": "https://localhost:8080/",
     "height": 195
    },
    "id": "a0f539e6-4db6-49e3-af00-8bea1772fab4",
    "outputId": "45e3f6df-e1d8-4b31-c117-0fc31c780abe"
   },
   "outputs": [],
   "source": [
    "test_df.tail(3)"
   ]
  },
  {
   "cell_type": "markdown",
   "id": "26ac1e99-edfe-4041-819e-1d366fbcfd68",
   "metadata": {
    "id": "26ac1e99-edfe-4041-819e-1d366fbcfd68"
   },
   "source": [
    "## Compare the results\n",
    "In this step, we compare the Fine-tuned model's classification accuracy against various baseline models. We can determine whether fine-tuning delivers meaningful improvements over larger general-purpose models by calculating and visualizing their performance."
   ]
  },
  {
   "cell_type": "code",
   "execution_count": null,
   "id": "b6654619-712c-4a08-b43b-6fdb6caaa871",
   "metadata": {
    "colab": {
     "base_uri": "https://localhost:8080/",
     "height": 407
    },
    "id": "b6654619-712c-4a08-b43b-6fdb6caaa871",
    "outputId": "da2df982-f36c-4b44-aae2-b4b1b760a1c9"
   },
   "outputs": [
    {
     "data": {
      "image/png": "[encoded data removed]",
      "text/plain": [
       "<Figure size 600x400 with 1 Axes>"
      ]
     },
     "metadata": {},
     "output_type": "display_data"
    }
   ],
   "source": [
    "# Rename dictionary\n",
    "rename_dict = {\n",
    "    'answer_base_8B': 'Base 8b model',\n",
    "    'answer_base_70B': 'Base 70b model',\n",
    "    'answer_base_405B': 'Base 405b model',\n",
    "    'answer_ft_8B': 'Fine Tuned 8b model',\n",
    "}\n",
    "\n",
    "# Calculate accuracy for each model with renamed keys\n",
    "accuracies = {}\n",
    "for name in rename_dict:\n",
    "    accuracy = test_df.apply(lambda row: row[name] in row['sentiment'], axis=1).mean()\n",
    "    accuracies[rename_dict[name]] = accuracy\n",
    "\n",
    "# Horizontal bar chart\n",
    "fig, ax = plt.subplots(figsize=(6, 4))\n",
    "sns.barplot(\n",
    "    y=list(accuracies.keys()),\n",
    "    x=list(accuracies.values()),\n",
    "    hue=list(accuracies.keys()),  # Add a hue based on the model names\n",
    "    palette=\"viridis\",\n",
    "    edgecolor='black',\n",
    "    ax=ax,\n",
    "    legend=False  # Disable the unnecessary legend\n",
    ")\n",
    "\n",
    "# Add labels to bars\n",
    "for i, bar in enumerate(ax.patches):\n",
    "    ax.text(bar.get_width() - 0.02,\n",
    "            bar.get_y() + bar.get_height() / 2,\n",
    "            f\"{list(accuracies.values())[i]:.3f}\",\n",
    "            ha='right', va='center', color='white', fontsize=12, fontweight='bold')\n",
    "\n",
    "# Set plot aesthetics\n",
    "ax.set_xlim(0, max(accuracies.values()) + 0.05)\n",
    "ax.set_xlabel('Accuracy', fontsize=12)\n",
    "ax.set_ylabel('Model', fontsize=12)\n",
    "ax.set_title('Classification Accuracy by Model', fontsize=14, fontweight='bold')\n",
    "sns.despine()\n",
    "\n",
    "# Show the plot\n",
    "plt.tight_layout()\n",
    "plt.show()"
   ]
  },
  {
   "cell_type": "markdown",
   "id": "b3cd0c42-2386-490c-b8bb-263c50e1b66b",
   "metadata": {
    "id": "b3cd0c42-2386-490c-b8bb-263c50e1b66b"
   },
   "source": [
    "## Conclusion\n",
    "\n",
    "As shown in the chart above, the Fine-tuned model outperforms the base model when given a substantial amount of training data and default hyperparameters. Training on 4,000 financial phrases with these defaults usually takes several hours. Once you complete this tutorial successfully, feel free to explore different hyperparameters, datasets, prompts, and the various models available from kluster.ai. Good luck!"
   ]
  }
 ],
 "metadata": {
  "colab": {
   "provenance": []
  },
  "kernelspec": {
   "display_name": "Python 3 (ipykernel)",
   "language": "python",
   "name": "python3"
  },
  "language_info": {
   "codemirror_mode": {
    "name": "ipython",
    "version": 3
   },
   "file_extension": ".py",
   "mimetype": "text/x-python",
   "name": "python",
   "nbconvert_exporter": "python",
   "pygments_lexer": "ipython3",
   "version": "3.10.8"
  }
 },
 "nbformat": 4,
 "nbformat_minor": 5
}
