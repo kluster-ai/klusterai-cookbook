{
 "cells": [
  {
   "cell_type": "markdown",
   "id": "be189fde-4e5b-4f80-bae1-ded86a5075a7",
   "metadata": {
    "id": "be189fde-4e5b-4f80-bae1-ded86a5075a7"
   },
   "source": [
    "# Evaluating LLMs with labeled data"
   ]
  },
  {
   "cell_type": "markdown",
   "id": "b17a77d9",
   "metadata": {},
   "source": [
    "[![Open in Colab](https://colab.research.google.com/assets/colab-badge.svg)](https://colab.research.google.com/github/kluster-ai/klusterai-cookbook/blob/main/examples/model-comparison.ipynb)"
   ]
  },
  {
   "cell_type": "markdown",
   "id": "1297a26a-fdb2-48b4-bc1e-d66ec0b40acc",
   "metadata": {},
   "source": [
    "In this hands-on tutorial, you'll learn how to systematically evaluate Language Models (LLMs) using the <a href=\"https://kluster.ai/\" target=\"_blank\">kluster.ai</a> batch API. We'll walk through a practical example of comparing different models for a real-world task.\n",
    "\n",
    "Choosing the right LLM for your specific use case is crucial but can be challenging. While larger models might offer better performance, they often come with higher costs. kluster.ai provides high-performing models at competitive prices, making advanced AI more accessible.\n",
    "\n",
    "Together, we'll create a systematic evaluation pipeline that:\n",
    "\n",
    "1. Loads and processes a public dataset (which you can later replace with your own)\n",
    "2. Tests three state-of-the-art Llama models on a text classification task\n",
    "3. Compares their accuracy using annotated data\n",
    "4. Helps you make an informed decision based on both performance and cost\n",
    "\n",
    "Let's get started with understanding how we'll measure model performance."
   ]
  },
  {
   "cell_type": "markdown",
   "id": "efbb26eb",
   "metadata": {},
   "source": [
    "## Understanding accuracy in model evaluation\n",
    "\n",
    "Before comparing models, let's understand our main evaluation metric: accuracy. In machine learning, accuracy is one of the most intuitive performance metrics.\n",
    "\n",
    "Accuracy is calculated by taking the number of correct predictions and dividing it by the total number of predictions. For example, if a model correctly classifies 85 out of 100 movie genres, its accuracy would be 85%.\n",
    "\n",
    "$$ \\text{Accuracy} = \\frac{\\text{Number of Correct Classifications}}{\\text{Total Number of Classifications}} $$\n",
    "\n",
    "We're choosing accuracy for this tutorial because:\n",
    "\n",
    "1. It's easy to understand and interpret\n",
    "2. It directly answers the question: \"How often is our model correct?\"\n",
    "\n",
    "In the next section, we'll see how to implement this metric in our evaluation pipeline."
   ]
  },
  {
   "cell_type": "markdown",
   "id": "64678388",
   "metadata": {},
   "source": [
    "## Prerequisites\n",
    "\n",
    "Before getting started, ensure you have the following:\n",
    "\n",
    "- **A kluster.ai account** - sign up on the <a href=\"https://platform.kluster.ai/signup\" target=\"_blank\">kluster.ai platform</a> if you don't have one\n",
    "- **A kluster.ai API key** - after signing in, go to the <a href=\"https://platform.kluster.ai/apikeys\" target=\"_blank\">**API Keys**</a> section and create a new key. For detailed instructions, check out the <a href=\"https://docs.kluster.ai/get-started/get-api-key/\" target=\"_blank\">Get an API key</a> guide"
   ]
  },
  {
   "cell_type": "markdown",
   "id": "4ace7b9c-eb77-4f6a-a3c2-eb75581ed427",
   "metadata": {},
   "source": [
    "## Setup\n",
    "\n",
    "In this notebook, we'll use Python's `getpass` module to safely input the key. Provide your unique kluster.ai API key (ensure there are no spaces)."
   ]
  },
  {
   "cell_type": "code",
   "execution_count": 1,
   "id": "4911e5eb-7463-4a6b-8a99-9313cecd9d4d",
   "metadata": {},
   "outputs": [
    {
     "name": "stdout",
     "output_type": "stream",
     "text": [
      "Enter your kluster.ai API key:  ········\n"
     ]
    }
   ],
   "source": [
    "from getpass import getpass\n",
    "# Enter you personal kluster.ai API key (make sure in advance it has no blank spaces)\n",
    "api_key = getpass(\"Enter your kluster.ai API key: \")"
   ]
  },
  {
   "cell_type": "code",
   "execution_count": 2,
   "id": "bcc3d475-8f49-4fc4-9a5e-c6eb6866d2b5",
   "metadata": {},
   "outputs": [
    {
     "name": "stdout",
     "output_type": "stream",
     "text": [
      "Note: you may need to restart the kernel to use updated packages.\n"
     ]
    }
   ],
   "source": [
    "%pip install -q OpenAI"
   ]
  },
  {
   "cell_type": "code",
   "execution_count": 3,
   "id": "b89a4feb-37a9-430d-a742-cd58495b4eaf",
   "metadata": {},
   "outputs": [],
   "source": [
    "import urllib.request\n",
    "import pandas as pd\n",
    "import numpy as np\n",
    "from openai import OpenAI\n",
    "import time\n",
    "import json\n",
    "from IPython.display import clear_output, display\n",
    "import matplotlib.pyplot as plt\n",
    "\n",
    "pd.set_option('display.max_columns', 1000, 'display.width', 1000, 'display.max_rows',1000, 'display.max_colwidth', 500)"
   ]
  },
  {
   "cell_type": "code",
   "execution_count": 4,
   "id": "zG9y_WO5rYaj",
   "metadata": {},
   "outputs": [],
   "source": [
    "# Set up the client\n",
    "client = OpenAI(\n",
    "    base_url=\"https://api.kluster.ai/v1\",\n",
    "    api_key=api_key,\n",
    ")"
   ]
  },
  {
   "cell_type": "markdown",
   "id": "7d02cfc4-f1dc-4dc9-aabc-1936116f1214",
   "metadata": {},
   "source": [
    "## Build our evaluation pipeline\n",
    "\n",
    "In this section, we'll create several utility functions that will help us:\n",
    "\n",
    "1. Prepare our data for batch processing\n",
    "2. Send requests to the kluster.ai API\n",
    "3. Monitor the progress of our evaluation\n",
    "4. Collect and analyze results\n",
    "\n",
    "These functions will make our evaluation process more efficient and organized. Let's go through each one and understand its purpose:\n",
    "\n",
    "1. **`create_tasks()`** - formats our data for the API\n",
    "2. **`save_tasks()`** - prepares batch files for processing\n",
    "3. **`monitor_job_status()`** - tracks evaluation progress\n",
    "4. **`get_results()`** - collects and processes model outputs"
   ]
  },
  {
   "cell_type": "markdown",
   "id": "b386da2f-8f5a-430f-97e0-118928c3faac",
   "metadata": {},
   "source": [
    "### Create and manage batch files\n",
    "\n",
    "A batch file in our context is a collection of requests that we'll send to our models for evaluation. Think of it as a organized list of tasks we want our models to complete.\n",
    "\n",
    "We'll take the following steps to create batch files:\n",
    "\n",
    "1. **Creating tasks** - we'll convert each movie description into a format LLMs can process\n",
    "2. **Organizing data** -we'll add necessary metadata and instructions for each task\n",
    "3. **Saving files** - we'll store these tasks in a structured format (JSONL) for processing\n",
    "\n",
    "Let's break down the key components of our batch file creation:\n",
    "- **`custom_id`** - helps us track individual requests\n",
    "- **`system_prompt`** - provides instructions to the model\n",
    "- **`content`** - the actual text we want to classify\n",
    "\n",
    "This structured approach allows us to efficiently process multiple requests in parallel."
   ]
  },
  {
   "cell_type": "code",
   "execution_count": 5,
   "id": "fVtwyqZ_nEq7",
   "metadata": {},
   "outputs": [],
   "source": [
    "def create_tasks(df, task_type, system_prompt, model):\n",
    "    tasks = []\n",
    "    for index, row in df.iterrows():\n",
    "        content = row['Overview']\n",
    "        \n",
    "        task = {\n",
    "            \"custom_id\": f\"{task_type}-{index}\",\n",
    "            \"method\": \"POST\",\n",
    "            \"url\": \"/v1/chat/completions\",\n",
    "            \"body\": {\n",
    "                \"model\": model,\n",
    "                \"temperature\": 0,\n",
    "                \"messages\": [\n",
    "                    {\"role\": \"system\", \"content\": system_prompt},\n",
    "                    {\"role\": \"user\", \"content\": content},\n",
    "                ],\n",
    "            }\n",
    "        }\n",
    "        tasks.append(task)\n",
    "    return tasks\n",
    "\n",
    "def save_tasks(tasks, task_type):\n",
    "    filename = f\"batch_tasks_{task_type}.jsonl\"\n",
    "    with open(filename, 'w') as file:\n",
    "        for task in tasks:\n",
    "            file.write(json.dumps(task) + '\\n')\n",
    "    return filename"
   ]
  },
  {
   "cell_type": "markdown",
   "id": "eb88ca74-e555-4823-b020-954a7bab0c87",
   "metadata": {},
   "source": [
    "### Upload files to kluster.ai\n",
    "\n",
    "Now that we've prepared our batch files, we'll upload them to the <a href=\"https://platform.kluster.ai/\" target=\"_blank\">kluster.ai platform</a> for batch inference. This step is crucial for:\n",
    "\n",
    "1. Getting our data to the models\n",
    "2. Setting up the processing queue\n",
    "3. Preparing for inference\n",
    "\n",
    "Once the upload is complete, the following actions will take place:\n",
    "\n",
    "1. The platform queues our requests\n",
    "2. Models process them efficiently\n",
    "3. Results are made available for collection"
   ]
  },
  {
   "cell_type": "code",
   "execution_count": 6,
   "id": "l5eu5UyAnEtk",
   "metadata": {},
   "outputs": [],
   "source": [
    "def create_batch_job(file_name):\n",
    "    print(f\"Creating batch job for {file_name}\")\n",
    "    batch_file = client.files.create(\n",
    "        file=open(file_name, \"rb\"),\n",
    "        purpose=\"batch\"\n",
    "    )\n",
    "\n",
    "    batch_job = client.batches.create(\n",
    "        input_file_id=batch_file.id,\n",
    "        endpoint=\"/v1/chat/completions\",\n",
    "        completion_window=\"24h\"\n",
    "    )\n",
    "\n",
    "    return batch_job"
   ]
  },
  {
   "cell_type": "markdown",
   "id": "e-ujphILqepu",
   "metadata": {
    "id": "e-ujphILqepu"
   },
   "source": [
    "### Check job progress"
   ]
  },
  {
   "cell_type": "markdown",
   "id": "b35d9a1d",
   "metadata": {},
   "source": [
    "This function provides real-time monitoring of batch job progress:\n",
    "\n",
    "- Continuously checks job status via the kluster.ai API\n",
    "- Displays current completion count (completed/total requests)\n",
    "- Updates status every 10 seconds until job is finished\n",
    "- Automatically clears previous output for clean progress tracking"
   ]
  },
  {
   "cell_type": "code",
   "execution_count": 7,
   "id": "SuH0CfoqjP3d",
   "metadata": {},
   "outputs": [],
   "source": [
    "def parse_json_objects(data_string):\n",
    "    if isinstance(data_string, bytes):\n",
    "        data_string = data_string.decode('utf-8')\n",
    "\n",
    "    json_strings = data_string.strip().split('\\n')\n",
    "    json_objects = []\n",
    "\n",
    "    for json_str in json_strings:\n",
    "        try:\n",
    "            json_obj = json.loads(json_str)\n",
    "            json_objects.append(json_obj)\n",
    "        except json.JSONDecodeError as e:\n",
    "            print(f\"Error parsing JSON: {e}\")\n",
    "\n",
    "    return json_objects\n",
    "\n",
    "def monitor_job_status(client, job_id, task_type):\n",
    "    all_completed = False\n",
    "\n",
    "    while not all_completed:\n",
    "        all_completed = True\n",
    "        output_lines = []\n",
    "\n",
    "        updated_job = client.batches.retrieve(job_id)\n",
    "\n",
    "        if updated_job.status.lower() != \"completed\":\n",
    "            all_completed = False\n",
    "            completed = updated_job.request_counts.completed\n",
    "            total = updated_job.request_counts.total\n",
    "            output_lines.append(f\"{task_type.capitalize()} job status: {updated_job.status} - Progress: {completed}/{total}\")\n",
    "        else:\n",
    "            output_lines.append(f\"{task_type.capitalize()} job completed!\")\n",
    "\n",
    "        # Clear the output and display updated status\n",
    "        clear_output(wait=True)\n",
    "        for line in output_lines:\n",
    "            display(line)\n",
    "\n",
    "        if not all_completed:\n",
    "            time.sleep(10)"
   ]
  },
  {
   "cell_type": "markdown",
   "id": "bfc324f1",
   "metadata": {},
   "source": [
    "### Collect and process results\n",
    "\n",
    "The `get_results()` function below does the following:\n",
    "\n",
    "1. Retrieves the completed batch job results\n",
    "2. Extracts the model's response content from each result\n",
    "3. Returns a list of all model responses\n",
    "\n"
   ]
  },
  {
   "cell_type": "code",
   "execution_count": 8,
   "id": "caA5djbLrJ4O",
   "metadata": {},
   "outputs": [],
   "source": [
    "def get_results(client, job_id):\n",
    "    batch_job = client.batches.retrieve(job_id)\n",
    "    result_file_id = batch_job.output_file_id\n",
    "    result = client.files.content(result_file_id).content\n",
    "    results = parse_json_objects(result)\n",
    "    answers = []\n",
    "    \n",
    "    for res in results:\n",
    "        result = res['response']['body']['choices'][0]['message']['content']\n",
    "        answers.append(result)\n",
    "    \n",
    "    return answers"
   ]
  },
  {
   "cell_type": "markdown",
   "id": "fb8c5014-5b0c-43c2-a238-073dbde2d90a",
   "metadata": {
    "id": "udPtLfTaisSw"
   },
   "source": [
    "## Prepare a real dataset for batch inference"
   ]
  },
  {
   "cell_type": "markdown",
   "id": "e6b9ad42-cc58-4054-a510-af09a8592635",
   "metadata": {},
   "source": [
    "Now that we have covered the core general functions and workflow used for batch inference, in this guide, we'll use the IMDb Top 1000 dataset. This dataset contains information about top-rated movies, including their descriptions and genres. Let's download it and see what it looks like."
   ]
  },
  {
   "cell_type": "code",
   "execution_count": 9,
   "id": "yC9wJlV4rwOh",
   "metadata": {},
   "outputs": [
    {
     "data": {
      "text/html": [
       "<div>\n",
       "<style scoped>\n",
       "    .dataframe tbody tr th:only-of-type {\n",
       "        vertical-align: middle;\n",
       "    }\n",
       "\n",
       "    .dataframe tbody tr th {\n",
       "        vertical-align: top;\n",
       "    }\n",
       "\n",
       "    .dataframe thead th {\n",
       "        text-align: right;\n",
       "    }\n",
       "</style>\n",
       "<table border=\"1\" class=\"dataframe\">\n",
       "  <thead>\n",
       "    <tr style=\"text-align: right;\">\n",
       "      <th></th>\n",
       "      <th>Series_Title</th>\n",
       "      <th>Genre</th>\n",
       "      <th>Overview</th>\n",
       "    </tr>\n",
       "  </thead>\n",
       "  <tbody>\n",
       "    <tr>\n",
       "      <th>0</th>\n",
       "      <td>The Shawshank Redemption</td>\n",
       "      <td>Drama</td>\n",
       "      <td>Two imprisoned men bond over a number of years, finding solace and eventual redemption through acts of common decency.</td>\n",
       "    </tr>\n",
       "    <tr>\n",
       "      <th>1</th>\n",
       "      <td>The Godfather</td>\n",
       "      <td>Crime, Drama</td>\n",
       "      <td>An organized crime dynasty's aging patriarch transfers control of his clandestine empire to his reluctant son.</td>\n",
       "    </tr>\n",
       "    <tr>\n",
       "      <th>2</th>\n",
       "      <td>The Dark Knight</td>\n",
       "      <td>Action, Crime, Drama</td>\n",
       "      <td>When the menace known as the Joker wreaks havoc and chaos on the people of Gotham, Batman must accept one of the greatest psychological and physical tests of his ability to fight injustice.</td>\n",
       "    </tr>\n",
       "  </tbody>\n",
       "</table>\n",
       "</div>"
      ],
      "text/plain": [
       "               Series_Title                 Genre                                                                                                                                                                                       Overview\n",
       "0  The Shawshank Redemption                 Drama                                                                         Two imprisoned men bond over a number of years, finding solace and eventual redemption through acts of common decency.\n",
       "1             The Godfather          Crime, Drama                                                                                 An organized crime dynasty's aging patriarch transfers control of his clandestine empire to his reluctant son.\n",
       "2           The Dark Knight  Action, Crime, Drama  When the menace known as the Joker wreaks havoc and chaos on the people of Gotham, Batman must accept one of the greatest psychological and physical tests of his ability to fight injustice."
      ]
     },
     "execution_count": 9,
     "metadata": {},
     "output_type": "execute_result"
    }
   ],
   "source": [
    "# IMDB Top 1000 dataset:\n",
    "url = \"https://raw.githubusercontent.com/kluster-ai/klusterai-cookbook/refs/heads/main/data/imdb_top_1000.csv\"\n",
    "urllib.request.urlretrieve(url,filename='imdb_top_1000.csv')\n",
    "\n",
    "# Load and process the dataset based on URL content\n",
    "df = pd.read_csv('imdb_top_1000.csv', usecols=['Series_Title', 'Overview', 'Genre'])\n",
    "df.head(3)"
   ]
  },
  {
   "cell_type": "markdown",
   "id": "50899394-29ac-48f2-95bb-a433d7dceae0",
   "metadata": {},
   "source": [
    "As you may notice, each movie already has an annotated label, and in some cases, there may be more than one label for each movie. We will ask the LLM to identify just one genre for this notebook. We will consider the prediction correct if the predicted genre matches at least one of the genres listed in the dataset’s genre column (our ground truth). Using ground truth annotated data, we can calculate the accuracy and measure how well the LLM performed."
   ]
  },
  {
   "cell_type": "markdown",
   "id": "4fe66a82-afc0-4fea-9b73-f33fe93f3e89",
   "metadata": {},
   "source": [
    "## Perform batch inference"
   ]
  },
  {
   "cell_type": "markdown",
   "id": "ebb5789f-8464-4355-8a21-3b49df240b57",
   "metadata": {},
   "source": [
    "With LLMs, it is really important to write a good prompt, including the system prompt. Below, you can see our example instructions for the LLM. You should experiment with this and see how it changes performance!"
   ]
  },
  {
   "cell_type": "code",
   "execution_count": 10,
   "id": "3bb7f503-dbe5-4983-99e7-0794a0835ec1",
   "metadata": {},
   "outputs": [],
   "source": [
    "SYSTEM_PROMPT = '''\n",
    "    You are a helpful assitant that classifies movie genres based on the movie description. Choose one of the following options: \n",
    "    Action, Adventure, Animation, Biography, Comedy, Crime, Drama, Family, Fantasy, Film-Noir, History, Horror, Music, Musical, Mystery, Romance, Sci-Fi, Sport, Thriller, War, Western.\n",
    "    Provide your response as a single word with the matching genre. Don't include punctuation.\n",
    "    '''"
   ]
  },
  {
   "cell_type": "markdown",
   "id": "ee0af326-9658-4a40-8abe-746f08dd4251",
   "metadata": {},
   "source": [
    "Now that the prompt is defined, it’s time to execute the code and run the classification task for each model. In this step, we loop through the list of models, creating the requests and batch jobs, monitoring progress, and retrieving the results."
   ]
  },
  {
   "cell_type": "code",
   "execution_count": 11,
   "id": "fe1531a6-844e-4173-8122-a7bf871df06c",
   "metadata": {},
   "outputs": [
    {
     "data": {
      "text/plain": [
       "'405b model job completed!'"
      ]
     },
     "metadata": {},
     "output_type": "display_data"
    }
   ],
   "source": [
    "# Define models\n",
    "models = {\n",
    "        '8B':\"klusterai/Meta-Llama-3.1-8B-Instruct-Turbo\",\n",
    "        '70B':\"klusterai/Meta-Llama-3.3-70B-Instruct-Turbo\",\n",
    "        '405B':\"klusterai/Meta-Llama-3.1-405B-Instruct-Turbo\",\n",
    "        }\n",
    "\n",
    "# Process each model: create tasks, run jobs, and get results\n",
    "for name, model in models.items():\n",
    "    task_list = create_tasks(df, task_type='assistant', system_prompt=SYSTEM_PROMPT, model=model)\n",
    "    filename = save_tasks(task_list, task_type='assistant')\n",
    "    job = create_batch_job(filename)\n",
    "    monitor_job_status(client=client, job_id=job.id, task_type=f'{name} model')\n",
    "    df[f'{name}_genre'] = get_results(client=client, job_id=job.id)"
   ]
  },
  {
   "cell_type": "markdown",
   "id": "26ac1e99-edfe-4041-819e-1d366fbcfd68",
   "metadata": {},
   "source": [
    "## Analyze the results\n",
    "\n",
    "Now that we've evaluated our models let's analyze their performance. The graph below shows the accuracy scores for each model we tested. Here's what we can observe:\n",
    "\n",
    "1. Performance comparison\n",
    "   - The 70B and 405B models achieved similar accuracy levels\n",
    "   - Both outperformed the 8B model significantly\n",
    "2. Cost-benefit analysis\n",
    "   - Given the similar performance of the 70B and 405B models\n",
    "   - Considering the lower cost of the 70B model\n",
    "   - The 70B model emerges as the most cost-effective choice\n",
    "\n",
    "We recommend using the 70B model for this specific task based on our evaluation. It offers strong performance comparable to the larger model, better cost efficiency, and a good balance of accuracy and resource usage.\n",
    "\n",
    "This demonstrates how systematic evaluation can help make data-driven decisions in model selection."
   ]
  },
  {
   "cell_type": "code",
   "execution_count": 12,
   "id": "b607c47b-f27e-46b7-b20a-ae6f585a7688",
   "metadata": {},
   "outputs": [
    {
     "data": {
      "image/png": "[encoded data removed]",
      "text/plain": [
       "<Figure size 640x480 with 1 Axes>"
      ]
     },
     "metadata": {},
     "output_type": "display_data"
    }
   ],
   "source": [
    "# Calculate accuracy for each model\n",
    "accuracies = {}\n",
    "for name, _ in models.items():\n",
    "    accuracy = df.apply(lambda row: row[f'{name}_genre'] in row['Genre'].split(', '), axis=1).mean()\n",
    "    accuracies[name] = accuracy\n",
    "\n",
    "# Create the bar plot\n",
    "fig, ax = plt.subplots()\n",
    "bars = ax.bar(accuracies.keys(), accuracies.values(), edgecolor='black')\n",
    "ax.bar_label(bars, label_type='center', color='white', fmt=\"%.3f\")\n",
    "ax.set_ylim(0, max(accuracies.values())+ 0.01)\n",
    "ax.set_xlabel('Model')\n",
    "ax.set_ylabel('Accuracy')\n",
    "\n",
    "ax.set_title('Classification accuracy by model')\n",
    "plt.show()"
   ]
  },
  {
   "cell_type": "markdown",
   "id": "3012d86e",
   "metadata": {},
   "source": [
    "## Conclusion\n",
    "\n",
    "In this tutorial, we've covered the following key concepts:\n",
    "\n",
    "- **Model evaluation process** - how to systematically compare LLM performance, using accuracy as a key metric and implementing batch inference for efficient evaluation\n",
    "- **Cost-performance balance** - larger models aren’t always significantly better; the importance of considering cost-effectiveness and making data-driven model selections\n",
    "- **Practical implementations** - using the kluster.ai batch API effectively, processing large datasets efficiently, and making informed decisions based on results\n",
    "\n",
    "With this knowledge, you are now equipped to:\n",
    "\n",
    "- **Apply to your use case** - adapt this approach to your specific needs, use your own labeled datasets, and customize evaluation metrics as needed\n",
    "- **Optimize further** - experiment with different prompts, try other model configurations and explore additional evaluation metrics\n",
    "- **Scale your solution** - implement in production environments, monitor performance over time, and adjust based on real-world feedback\n",
    "\n",
    "Remember: The goal is finding the right balance between your application's performance and cost."
   ]
  }
 ],
 "metadata": {
  "language_info": {
   "name": "python"
  }
 },
 "nbformat": 4,
 "nbformat_minor": 5
}
