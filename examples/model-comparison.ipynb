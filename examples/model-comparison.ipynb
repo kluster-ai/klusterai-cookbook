{
 "cells": [
  {
   "cell_type": "markdown",
   "id": "be189fde-4e5b-4f80-bae1-ded86a5075a7",
   "metadata": {
    "id": "be189fde-4e5b-4f80-bae1-ded86a5075a7"
   },
   "source": [
    "# Evaluating LLMs with labeled data"
   ]
  },
  {
   "cell_type": "markdown",
   "id": "b17a77d9",
   "metadata": {},
   "source": [
    "[![Open in Colab](https://colab.research.google.com/assets/colab-badge.svg)](https://colab.research.google.com/github/kluster-ai/klusterai-cookbook/blob/main/examples/model-comparison.ipynb)"
   ]
  },
  {
   "cell_type": "markdown",
   "id": "1297a26a-fdb2-48b4-bc1e-d66ec0b40acc",
   "metadata": {},
   "source": [
    "How can you know which LLM is better for a given task? Choosing the right LLM for your specific use case is crucial but challenging. While larger models generally offer better performance, they often come with higher costs.\n",
    "\n",
    "This tutorial walks through a notebook where you'll learn how to systematically evaluate Large Language Models (LLMs) using the <a href=\"https://kluster.ai/\" target=\"_blank\">kluster.ai</a> batch API, showcasing a practical example of comparing different models for a real-world task. The systematic evaluation pipeline does the following:\n",
    "\n",
    "1. Loads and processes a public dataset (which you can later replace with your own).\n",
    "2. Tests three state-of-the-art models on a text classification task.\n",
    "3. Compares their accuracy using annotated data.\n",
    "4. Helps you make an informed decision based on both performance and cost.\n",
    "\n",
    "You'll be using the same dataset as in our <a href=\"/tutorials/klusterai-api/text-classification/text-classification-openai-api/\" target=\"_blank\">text classification notebook</a>, which is an extract from the IMDB top 1000 movies dataset categorized into 21 different genres.\n",
    "\n",
    "## Understanding accuracy in model evaluation\n",
    "\n",
    "Before we compare machine learning models, it’s important to understand the evaluation metric we’ll be using: accuracy.\n",
    "\n",
    "In machine learning, accuracy is one of the simplest and most commonly used performance metrics, especially for classification problems. It gives us a quick sense of how often the model gets things right.\n",
    "\n",
    "Accuracy is calculated by taking the number of correct predictions and dividing it by the total number of predictions. For example, if a model correctly classifies 85 out of 100 movie genres, its accuracy would be 85%.\n",
    "\n",
    "$$ \\text{Accuracy} = \\frac{\\text{Number of Correct Classifications}}{\\text{Total Number of Classifications}} $$\n",
    "\n",
    "We're choosing accuracy for this tutorial because:\n",
    "\n",
    "1. It's easy to understand and interpret.\n",
    "2. It directly answers the question: \"How often is our model correct?\"\n",
    "\n",
    "In the next section, we'll see how to implement this metric in our evaluation pipeline.\n",
    "\n",
    "## Prerequisites\n",
    "\n",
    "Before getting started, ensure you have the following:\n",
    "\n",
    "- **A kluster.ai account**: Sign up on the <a href=\"https://platform.kluster.ai/signup\" target=\"_blank\">kluster.ai platform</a> if you don't have one.\n",
    "- **A kluster.ai API key**: After signing in, go to the <a href=\"https://platform.kluster.ai/apikeys\" target=\"_blank\">**API Keys**</a> section and create a new key. For detailed instructions, check out the <a href=\"/get-started/get-api-key/\" target=\"_blank\">Get an API key</a> guide.\n",
    "\n",
    "## Setup\n",
    "\n",
    "In this notebook, we'll use Python's `getpass` module to input the key safely. After execution, please provide your unique kluster.ai API key (ensure no spaces)."
   ]
  },
  {
   "cell_type": "code",
   "execution_count": 1,
   "id": "4911e5eb-7463-4a6b-8a99-9313cecd9d4d",
   "metadata": {},
   "outputs": [
    {
     "name": "stdout",
     "output_type": "stream",
     "text": [
      "Enter your kluster.ai API key:  ········\n"
     ]
    }
   ],
   "source": [
    "from getpass import getpass\n",
    "\n",
    "api_key = getpass(\"Enter your kluster.ai API key: \")"
   ]
  },
  {
   "cell_type": "markdown",
   "id": "5273d66b-c958-48b0-b6a2-a8bad93bd5ca",
   "metadata": {},
   "source": [
    "Next, ensure you've installed the OpenAI Python library:"
   ]
  },
  {
   "cell_type": "code",
   "execution_count": 2,
   "id": "bcc3d475-8f49-4fc4-9a5e-c6eb6866d2b5",
   "metadata": {},
   "outputs": [
    {
     "name": "stdout",
     "output_type": "stream",
     "text": [
      "Note: you may need to restart the kernel to use updated packages.\n"
     ]
    }
   ],
   "source": [
    "%pip install -q OpenAI"
   ]
  },
  {
   "cell_type": "markdown",
   "id": "ea8471cd-cd96-4f5d-8b9b-411ddd4c06c3",
   "metadata": {},
   "source": [
    "With the OpenAI Python library installed, we import the necessary dependencies for the tutorial:"
   ]
  },
  {
   "cell_type": "code",
   "execution_count": 3,
   "id": "b89a4feb-37a9-430d-a742-cd58495b4eaf",
   "metadata": {},
   "outputs": [],
   "source": [
    "from openai import OpenAI\n",
    "\n",
    "import pandas as pd\n",
    "import time\n",
    "import json\n",
    "import os\n",
    "from IPython.display import clear_output, display\n",
    "import matplotlib.pyplot as plt\n",
    "import urllib.request\n",
    "import numpy as np"
   ]
  },
  {
   "cell_type": "markdown",
   "id": "34313569-d483-489d-bc96-8007682c5de6",
   "metadata": {},
   "source": [
    "Then, initialize the `client` by pointing it to the kluster.ai endpoint and passing your API key.\n"
   ]
  },
  {
   "cell_type": "code",
   "execution_count": 4,
   "id": "zG9y_WO5rYaj",
   "metadata": {},
   "outputs": [],
   "source": [
    "# Set up the client\n",
    "client = OpenAI(\n",
    "    base_url=\"https://api.kluster.ai/v1\",\n",
    "    api_key=api_key,\n",
    ")"
   ]
  },
  {
   "cell_type": "markdown",
   "id": "122fb3bb-5bbc-4ebd-bc78-96f33f712e4e",
   "metadata": {},
   "source": [
    "## Get the data\n",
    "\n",
    "Now that you've initialized an OpenAI-compatible client pointing to kluster.ai, we can talk about the data.\n",
    "\n",
    "This notebook uses a dataset from the Top 1000 IMDb Movies dataset, which contains descriptions and genres for each movie. In some cases, a movie can have more than one label. When calculating the accuracy, we'll consider the prediction correct if the predicted genre matches at least one of the genres listed in the dataset, the ground truth. This ground truth allows the notebook to calculate the accuracy and measure how well a given LLM has performed.\n"
   ]
  },
  {
   "cell_type": "code",
   "execution_count": 5,
   "id": "e3e70a02-4c83-4f6c-997d-2afa16d9081d",
   "metadata": {},
   "outputs": [
    {
     "data": {
      "text/html": [
       "<div>\n",
       "<style scoped>\n",
       "    .dataframe tbody tr th:only-of-type {\n",
       "        vertical-align: middle;\n",
       "    }\n",
       "\n",
       "    .dataframe tbody tr th {\n",
       "        vertical-align: top;\n",
       "    }\n",
       "\n",
       "    .dataframe thead th {\n",
       "        text-align: right;\n",
       "    }\n",
       "</style>\n",
       "<table border=\"1\" class=\"dataframe\">\n",
       "  <thead>\n",
       "    <tr style=\"text-align: right;\">\n",
       "      <th></th>\n",
       "      <th>Series_Title</th>\n",
       "      <th>Genre</th>\n",
       "      <th>Overview</th>\n",
       "    </tr>\n",
       "  </thead>\n",
       "  <tbody>\n",
       "    <tr>\n",
       "      <th>0</th>\n",
       "      <td>The Shawshank Redemption</td>\n",
       "      <td>Drama</td>\n",
       "      <td>Two imprisoned men bond over a number of years...</td>\n",
       "    </tr>\n",
       "    <tr>\n",
       "      <th>1</th>\n",
       "      <td>The Godfather</td>\n",
       "      <td>Crime, Drama</td>\n",
       "      <td>An organized crime dynasty's aging patriarch t...</td>\n",
       "    </tr>\n",
       "    <tr>\n",
       "      <th>2</th>\n",
       "      <td>The Dark Knight</td>\n",
       "      <td>Action, Crime, Drama</td>\n",
       "      <td>When the menace known as the Joker wreaks havo...</td>\n",
       "    </tr>\n",
       "  </tbody>\n",
       "</table>\n",
       "</div>"
      ],
      "text/plain": [
       "               Series_Title                 Genre  \\\n",
       "0  The Shawshank Redemption                 Drama   \n",
       "1             The Godfather          Crime, Drama   \n",
       "2           The Dark Knight  Action, Crime, Drama   \n",
       "\n",
       "                                            Overview  \n",
       "0  Two imprisoned men bond over a number of years...  \n",
       "1  An organized crime dynasty's aging patriarch t...  \n",
       "2  When the menace known as the Joker wreaks havo...  "
      ]
     },
     "execution_count": 5,
     "metadata": {},
     "output_type": "execute_result"
    }
   ],
   "source": [
    "# IMDB Top 1000 dataset:\n",
    "url = \"https://raw.githubusercontent.com/kluster-ai/klusterai-cookbook/refs/heads/main/data/imdb_top_1000.csv\"\n",
    "urllib.request.urlretrieve(url,filename='imdb_top_1000.csv')\n",
    "\n",
    "# Load and process the dataset based on URL content\n",
    "df = pd.read_csv('imdb_top_1000.csv', usecols=['Series_Title', 'Overview', 'Genre'])\n",
    "df.head(3)"
   ]
  },
  {
   "cell_type": "markdown",
   "id": "67681f43-7a33-460d-8ae5-6944b593e658",
   "metadata": {},
   "source": [
    "## Perform batch inference\n",
    "\n",
    "To execute the batch inference job, we'll take the following steps:\n",
    "\n",
    "1. **Create the batch job file**: We'll generate a JSON lines file with the desired requests to be processed by the model.\n",
    "2. **Upload the batch job file**: Once it is ready, we'll upload it to the <a href=\"https://platform.kluster.ai/signup\" target=\"_blank\">kluster.ai platform</a> using the API, where it will be processed. We'll receive a unique ID associated with our file.\n",
    "3. **Start the batch job**: After the file is uploaded, we'll initiate the job to process the uploaded data, using the file ID obtained before.\n",
    "4. **Monitor job progress (optional)**: Track the status of the batch job to ensure it has been successfully completed.\n",
    "5. **Retrieve results**: Once the job has completed execution, we can access and process the resultant data.\n",
    "\n",
    "This notebook is prepared for you to follow along. Run the cells below to watch it all come together.\n",
    "\n",
    "### Create the batch job file\n",
    "\n",
    "This example compares the DeepSeek V3 0324, Llama 4 Maverick 17B 128E, Llama 4 Scout 17B 16E, and Gemma 3 27B models. If you'd like to test different models, feel free to modify the scripts accordingly. DeepSeek R1 was excluded from the comparison, as it consistently returned verbose responses despite multiple attempts to adjust the system prompt.\n",
    "\n",
    "Please refer to the <a href=\"/get-started/models/#model-comparison-table\" target=\"_blank\">Supported models</a> section for a list of the models we support.\n",
    "\n",
    "The following snippets prepare the JSONL file, where each line represents a different request. Note that each separate batch request can have its own model. Also, we are using a temperature of `0.5`, but feel free to change it and play around with the different outcomes (but we are only asking to respond with a single word, the genre)."
   ]
  },
  {
   "cell_type": "code",
   "execution_count": 6,
   "id": "e65f49e2-379e-403d-b355-7e38bb6f25c5",
   "metadata": {},
   "outputs": [],
   "source": [
    "# System prompt\n",
    "SYSTEM_PROMPT = \"\"\"\n",
    "    You are a helpful assistant that classifies movie genres based on the movie description. Your response must be one of these exact words and nothing else: \n",
    "    Action, Adventure, Animation, Biography, Comedy, Crime, Drama, Family, Fantasy, Film-Noir, History, Horror, Music, Musical, Mystery, Romance, Sci-Fi, Sport, Thriller, War, Western.\n",
    "    Respond with ONE WORD ONLY. No punctuation, no explanation, no formatting. Just the genre.\n",
    "    \"\"\"\n",
    "\n",
    "# Models\n",
    "models = {\n",
    "    \"DeepSeek-V3-0324\": \"deepseek-ai/DeepSeek-V3-0324\",\n",
    "    \"Llama4-Maverick-17B\": \"meta-llama/Llama-4-Maverick-17B-128E-Instruct-FP8\",\n",
    "    \"Llama4-Scout-17B\": \"meta-llama/Llama-4-Scout-17B-16E-Instruct\",\n",
    "    \"Gemma3-27B\": \"google/gemma-3-27b-it\",\n",
    "}\n",
    "\n",
    "# Ensure the directory exists\n",
    "os.makedirs(\"model_comparison\", exist_ok=True)\n",
    "\n",
    "# Create the batch job file with the prompt and content for the model\n",
    "def create_batch_file(model):\n",
    "    batch_list = []\n",
    "    \n",
    "    for index, row in df.iterrows():\n",
    "        content = row[\"Overview\"]\n",
    "\n",
    "        request = {\n",
    "            \"custom_id\": f\"{model}-{index}-analysis\",\n",
    "            \"method\": \"POST\",\n",
    "            \"url\": \"/v1/chat/completions\",\n",
    "            \"body\": {\n",
    "                \"model\": models[model],\n",
    "                \"temperature\": 0.5,\n",
    "                \"messages\": [\n",
    "                    {\"role\": \"system\", \"content\": SYSTEM_PROMPT},\n",
    "                    {\"role\": \"user\", \"content\": content},\n",
    "                ],\n",
    "            },\n",
    "        }\n",
    "        \n",
    "        batch_list.append(request)\n",
    "\n",
    "    return batch_list\n",
    "\n",
    "\n",
    "# Save file\n",
    "def save_batch_file(batch_list, model):\n",
    "    filename = f\"model_comparison/batch_job_{model}_request.jsonl\"\n",
    "    with open(filename, \"w\") as file:\n",
    "        for request in batch_list:\n",
    "            file.write(json.dumps(request) + \"\\n\")\n",
    "    return filename\n"
   ]
  },
  {
   "cell_type": "markdown",
   "id": "af6f4f81-2c32-44bd-bd68-c41b24ea0776",
   "metadata": {},
   "source": [
    "Let's run the functions we've defined before:"
   ]
  },
  {
   "cell_type": "code",
   "execution_count": 7,
   "id": "cb41cc28-9ba0-4a70-b599-9b6cdcab064a",
   "metadata": {},
   "outputs": [
    {
     "name": "stdout",
     "output_type": "stream",
     "text": [
      "model_comparison/batch_job_DeepSeek-V3-0324_request.jsonl\n",
      "model_comparison/batch_job_Llama4-Maverick-17B_request.jsonl\n",
      "model_comparison/batch_job_Llama4-Scout-17B_request.jsonl\n",
      "model_comparison/batch_job_Gemma3-27B_request.jsonl\n"
     ]
    }
   ],
   "source": [
    "filenames = []\n",
    "\n",
    "# Loop through each model and save the batch files\n",
    "for model in models:\n",
    "    batch_request = create_batch_file(model)\n",
    "    filename = save_batch_file(batch_request, model)\n",
    "    filenames.append(filename)\n",
    "    print(filename)\n"
   ]
  },
  {
   "cell_type": "markdown",
   "id": "8330a06b-12ec-4cb5-984c-e89a0edbda2f",
   "metadata": {},
   "source": [
    "Next, we can preview what one of the requests in a batch job files looks like:"
   ]
  },
  {
   "cell_type": "code",
   "execution_count": 8,
   "id": "937ef87f-cd16-44f1-b76a-97af7c999e0b",
   "metadata": {},
   "outputs": [
    {
     "name": "stdout",
     "output_type": "stream",
     "text": [
      "{\"custom_id\": \"DeepSeek-V3-0324-0-analysis\", \"method\": \"POST\", \"url\": \"/v1/chat/completions\", \"body\": {\"model\": \"deepseek-ai/DeepSeek-V3-0324\", \"temperature\": 0.5, \"messages\": [{\"role\": \"system\", \"content\": \"\\n    You are a helpful assistant that classifies movie genres based on the movie description. Your response must be one of these exact words and nothing else: \\n    Action, Adventure, Animation, Biography, Comedy, Crime, Drama, Family, Fantasy, Film-Noir, History, Horror, Music, Musical, Mystery, Romance, Sci-Fi, Sport, Thriller, War, Western.\\n    Respond with ONE WORD ONLY. No punctuation, no explanation, no formatting. Just the genre.\\n    \"}, {\"role\": \"user\", \"content\": \"Two imprisoned men bond over a number of years, finding solace and eventual redemption through acts of common decency.\"}]}}\n"
     ]
    }
   ],
   "source": [
    "!head -n 1 model_comparison/batch_job_DeepSeek-V3-0324_request.jsonl"
   ]
  },
  {
   "cell_type": "markdown",
   "id": "9da2e2f9-e16c-4ae2-bfd9-b71c56dacd9c",
   "metadata": {},
   "source": [
    "### Upload batch job file to kluster.ai\n",
    "\n",
    "Now that we've prepared our input files, it's time to upload them to the kluster.ai platform. To do so, you can use the `files.create` endpoint of the client, where the purpose is set to `batch`. This will return the file ID, which we need to log for the next steps. We will repeat the process for each batch file created."
   ]
  },
  {
   "cell_type": "code",
   "execution_count": 9,
   "id": "353d4514-9836-48d1-a030-c9f3f0e696ad",
   "metadata": {},
   "outputs": [],
   "source": [
    "def upload_batch_file(data_dir):\n",
    "  print(f\"Creating request for {data_dir}\")\n",
    "  \n",
    "  with open(data_dir, 'rb') as file:\n",
    "    upload_response = client.files.create(\n",
    "    file=file,\n",
    "    purpose=\"batch\"\n",
    "  )\n",
    "\n",
    "  # Print job ID\n",
    "  file_id = upload_response.id\n",
    "  print(f\"File uploaded successfully. File ID: {file_id}\")\n",
    "\n",
    "  return upload_response"
   ]
  },
  {
   "cell_type": "code",
   "execution_count": 10,
   "id": "b4060249-22c2-40c5-84b2-66e738337eca",
   "metadata": {},
   "outputs": [
    {
     "name": "stdout",
     "output_type": "stream",
     "text": [
      "Uploading file model_comparison/batch_job_DeepSeek-V3-0324_request.jsonl\n",
      "Creating request for model_comparison/batch_job_DeepSeek-V3-0324_request.jsonl\n",
      "File uploaded successfully. File ID: 680c01630f76b6b2cfa1b5ce\n",
      "Uploading file model_comparison/batch_job_Llama4-Maverick-17B_request.jsonl\n",
      "Creating request for model_comparison/batch_job_Llama4-Maverick-17B_request.jsonl\n",
      "File uploaded successfully. File ID: 680c01645e828dbbaf25e0e4\n",
      "Uploading file model_comparison/batch_job_Llama4-Scout-17B_request.jsonl\n",
      "Creating request for model_comparison/batch_job_Llama4-Scout-17B_request.jsonl\n",
      "File uploaded successfully. File ID: 680c0164f5af163532d24930\n",
      "Uploading file model_comparison/batch_job_Gemma3-27B_request.jsonl\n",
      "Creating request for model_comparison/batch_job_Gemma3-27B_request.jsonl\n",
      "File uploaded successfully. File ID: 680c0165d7dcc4753cb1f640\n"
     ]
    }
   ],
   "source": [
    "batch_files = []\n",
    "\n",
    "# Loop through all .jsonl files in the data folder\n",
    "for data_dir in filenames:\n",
    "    print(f\"Uploading file {data_dir}\")\n",
    "    job = upload_batch_file(data_dir)\n",
    "    batch_files.append(job)"
   ]
  },
  {
   "cell_type": "markdown",
   "id": "b0d02ac3-1ed2-42a7-8a78-8322ec225bc0",
   "metadata": {},
   "source": [
    "All files are now uploaded, and we can proceed with creating the batch jobs."
   ]
  },
  {
   "cell_type": "markdown",
   "id": "d8e58f84-ea3a-4773-a31a-ff2391001974",
   "metadata": {},
   "source": [
    "### Start the job\n",
    "\n",
    "Once all the files have been successfully uploaded, we're ready to start (create) the batch jobs by providing the file ID of each file, which we got in the previous step. To start each job, we use the `batches.create` method, for which we need to set the endpoint to `/v1/chat/completions`. This will return each batch job details, with each ID."
   ]
  },
  {
   "cell_type": "code",
   "execution_count": 11,
   "id": "b15b2da1-862d-4086-9c0a-f7c9551969ba",
   "metadata": {},
   "outputs": [],
   "source": [
    "# Create batch job with completions endpoint\n",
    "def create_batch_job(file_id):\n",
    "  batch_job = client.batches.create(\n",
    "    input_file_id=file_id,\n",
    "    endpoint=\"/v1/chat/completions\",\n",
    "    completion_window=\"24h\"\n",
    "  )\n",
    "\n",
    "  print(f\"Batch job created with ID {batch_job.id}\")\n",
    "  return batch_job"
   ]
  },
  {
   "cell_type": "code",
   "execution_count": 12,
   "id": "f87818c8-da44-41bb-8ec1-75d29a0849d6",
   "metadata": {},
   "outputs": [
    {
     "name": "stdout",
     "output_type": "stream",
     "text": [
      "Creating batch job for file ID 680c01630f76b6b2cfa1b5ce\n",
      "Batch job created with ID 680c01678b52512099d68fe7\n",
      "Creating batch job for file ID 680c01645e828dbbaf25e0e4\n",
      "Batch job created with ID 680c0167bc5b5b56242bd0f6\n",
      "Creating batch job for file ID 680c0164f5af163532d24930\n",
      "Batch job created with ID 680c0167ba6dc89c0537e9ce\n",
      "Creating batch job for file ID 680c0165d7dcc4753cb1f640\n",
      "Batch job created with ID 680c0167514e8aab967a5bfe\n"
     ]
    }
   ],
   "source": [
    "batch_jobs = []\n",
    "\n",
    "# Loop through all batch files ID and start each job\n",
    "for batch_file in batch_files:\n",
    "    print(f\"Creating batch job for file ID {batch_file.id}\")\n",
    "    batch_job = create_batch_job(batch_file.id)\n",
    "    batch_jobs.append(batch_job)"
   ]
  },
  {
   "cell_type": "markdown",
   "id": "806dc6bd-4d91-44ee-aa16-d8a548e65a67",
   "metadata": {},
   "source": [
    "All requests are queued to be processed."
   ]
  },
  {
   "cell_type": "markdown",
   "id": "7b826b29-b8ba-42ac-8973-b7515f15877b",
   "metadata": {},
   "source": [
    "### Check job progress\n",
    "\n",
    "Now that your batch jobs have been created, you can track their progress.\n",
    "\n",
    "To monitor the job's progress, we can use the `batches.retrieve` method and pass the batch job ID. The response contains a `status` field that tells whether it is completed and the subsequent status of each job separately. We can repeat this process for every batch job ID we get in the previous step.\n",
    "\n",
    "The following snippet checks the status of all batch jobs every 10 seconds until the entire batch is completed."
   ]
  },
  {
   "cell_type": "code",
   "execution_count": 13,
   "id": "198f4961-417b-4dee-a802-5f44dc7828d6",
   "metadata": {},
   "outputs": [],
   "source": [
    "def monitor_batch_jobs(batch_jobs):\n",
    "    all_completed = False\n",
    "\n",
    "    # Loop until all jobs are completed\n",
    "    while not all_completed:\n",
    "        all_completed = True\n",
    "        output_lines = []\n",
    "\n",
    "        # Loop through all batch jobs\n",
    "        for job in batch_jobs:\n",
    "            updated_job = client.batches.retrieve(job.id)\n",
    "            status = updated_job.status\n",
    "\n",
    "            # If job is completed\n",
    "            if status == \"completed\":\n",
    "                output_lines.append(\"Job completed!\")\n",
    "            # If job failed, cancelled or expired\n",
    "            elif status in [\"failed\", \"cancelled\", \"expired\"]:\n",
    "                output_lines.append(f\"Job ended with status: {status}\")\n",
    "                break\n",
    "            # If job is ongoing\n",
    "            else:\n",
    "                all_completed = False\n",
    "                completed = updated_job.request_counts.completed\n",
    "                total = updated_job.request_counts.total\n",
    "                output_lines.append(\n",
    "                    f\"Job status: {status} - Progress: {completed}/{total}\"\n",
    "                )\n",
    "\n",
    "        # Clear terminal\n",
    "        clear_output(wait=True)\n",
    "        for line in output_lines:\n",
    "            display(line)\n",
    "\n",
    "        # Check every 10 seconds\n",
    "        if not all_completed:\n",
    "            time.sleep(10)\n"
   ]
  },
  {
   "cell_type": "code",
   "execution_count": 14,
   "id": "8e4b9b48-0d58-4719-9a84-1ae6fde3741d",
   "metadata": {
    "scrolled": true
   },
   "outputs": [
    {
     "data": {
      "text/plain": [
       "'Job completed!'"
      ]
     },
     "metadata": {},
     "output_type": "display_data"
    },
    {
     "data": {
      "text/plain": [
       "'Job completed!'"
      ]
     },
     "metadata": {},
     "output_type": "display_data"
    },
    {
     "data": {
      "text/plain": [
       "'Job completed!'"
      ]
     },
     "metadata": {},
     "output_type": "display_data"
    },
    {
     "data": {
      "text/plain": [
       "'Job completed!'"
      ]
     },
     "metadata": {},
     "output_type": "display_data"
    }
   ],
   "source": [
    "monitor_batch_jobs(batch_jobs)"
   ]
  },
  {
   "cell_type": "markdown",
   "id": "688bcda8-9483-4349-a931-6d32acf36b84",
   "metadata": {},
   "source": [
    "## Get the results\n",
    "\n",
    "With all jobs completed, we'll retrieve the results and review the responses generated for each request. The results are parsed. To fetch the results from the platform, you must retrieve the `output_file_id` from the batch job and then use the `files.content` endpoint, providing that specific file ID. We will repeat this for every single batch job id. Note that the job status must be `completed` to retrieve the results!"
   ]
  },
  {
   "cell_type": "code",
   "execution_count": 15,
   "id": "f4528f69-fde2-4303-add8-a3987187eed6",
   "metadata": {},
   "outputs": [],
   "source": [
    "#Parse results as a JSON object\n",
    "def parse_json_objects(data_string):\n",
    "  if isinstance(data_string, bytes):\n",
    "    data_string = data_string.decode('utf-8')\n",
    "\n",
    "  json_strings = data_string.strip().split('\\n')\n",
    "  json_objects = []\n",
    "\n",
    "  for json_str in json_strings:\n",
    "    try:\n",
    "      json_obj = json.loads(json_str)\n",
    "      json_objects.append(json_obj)\n",
    "    except json.JSONDecodeError as e:\n",
    "      print(f\"Error parsing JSON: {e}\")\n",
    "\n",
    "  return json_objects"
   ]
  },
  {
   "cell_type": "code",
   "execution_count": 16,
   "id": "ef85229e-6c22-4345-b70f-2315e24688bf",
   "metadata": {},
   "outputs": [],
   "source": [
    "# Token usage per model\n",
    "token_usage = {}\n",
    "\n",
    "# Pricing at the time of writing\n",
    "pricing = {\n",
    "    \"DeepSeek-V3-0324\": {\"input\": 0.70, \"output\": 1.40},\n",
    "    \"Llama4-Maverick-17B\": {\"input\": 0.20, \"output\": 0.80},\n",
    "    \"Llama4-Scout-17B\": {\"input\": 0.80, \"output\": 0.45},\n",
    "    \"Gemma3-27B\": {\"input\": 0.35, \"output\": 0.35},\n",
    "}\n",
    "\n",
    "\n",
    "# Go through all batch jobs, providing the output file ID\n",
    "for batch_job in batch_jobs:\n",
    "    job_status = client.batches.retrieve(batch_job.id)\n",
    "    result_file_id = job_status.output_file_id\n",
    "    result = client.files.content(result_file_id).content\n",
    "    results = parse_json_objects(result)\n",
    "\n",
    "    # Extract model name from the response\n",
    "    model_path = results[0]['response']['body']['model']\n",
    "    model = next(k for k, v in models.items() if v == model_path)\n",
    "\n",
    "    # Initialize counters for this model\n",
    "    total_prompt_tokens = 0\n",
    "    total_completion_tokens = 0\n",
    "\n",
    "    answers = []\n",
    "    for res in results:\n",
    "        # Get answer\n",
    "        answer = res['response']['body']['choices'][0]['message']['content']\n",
    "        answers.append(answer)\n",
    "\n",
    "        # Accumulate tokens\n",
    "        usage = res['response']['body']['usage']\n",
    "        total_prompt_tokens += usage.get('prompt_tokens', 0)\n",
    "        total_completion_tokens += usage.get('completion_tokens', 0)\n",
    "\n",
    "    # Save answers to DataFrame\n",
    "    df[f'{model}_genre'] = answers\n",
    "\n",
    "    # Calculate cost (per million tokens)\n",
    "    input_price = pricing[model]['input']\n",
    "    output_price = pricing[model]['output']\n",
    "    cost = (total_prompt_tokens / 1_000_000) * input_price + (total_completion_tokens / 1_000_000) * output_price\n",
    "\n",
    "    # Store token and cost data\n",
    "    token_usage[model] = {\n",
    "        'total_prompt_tokens': total_prompt_tokens,\n",
    "        'total_completion_tokens': total_completion_tokens,\n",
    "        'total_cost_usd': round(cost, 4)\n",
    "    }\n"
   ]
  },
  {
   "cell_type": "markdown",
   "id": "8fdedbe9-67b0-4e47-9037-c5ea7b0f0273",
   "metadata": {},
   "source": [
    "## Analyze the results\n",
    "\n",
    "With all models evaluated, we can analyze their performance. The graph below shows the accuracy scores for each model we tested. "
   ]
  },
  {
   "cell_type": "code",
   "execution_count": 17,
   "id": "dd4e6536-5d72-4a68-8e6b-fdc0752738a7",
   "metadata": {},
   "outputs": [
    {
     "data": {
      "image/png": "[encoded data removed]",
      "text/plain": [
       "<Figure size 1200x600 with 1 Axes>"
      ]
     },
     "metadata": {},
     "output_type": "display_data"
    }
   ],
   "source": [
    "# Calculate accuracy\n",
    "accuracies = {}\n",
    "for model in models:\n",
    "    accuracy = df.apply(lambda row: row[f'{model}_genre'] in row['Genre'].split(', '), axis=1).mean()\n",
    "    accuracies[model] = accuracy\n",
    "\n",
    "# Plot colors\n",
    "colors = ['#1E2A30', '#354953', '#5C7482', '#8AA9BB']\n",
    "\n",
    "# Create plot\n",
    "fig, ax = plt.subplots(figsize=(12, 6))\n",
    "bars = ax.bar(accuracies.keys(), accuracies.values(), color=colors, edgecolor='black')\n",
    "ax.bar_label(bars, label_type='center', color='white', fmt=\"%.3f\")\n",
    "\n",
    "# Add token usage as text above bars\n",
    "for bar, model in zip(bars, accuracies.keys()):\n",
    "    prompt_tokens = token_usage[model]['total_prompt_tokens']\n",
    "    completion_tokens = token_usage[model]['total_completion_tokens']\n",
    "    cost = token_usage[model]['total_cost_usd']\n",
    "\n",
    "    # Positioning text above the bar\n",
    "    height = bar.get_height()\n",
    "    ax.text(\n",
    "        bar.get_x() + bar.get_width() / 2,\n",
    "        height + 0.005,\n",
    "        f\"Input tokens: {prompt_tokens}\\nOutput tokens: {completion_tokens}\\nTotal tokens: {prompt_tokens+completion_tokens}\\nCost: ${cost}\",\n",
    "        ha='center',\n",
    "        va='bottom',\n",
    "        fontsize=10,\n",
    "        color='black'\n",
    "    )\n",
    "\n",
    "# Labels and title\n",
    "ax.set_ylim(0, 1)\n",
    "ax.set_xlabel('Model')\n",
    "ax.set_ylabel('Accuracy')\n",
    "ax.set_title('Accuracy by model with token usage')\n",
    "\n",
    "plt.tight_layout()\n",
    "plt.show()"
   ]
  },
  {
   "cell_type": "markdown",
   "id": "eed7c5fe-ad80-4a73-81e4-e2ece7c59f1d",
   "metadata": {},
   "source": [
    "The analysis shows that Gemma 3 27B achieved the highest classification accuracy at 82.9%, making it the top-performing model on this task. Despite consuming the largest number of tokens, its flat-rate pricing model helped it maintain a low overall cost ($0.051), placing it as the second cheapest model in the evaluation. This balance of performance and affordability makes it a strong candidate for accuracy-sensitive applications where moderate cost is acceptable.\n",
    "\n",
    "Llama 4 Maverick 17B stood out as the most cost-effective model. It delivered a solid 80.5% accuracy while incurring the lowest total cost of just $0.0316 — nearly half the cost of Gemma 3. For use cases that prioritize efficiency, scalability, and cost-sensitivity (e.g., high-volume inference or real-time pipelines), Maverick offers exceptional value.\n",
    "\n",
    "Llama 4 Scout 17B showed worse accuracy (79.8%) than Maverick but at a higher price point ($0.1165). This model might be appropriate in other scenarios where it can yield better results, such as tasks involving ambiguity or subtle classification differences. However, its cost-efficiency ratio lags behind both Maverick and Gemma.\n",
    "\n",
    "DeepSeek V3 0324 had a similar accuracy to both Maverick and Scout, while also incurring the highest cost ($0.0992), suggesting that in this specific context, it may not be the most competitive choice when weighed against either cost or performance alone. \n",
    "\n",
    "That said, these results should not be generalized without further testing on different types of tasks and prompts, as they are limited to the dataset and classification task used (genre classification using movie overviews from the IMDb Top 1000 dataset). The models may behave differently on other types of content (for example, dialogue-heavy text, short prompts, technical content), and their relative performance could shift depending on task complexity, prompt structure, or label distribution."
   ]
  },
  {
   "cell_type": "markdown",
   "id": "3012d86e",
   "metadata": {},
   "source": [
    "## Summary\n",
    "\n",
    "This tutorial used the chat completion endpoint to perform genre classification on movie descriptions from the IMDb Top 1000 dataset using the kluster.ai batch API. We tested four models, comparing them based on accuracy, token usage, and cost. For the notebook run recorded:\n",
    "\n",
    "- DeepSeek V3 0324:\n",
    "  - Accuracy: 80.7%\n",
    "  - Total tokens used: 138,699 (135,717 input / 2,982 output)\n",
    "  - Cost: $0.0992\n",
    "  - Highest cost among the four models ❌\n",
    "\n",
    "- Llama 4 Maverick 17B:\n",
    "  - Accuracy: 80.5%\n",
    "  - Total tokens used: 147,549 (144,021 input / 3,528 output)\n",
    "  - Cost: $0.0316 ✅\n",
    "  - Best overall cost-efficiency, delivering solid performance at the lowest price\n",
    "\n",
    "- Llama 4 Scout 17B:\n",
    "  - Accuracy: 79.8%\n",
    "  - Total tokens used: 146,810 (144,021 input / 2,789 output)\n",
    "  - Cost: $0.1165\n",
    "  - Slightly lower accuracy compared to Maverick, but significantly more expensive\n",
    "\n",
    "- Gemma 3 27B:\n",
    "  - Accuracy: 82.9% ✅\n",
    "  - Total tokens used: 145,796 (143,579 input / 2,217 output)\n",
    "  - Best overall ratio between cost-efficiency and accuracy\n",
    "\n",
    "\n",
    "Each model was evaluated using the same set of 1000 movie overviews, with genre predictions compared against annotated ground-truth genres. Total input and output tokens were recorded and converted into USD using published prices per 1M tokens.\n",
    "\n",
    "To submit and evaluate the batch jobs, we:\n",
    "\n",
    "1. Created the JSONL file, where each file line represented a separate request.\n",
    "2. Submitted the file to the platform.\n",
    "3. Started the batch job and monitored its progress.\n",
    "4. Once completed, we fetched the results.\n",
    "\n",
    "The results were then visualized in a bar chart showing **accuracy**, **token usage**, and **cost per model**, allowing for a clear comparison of trade-offs between quality and efficiency.\n",
    "\n",
    "All of this using the OpenAI Python library and API, no changes needed!\n",
    "\n",
    "As a next step, consider testing additional models, experimenting with prompt engineering, or applying the same evaluation strategy to your own dataset. Happy experimenting!\n"
   ]
  }
 ],
 "metadata": {
  "kernelspec": {
   "display_name": "Python 3 (ipykernel)",
   "language": "python",
   "name": "python3"
  },
  "language_info": {
   "codemirror_mode": {
    "name": "ipython",
    "version": 3
   },
   "file_extension": ".py",
   "mimetype": "text/x-python",
   "name": "python",
   "nbconvert_exporter": "python",
   "pygments_lexer": "ipython3",
   "version": "3.13.3"
  }
 },
 "nbformat": 4,
 "nbformat_minor": 5
}
