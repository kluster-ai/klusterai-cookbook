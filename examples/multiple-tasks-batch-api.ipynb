{
 "cells": [
  {
   "cell_type": "markdown",
   "id": "be189fde-4e5b-4f80-bae1-ded86a5075a7",
   "metadata": {
    "id": "be189fde-4e5b-4f80-bae1-ded86a5075a7"
   },
   "source": [
    "# Multiple inference requests with kluster.ai"
   ]
  },
  {
   "cell_type": "markdown",
   "id": "b17a77d9",
   "metadata": {},
   "source": [
    "[![Open in Colab](https://colab.research.google.com/assets/colab-badge.svg)](https://colab.research.google.com/github/kluster-ai/klusterai-cookbook/blob/main/examples/multiple-tasks-batch-api.ipynb)"
   ]
  },
  {
   "cell_type": "markdown",
   "id": "6d1d06ea-79c1-4f28-b312-0e5aabe18ff3",
   "metadata": {
    "id": "6d1d06ea-79c1-4f28-b312-0e5aabe18ff3"
   },
   "source": [
    "In other notebooks, we used AI models to perform simple tasks like <a href=\"/tutorials/klusterai-api/text-classification/text-classification-openai-api/\" target=\"_blank\">text classification</a>, <a href=\"/tutorials/klusterai-api/sentiment-analysis-api/\" target=\"_blank\">sentiment analysis</a> and <a href=\"/tutorials/klusterai-api/keyword-extraction-api/\" target=\"_blank\">keyword extraction</a>.\n",
    "\n",
    "This tutorial runs through a notebook where you'll learn how to use the <a href=\"https://kluster.ai/\" target=\"_blank\">kluster.ai</a> batch API to combine different tasks into a single batch file. Note that each task in the JSONL file can have its own model, system prompt, and particular request.\n",
    "\n",
    "You can adapt this example by using your data and categories relevant to your use case. With this approach, you can effortlessly process datasets of any scale, big or small, and obtain categorized results powered by a state-of-the-art language model."
   ]
  },
  {
   "cell_type": "markdown",
   "id": "861366d9",
   "metadata": {},
   "source": [
    "## Prerequisites"
   ]
  },
  {
   "cell_type": "markdown",
   "id": "8b6c9189",
   "metadata": {},
   "source": [
    "Before getting started, ensure you have the following:\n",
    "\n",
    "- **A kluster.ai account** - sign up on the <a href=\"https://platform.kluster.ai/signup\" target=\"_blank\">kluster.ai platform</a> if you don't have one\n",
    "- **A kluster.ai API key** - after signing in, go to the <a href=\"https://platform.kluster.ai/apikeys\" target=\"_blank\">**API Keys**</a> section and create a new key. For detailed instructions, check out the <a href=\"/get-started/get-api-key/\" target=\"_blank\">Get an API key</a> guide"
   ]
  },
  {
   "cell_type": "markdown",
   "id": "xU1WBQJ7Uh09",
   "metadata": {
    "id": "xU1WBQJ7Uh09"
   },
   "source": [
    "## Setup"
   ]
  },
  {
   "cell_type": "markdown",
   "id": "0fd97579",
   "metadata": {},
   "source": [
    "In this notebook, we'll use Python's `getpass` module to safely input the key. After execution, please provide your unique kluster.ai API key (ensure no spaces)."
   ]
  },
  {
   "cell_type": "code",
   "execution_count": 1,
   "id": "4911e5eb-7463-4a6b-8a99-9313cecd9d4d",
   "metadata": {},
   "outputs": [
    {
     "name": "stdin",
     "output_type": "stream",
     "text": [
      "Enter your kluster.ai API key:  ········\n"
     ]
    }
   ],
   "source": [
    "from getpass import getpass\n",
    "\n",
    "api_key = getpass(\"Enter your kluster.ai API key: \")"
   ]
  },
  {
   "cell_type": "markdown",
   "id": "a9a0f1b2-947e-41ba-b4cc-dd313714247e",
   "metadata": {},
   "source": [
    "Next, ensure you've installed OpenAI Python library:"
   ]
  },
  {
   "cell_type": "code",
   "execution_count": 2,
   "id": "bcc3d475-8f49-4fc4-9a5e-c6eb6866d2b5",
   "metadata": {},
   "outputs": [
    {
     "name": "stdout",
     "output_type": "stream",
     "text": [
      "Note: you may need to restart the kernel to use updated packages.\n"
     ]
    }
   ],
   "source": [
    "%pip install -q openai"
   ]
  },
  {
   "cell_type": "markdown",
   "id": "a3703623-786f-49cb-9aca-dc0a942155c8",
   "metadata": {},
   "source": [
    "With the OpenAI Python library installed, we import the necessary dependencies for the tutorial:"
   ]
  },
  {
   "cell_type": "code",
   "execution_count": 3,
   "id": "b89a4feb-37a9-430d-a742-cd58495b4eaf",
   "metadata": {},
   "outputs": [],
   "source": [
    "from openai import OpenAI\n",
    "\n",
    "import pandas as pd\n",
    "import time\n",
    "import json\n",
    "import os\n",
    "import urllib.request\n",
    "import requests\n",
    "from IPython.display import clear_output, display\n",
    "\n",
    "pd.set_option('display.max_columns', 1000, 'display.width', 1000, 'display.max_rows',1000, 'display.max_colwidth', 500)"
   ]
  },
  {
   "cell_type": "markdown",
   "id": "b21b036b-6350-4bb9-9597-9a9edab95e53",
   "metadata": {},
   "source": [
    "And then, initialize the `client` by pointing it to the kluster.ai endpoint, and passing your API key."
   ]
  },
  {
   "cell_type": "code",
   "execution_count": 4,
   "id": "zG9y_WO5rYaj",
   "metadata": {},
   "outputs": [],
   "source": [
    "# Set up the client\n",
    "client = OpenAI(\n",
    "    base_url=\"https://api.kluster.ai/v1\",\n",
    "    api_key=api_key,\n",
    ")"
   ]
  },
  {
   "cell_type": "markdown",
   "id": "udPtLfTaisSw",
   "metadata": {
    "id": "udPtLfTaisSw"
   },
   "source": [
    "## Get the data"
   ]
  },
  {
   "cell_type": "markdown",
   "id": "QjCVfg65jKz6",
   "metadata": {
    "id": "QjCVfg65jKz6"
   },
   "source": [
    "Now that you've initialized an OpenAI-compatible client pointing to kluster.ai, we can discuss the data.\n",
    "\n",
    "This notebook includes three sample datasets: Amazon musical instruments reviews, Top 1000 IMDb Movies, and AG News sample.\n",
    "\n",
    "The following code fetches the data and the last 5 data points of a single data sample. Feel free to change this or bring your own dataset."
   ]
  },
  {
   "cell_type": "code",
   "execution_count": 5,
   "id": "yC9wJlV4rwOh",
   "metadata": {},
   "outputs": [],
   "source": [
    "# Datasets\n",
    "#1. Amazon musical instruments reviews sample dataset\n",
    "#url = \"https://snap.stanford.edu/data/amazon/productGraph/categoryFiles/reviews_Musical_Instruments_5.json.gz\"\n",
    "#2. IMDB top 1000 sample dataset\n",
    "#url = \"https://raw.githubusercontent.com/kluster-ai/klusterai-cookbook/refs/heads/main/data/imdb_top_1000.csv\" \n",
    "#3. AG News sample dataset\n",
    "url = \"https://raw.githubusercontent.com/kluster-ai/klusterai-cookbook/refs/heads/main/data/ag_news.csv\""
   ]
  },
  {
   "cell_type": "code",
   "execution_count": 6,
   "id": "07018f92-9a01-47d5-916a-12cd03dfa3a0",
   "metadata": {},
   "outputs": [
    {
     "name": "stdout",
     "output_type": "stream",
     "text": [
      "Using cached file at data/ag_news.csv\n"
     ]
    },
    {
     "data": {
      "text/html": [
       "<div>\n",
       "<style scoped>\n",
       "    .dataframe tbody tr th:only-of-type {\n",
       "        vertical-align: middle;\n",
       "    }\n",
       "\n",
       "    .dataframe tbody tr th {\n",
       "        vertical-align: top;\n",
       "    }\n",
       "\n",
       "    .dataframe thead th {\n",
       "        text-align: right;\n",
       "    }\n",
       "</style>\n",
       "<table border=\"1\" class=\"dataframe\">\n",
       "  <thead>\n",
       "    <tr style=\"text-align: right;\">\n",
       "      <th></th>\n",
       "      <th>text</th>\n",
       "    </tr>\n",
       "  </thead>\n",
       "  <tbody>\n",
       "    <tr>\n",
       "      <th>0</th>\n",
       "      <td>Feds Accused of Exaggerating Fire Impact (AP): AP - The Forest Service exaggerated the effect of wildfires on California spotted owls in justifying a planned increase in logging in the Sierra Nevada, according to a longtime agency expert who worked on the plan.: nan</td>\n",
       "    </tr>\n",
       "    <tr>\n",
       "      <th>1</th>\n",
       "      <td>New Method May Predict Quakes Weeks Ahead (AP): AP - Swedish geologists may have found a way to predict earthquakes weeks before they happen by monitoring the amount of metals like zinc and copper in subsoil water near earthquake sites, scientists said Wednesday.: nan</td>\n",
       "    </tr>\n",
       "    <tr>\n",
       "      <th>2</th>\n",
       "      <td>Marine Expedition Finds New Species (AP): AP - Norwegian scientists who explored the deep waters of the Atlantic Ocean said Thursday their findings  #151; including what appear to be new species of fish and squid  #151; could be used to protect marine ecosystems worldwide.: nan</td>\n",
       "    </tr>\n",
       "  </tbody>\n",
       "</table>\n",
       "</div>"
      ],
      "text/plain": [
       "                                                                                                                                                                                                                                                                                     text\n",
       "0              Feds Accused of Exaggerating Fire Impact (AP): AP - The Forest Service exaggerated the effect of wildfires on California spotted owls in justifying a planned increase in logging in the Sierra Nevada, according to a longtime agency expert who worked on the plan.: nan\n",
       "1            New Method May Predict Quakes Weeks Ahead (AP): AP - Swedish geologists may have found a way to predict earthquakes weeks before they happen by monitoring the amount of metals like zinc and copper in subsoil water near earthquake sites, scientists said Wednesday.: nan\n",
       "2  Marine Expedition Finds New Species (AP): AP - Norwegian scientists who explored the deep waters of the Atlantic Ocean said Thursday their findings  #151; including what appear to be new species of fish and squid  #151; could be used to protect marine ecosystems worldwide.: nan"
      ]
     },
     "execution_count": 6,
     "metadata": {},
     "output_type": "execute_result"
    }
   ],
   "source": [
    "def fetch_dataset(url, file_path=None):\n",
    "  \n",
    "  # Set the default file path based on the URL if none is provided\n",
    "  if not file_path:\n",
    "    file_path = os.path.join(\"data\", os.path.basename(url))\n",
    "\n",
    "  # Create the directory if it does not exist\n",
    "  os.makedirs(os.path.dirname(file_path), exist_ok=True)\n",
    "\n",
    "  # Download the file if it doesn't already exist\n",
    "  if not os.path.exists(file_path):\n",
    "    urllib.request.urlretrieve(url, file_path)\n",
    "    print(f\"Dataset downloaded and saved as {file_path}\")\n",
    "  else:\n",
    "    print(f\"Using cached file at {file_path}\")\n",
    "\n",
    "  # Load and process the dataset based on URL content\n",
    "  if \"imdb_top_1000.csv\" in url:\n",
    "    df = pd.read_csv(file_path)\n",
    "    df['text'] = df['Series_Title'].astype(str) + \": \" + df['Overview'].astype(str)\n",
    "    df = df[['text']]\n",
    "  elif \"ag_news\" in url:\n",
    "    df = pd.read_csv(file_path, header=None, names=[\"label\", \"title\", \"description\"])\n",
    "    df['text'] = df['title'].astype(str) + \": \" + df['description'].astype(str)\n",
    "    df = df[['text']]\n",
    "  elif \"reviews_Musical_Instruments_5.json.gz\" in url:\n",
    "    df = pd.read_json(file_path, compression='gzip', lines=True)\n",
    "    df.rename(columns={'reviewText': 'text'}, inplace=True)\n",
    "    df = df[['text']]\n",
    "  else:\n",
    "    raise ValueError(\"URL does not match any known dataset format.\")\n",
    "\n",
    "  return df[['text']].tail(3).reset_index(drop=True) # Return last 3 entries resetting the index\n",
    "\n",
    "# Fetch dataset\n",
    "df = fetch_dataset(url=url, file_path=None)\n",
    "df.head()"
   ]
  },
  {
   "cell_type": "markdown",
   "id": "ehGwA0XRA87y",
   "metadata": {
    "id": "ehGwA0XRA87y"
   },
   "source": [
    "Now that we've fetched and saved the dataset let's move to the batch inference flow."
   ]
  },
  {
   "cell_type": "markdown",
   "id": "w-Lux3oUjfYI",
   "metadata": {
    "id": "w-Lux3oUjfYI"
   },
   "source": [
    "## Define the requests"
   ]
  },
  {
   "cell_type": "markdown",
   "id": "zjm-ST7dkHKm",
   "metadata": {
    "id": "zjm-ST7dkHKm"
   },
   "source": [
    "For this particular tutorial, we predefined five requests for the model to execute based on common customer use cases:\n",
    "\n",
    "- **Sentiment analysis** - reviewing text to determine whether there is positive, neutral, or negative notation to the statement\n",
    "- **Translation** - translate the text to any other language, in this example, Spanish\n",
    "- **Summarization** - express the text in a concise form\n",
    "- **Topic classification** - classify the text between a given set of categories\n",
    "- **Keyword extraction** - provide a number of keywords\n",
    "\n",
    "Requests are defined as a system prompt. This example runs through different types of requests, so they are defined as JSON objects. For each use case, we also defined the structure of the response we expect from the model.\n",
    "\n",
    "If you’re happy with these requests and structure, you can simply run the code as-is. However, if you’d like to customize them, please modify the prompts (or add new ones) to make personal requests."
   ]
  },
  {
   "cell_type": "code",
   "execution_count": 7,
   "id": "c8838ccb-c29b-477d-b15f-a95741aa528f",
   "metadata": {},
   "outputs": [],
   "source": [
    "SYSTEM_PROMPTS = {\n",
    "  'sentiment': '''\n",
    "  Analyze the sentiment of the given text. Provide only a JSON object with the following structure:\n",
    "  {\n",
    "    \"sentiment\": string, // \"positive\", \"negative\", or \"neutral\"\n",
    "    \"confidence\": float, // A value between 0 and 1 indicating your confidence in the sentiment analysis\n",
    "  }\n",
    "  ''',\n",
    "\n",
    "  'translation': '''\n",
    "  Translate the given text from English to Spanish, paraphrase, rewrite or perform cultural adaptations for the text to make sense in Spanish. Provide only a JSON object with the following structure:\n",
    "  {\n",
    "    \"translation\": string, // The Spanish translation\n",
    "    \"notes\": string // Any notes about the translation, such as cultural adaptations or challenging phrases (max 500 words). Write this mainly in English.\n",
    "  }\n",
    "  ''',\n",
    "\n",
    "  'summary': '''\n",
    "  Summarize the main points of the given text. Provide only a JSON object with the following structure:\n",
    "  {\n",
    "    \"summary\": string, // A concise summary of the text (max 100 words)\n",
    "  }\n",
    "  ''',\n",
    "\n",
    "  'topic_classification': '''\n",
    "  Classify the main topic of the given text based on the following categories: \"politics\", \"sports\", \"technology\", \"science\", \"business\", \"entertainment\", \"health\", \"other\". Provide only a JSON object with the following structure:\n",
    "  {\n",
    "    \"category\": string, // The primary category of the provided text\n",
    "    \"confidence\": float, // A value between 0 and 1 indicating confidence in the classification\n",
    "  }\n",
    "  ''',\n",
    "\n",
    "  'keyword_extraction': '''\n",
    "  Extract relevant keywords from the given text. Provide only a JSON object with the following structure:\n",
    "  {\n",
    "    \"keywords\": string[], // An array of up to 5 keywords that best represent the text content\n",
    "    \"context\": string // Briefly explain how each keyword is relevant to the text (max 200 words)\n",
    "  }\n",
    "  '''\n",
    "}"
   ]
  },
  {
   "cell_type": "markdown",
   "id": "Ew-R24Ltp5EW",
   "metadata": {
    "id": "Ew-R24Ltp5EW"
   },
   "source": [
    "### Create the batch job file"
   ]
  },
  {
   "cell_type": "markdown",
   "id": "qS4JXT52wGJ-",
   "metadata": {
    "id": "qS4JXT52wGJ-"
   },
   "source": [
    "This example uses the `deepseek-ai/DeepSeek-V3-0324` model. If you'd like to use a different model, feel free to change it by modifying the `model` field. \n",
    "\n",
    "Please refer to the <a href=\"/get-started/models/#model-comparison-table\" target=\"_blank\">Supported models</a> section for a list of the models we support.\n",
    "\n",
    "The following snippets prepare the JSONL file, where each line represents a different request. Note that each separate batch request can have its own model. Also, we are using a temperature of `0.5` but feel free to change it and play around with the different outcomes."
   ]
  },
  {
   "cell_type": "code",
   "execution_count": 8,
   "id": "fVtwyqZ_nEq7",
   "metadata": {},
   "outputs": [],
   "source": [
    "# Models\n",
    "# model=\"deepseek-ai/DeepSeek-R1\"\n",
    "model = \"deepseek-ai/DeepSeek-V3-0324\"\n",
    "# model=\"klusterai/Meta-Llama-3.1-8B-Instruct-Turbo\"\n",
    "# model=\"klusterai/Meta-Llama-3.3-70B-Instruct-Turbo\"\n",
    "# model=\"Qwen/Qwen2.5-VL-7B-Instruct\"\n",
    "\n",
    "\n",
    "def create_batch_file(df, inference_type, system_prompt):\n",
    "    batch_list = []\n",
    "    for index, row in df.iterrows():\n",
    "        content = row[\"text\"]\n",
    "\n",
    "        # Build the request for a given model, prompt, and data\n",
    "        request = {\n",
    "            \"custom_id\": f\"{inference_type}-{index}\",\n",
    "            \"method\": \"POST\",\n",
    "            \"url\": \"/v1/chat/completions\",\n",
    "            \"body\": {\n",
    "                \"model\": model,\n",
    "                \"temperature\": 0.5,\n",
    "                \"messages\": [\n",
    "                    {\"role\": \"system\", \"content\": system_prompt},\n",
    "                    {\"role\": \"user\", \"content\": content},\n",
    "                ],\n",
    "            },\n",
    "        }\n",
    "        batch_list.append(request)\n",
    "    return batch_list\n",
    "\n",
    "# Save file as JSON lines\n",
    "def save_batch_file(batch_list, inference_type):\n",
    "    filename = f\"data/batch_request_{inference_type}.jsonl\"\n",
    "    with open(filename, \"w\") as file:\n",
    "        for request in batch_list:\n",
    "            file.write(json.dumps(request) + \"\\n\")\n",
    "    return filename\n"
   ]
  },
  {
   "cell_type": "code",
   "execution_count": 9,
   "id": "qNhmrmHdnp7g",
   "metadata": {},
   "outputs": [
    {
     "name": "stdout",
     "output_type": "stream",
     "text": [
      "data/batch_request_sentiment.jsonl\n",
      "data/batch_request_translation.jsonl\n",
      "data/batch_request_summary.jsonl\n",
      "data/batch_request_topic_classification.jsonl\n",
      "data/batch_request_keyword_extraction.jsonl\n"
     ]
    }
   ],
   "source": [
    "batch_requests = []\n",
    "filenames = []\n",
    "\n",
    "# Loop through all the different prompts\n",
    "for inference_type, system_prompt in SYSTEM_PROMPTS.items():\n",
    "    batch_list = create_batch_file(df, inference_type, system_prompt)\n",
    "    filename = save_batch_file(batch_list, inference_type)\n",
    "    batch_requests.append((inference_type, filename))\n",
    "    filenames.append(filename)\n",
    "    print(filename)"
   ]
  },
  {
   "cell_type": "markdown",
   "id": "35f4fa90-5d9c-448e-9a6d-8a9cf77bda6c",
   "metadata": {},
   "source": [
    "Next, we can preview what a single batch job looks like:"
   ]
  },
  {
   "cell_type": "code",
   "execution_count": 10,
   "id": "dacb59ff-9dbf-4f71-a2eb-29ccaa05e516",
   "metadata": {},
   "outputs": [
    {
     "name": "stdout",
     "output_type": "stream",
     "text": [
      "{\"custom_id\": \"sentiment-0\", \"method\": \"POST\", \"url\": \"/v1/chat/completions\", \"body\": {\"model\": \"deepseek-ai/DeepSeek-V3-0324\", \"temperature\": 0.5, \"messages\": [{\"role\": \"system\", \"content\": \"\\n  Analyze the sentiment of the given text. Provide only a JSON object with the following structure:\\n  {\\n    \\\"sentiment\\\": string, // \\\"positive\\\", \\\"negative\\\", or \\\"neutral\\\"\\n    \\\"confidence\\\": float, // A value between 0 and 1 indicating your confidence in the sentiment analysis\\n  }\\n  \"}, {\"role\": \"user\", \"content\": \"Feds Accused of Exaggerating Fire Impact (AP): AP - The Forest Service exaggerated the effect of wildfires on California spotted owls in justifying a planned increase in logging in the Sierra Nevada, according to a longtime agency expert who worked on the plan.: nan\"}]}}\n",
      "{\"custom_id\": \"sentiment-1\", \"method\": \"POST\", \"url\": \"/v1/chat/completions\", \"body\": {\"model\": \"deepseek-ai/DeepSeek-V3-0324\", \"temperature\": 0.5, \"messages\": [{\"role\": \"system\", \"content\": \"\\n  Analyze the sentiment of the given text. Provide only a JSON object with the following structure:\\n  {\\n    \\\"sentiment\\\": string, // \\\"positive\\\", \\\"negative\\\", or \\\"neutral\\\"\\n    \\\"confidence\\\": float, // A value between 0 and 1 indicating your confidence in the sentiment analysis\\n  }\\n  \"}, {\"role\": \"user\", \"content\": \"New Method May Predict Quakes Weeks Ahead (AP): AP - Swedish geologists may have found a way to predict earthquakes weeks before they happen by monitoring the amount of metals like zinc and copper in subsoil water near earthquake sites, scientists said Wednesday.: nan\"}]}}\n",
      "{\"custom_id\": \"sentiment-2\", \"method\": \"POST\", \"url\": \"/v1/chat/completions\", \"body\": {\"model\": \"deepseek-ai/DeepSeek-V3-0324\", \"temperature\": 0.5, \"messages\": [{\"role\": \"system\", \"content\": \"\\n  Analyze the sentiment of the given text. Provide only a JSON object with the following structure:\\n  {\\n    \\\"sentiment\\\": string, // \\\"positive\\\", \\\"negative\\\", or \\\"neutral\\\"\\n    \\\"confidence\\\": float, // A value between 0 and 1 indicating your confidence in the sentiment analysis\\n  }\\n  \"}, {\"role\": \"user\", \"content\": \"Marine Expedition Finds New Species (AP): AP - Norwegian scientists who explored the deep waters of the Atlantic Ocean said Thursday their findings  #151; including what appear to be new species of fish and squid  #151; could be used to protect marine ecosystems worldwide.: nan\"}]}}\n"
     ]
    }
   ],
   "source": [
    "!head -n 5 data/batch_request_sentiment.jsonl"
   ]
  },
  {
   "cell_type": "markdown",
   "id": "xArKu7-sqSiR",
   "metadata": {
    "id": "xArKu7-sqSiR"
   },
   "source": [
    "### Upload batch job files to kluster.ai"
   ]
  },
  {
   "cell_type": "markdown",
   "id": "6b3ed12b",
   "metadata": {},
   "source": [
    "Now that we've prepared our input files, it's time to upload it to the kluster.ai platform. To do so, you can use the `files.create` endpoint of the client, where the purpose is set to `batch`. This will return the file ID, which we need to log for the next steps. We will repeat the process for each batch file created."
   ]
  },
  {
   "cell_type": "code",
   "execution_count": 11,
   "id": "l5eu5UyAnEtk",
   "metadata": {},
   "outputs": [],
   "source": [
    "def upload_batch_file(data_dir):\n",
    "  print(f\"Creating request for {data_dir}\")\n",
    "  \n",
    "  with open(data_dir, 'rb') as file:\n",
    "    upload_response = client.files.create(\n",
    "    file=file,\n",
    "    purpose=\"batch\"\n",
    "  )\n",
    "\n",
    "  # Print job ID\n",
    "  file_id = upload_response.id\n",
    "  print(f\"File uploaded successfully. File ID: {file_id}\")\n",
    "\n",
    "  return upload_response"
   ]
  },
  {
   "cell_type": "code",
   "execution_count": 12,
   "id": "jwzlrHCTp2LO",
   "metadata": {},
   "outputs": [
    {
     "name": "stdout",
     "output_type": "stream",
     "text": [
      "Uploading file data/batch_request_sentiment.jsonl\n",
      "Creating request for data/batch_request_sentiment.jsonl\n",
      "File uploaded successfully. File ID: 6801436295e6d3f11461e80c\n",
      "Uploading file data/batch_request_translation.jsonl\n",
      "Creating request for data/batch_request_translation.jsonl\n",
      "File uploaded successfully. File ID: 68014362d82e57647b763060\n",
      "Uploading file data/batch_request_summary.jsonl\n",
      "Creating request for data/batch_request_summary.jsonl\n",
      "File uploaded successfully. File ID: 680143635f3f96e4d1ddda37\n",
      "Uploading file data/batch_request_topic_classification.jsonl\n",
      "Creating request for data/batch_request_topic_classification.jsonl\n",
      "File uploaded successfully. File ID: 68014363186ab8d64b39630d\n",
      "Uploading file data/batch_request_keyword_extraction.jsonl\n",
      "Creating request for data/batch_request_keyword_extraction.jsonl\n",
      "File uploaded successfully. File ID: 680143638225fce1bc87b575\n"
     ]
    }
   ],
   "source": [
    "batch_files = []\n",
    "\n",
    "# Loop through all .jsonl files in the data folder\n",
    "for data_dir in filenames:\n",
    "    print(f\"Uploading file {data_dir}\")\n",
    "    job = upload_batch_file(data_dir)\n",
    "    batch_files.append(job)"
   ]
  },
  {
   "cell_type": "markdown",
   "id": "ca918c23",
   "metadata": {},
   "source": [
    "All files are now uploaded, and we can proceed with creating the batch jobs."
   ]
  },
  {
   "cell_type": "markdown",
   "id": "28957bce-13e9-4d3a-9599-4809c37c5723",
   "metadata": {},
   "source": [
    "### Start the batch job"
   ]
  },
  {
   "cell_type": "markdown",
   "id": "11c708a4-8766-4201-bcd3-de8d26f2f361",
   "metadata": {},
   "source": [
    "Once all the files have been successfully uploaded, we're ready to start (create) the batch jobs by providing the file ID of each file, which we got in the previous step. To start each job, we use the `batches.create` method, for which we need to set the endpoint to `/v1/chat/completions`. This will return each batch job details, with each ID."
   ]
  },
  {
   "cell_type": "code",
   "execution_count": 13,
   "id": "07f43785-c5e5-4953-8b81-1bef003e060f",
   "metadata": {},
   "outputs": [],
   "source": [
    "# Create batch job with completions endpoint\n",
    "def create_batch_job(file_id):\n",
    "  batch_job = client.batches.create(\n",
    "    input_file_id=file_id,\n",
    "    endpoint=\"/v1/chat/completions\",\n",
    "    completion_window=\"24h\"\n",
    "  )\n",
    "\n",
    "  print(f\"Batch job created with ID {batch_job.id}\")\n",
    "  return batch_job"
   ]
  },
  {
   "cell_type": "code",
   "execution_count": 14,
   "id": "3d4806fb-6984-4d41-8fd9-f405cdb432e3",
   "metadata": {},
   "outputs": [
    {
     "name": "stdout",
     "output_type": "stream",
     "text": [
      "Creating batch job for file ID 6801436295e6d3f11461e80c\n",
      "Batch job created with ID 680143645f3f96e4d1ddda3f\n",
      "Creating batch job for file ID 68014362d82e57647b763060\n",
      "Batch job created with ID 68014364fba4aabfd069c948\n",
      "Creating batch job for file ID 680143635f3f96e4d1ddda37\n",
      "Batch job created with ID 6801436477b0762a42e196e6\n",
      "Creating batch job for file ID 68014363186ab8d64b39630d\n",
      "Batch job created with ID 680143658cc246574d8aa01d\n",
      "Creating batch job for file ID 680143638225fce1bc87b575\n",
      "Batch job created with ID 680143658225fce1bc87b58d\n"
     ]
    }
   ],
   "source": [
    "batch_jobs = []\n",
    "\n",
    "# Loop through all batch files ID and start each job\n",
    "for batch_file in batch_files:\n",
    "    print(f\"Creating batch job for file ID {batch_file.id}\")\n",
    "    batch_job = create_batch_job(batch_file.id)\n",
    "    batch_jobs.append(batch_job)"
   ]
  },
  {
   "cell_type": "markdown",
   "id": "6ea9e9d2-14e0-4464-a53a-90d74c768868",
   "metadata": {},
   "source": [
    "All requests are currently being processed."
   ]
  },
  {
   "cell_type": "markdown",
   "id": "e-ujphILqepu",
   "metadata": {
    "id": "e-ujphILqepu"
   },
   "source": [
    "### Check job progress"
   ]
  },
  {
   "cell_type": "markdown",
   "id": "iFrDrriQqizC",
   "metadata": {
    "id": "iFrDrriQqizC"
   },
   "source": [
    "Now that your batch jobs have been created, you can track their progress.\n",
    "\n",
    "To monitor the job's progress, we can use the `batches.retrieve` method and pass the batch job ID. The response contains a `status` field that tells us if it is completed or not and the subsequent status of each job separately. We can repeat this process for every batch job ID we got in the previous step.\n",
    "\n",
    "The following snippet checks the status of all batch jobs every 10 seconds until the entire batch is completed."
   ]
  },
  {
   "cell_type": "code",
   "execution_count": 15,
   "id": "SuH0CfoqjP3d",
   "metadata": {},
   "outputs": [],
   "source": [
    "def monitor_batch_jobs(batch_jobs):\n",
    "    all_completed = False\n",
    "\n",
    "    # Loop until all jobs are completed\n",
    "    while not all_completed:\n",
    "        all_completed = True\n",
    "        output_lines = []\n",
    "\n",
    "        # Loop through all batch jobs\n",
    "        for job in batch_jobs:\n",
    "            updated_job = client.batches.retrieve(job.id)\n",
    "            status = updated_job.status\n",
    "\n",
    "            # If job is completed\n",
    "            if status == \"completed\":\n",
    "                output_lines.append(\"Job completed!\")\n",
    "            # If job failed, cancelled or expired\n",
    "            elif status in [\"failed\", \"cancelled\", \"expired\"]:\n",
    "                output_lines.append(f\"Job ended with status: {status}\")\n",
    "                break\n",
    "            # If job is ongoing\n",
    "            else:\n",
    "                all_completed = False\n",
    "                completed = updated_job.request_counts.completed\n",
    "                total = updated_job.request_counts.total\n",
    "                output_lines.append(\n",
    "                    f\"Job status: {status} - Progress: {completed}/{total}\"\n",
    "                )\n",
    "\n",
    "        # Clear terminal\n",
    "        clear_output(wait=True)\n",
    "        for line in output_lines:\n",
    "            display(line)\n",
    "\n",
    "        # Check every 10 seconds\n",
    "        if not all_completed:\n",
    "            time.sleep(10)\n"
   ]
  },
  {
   "cell_type": "code",
   "execution_count": 16,
   "id": "6a283b51-1585-4f64-89fb-784952e65fe8",
   "metadata": {},
   "outputs": [
    {
     "data": {
      "text/plain": [
       "'Job completed!'"
      ]
     },
     "metadata": {},
     "output_type": "display_data"
    },
    {
     "data": {
      "text/plain": [
       "'Job completed!'"
      ]
     },
     "metadata": {},
     "output_type": "display_data"
    },
    {
     "data": {
      "text/plain": [
       "'Job completed!'"
      ]
     },
     "metadata": {},
     "output_type": "display_data"
    },
    {
     "data": {
      "text/plain": [
       "'Job completed!'"
      ]
     },
     "metadata": {},
     "output_type": "display_data"
    },
    {
     "data": {
      "text/plain": [
       "'Job completed!'"
      ]
     },
     "metadata": {},
     "output_type": "display_data"
    }
   ],
   "source": [
    "monitor_batch_jobs(batch_jobs)"
   ]
  },
  {
   "cell_type": "markdown",
   "id": "TkkhIG9HU0D9",
   "metadata": {
    "id": "TkkhIG9HU0D9"
   },
   "source": [
    "## Get the results"
   ]
  },
  {
   "cell_type": "markdown",
   "id": "d1d9215f",
   "metadata": {},
   "source": [
    "With all jobs completed, we'll retrieve the results and review the responses generated for each request. The results are parsed. To fetch the results from the platform, you need to retrieve the `output_file_id` from the batch job, and then use the `files.content` endpoint, providing that specific file ID. We will repeat this for every single batch job id. Note that the job status must be `completed` for you to retrieve the results!"
   ]
  },
  {
   "cell_type": "code",
   "execution_count": 17,
   "id": "caA5djbLrJ4O",
   "metadata": {},
   "outputs": [],
   "source": [
    "#Parse results as a JSON object\n",
    "def parse_json_objects(data_string):\n",
    "  if isinstance(data_string, bytes):\n",
    "    data_string = data_string.decode('utf-8')\n",
    "\n",
    "  json_strings = data_string.strip().split('\\n')\n",
    "  json_objects = []\n",
    "\n",
    "  for json_str in json_strings:\n",
    "    try:\n",
    "      json_obj = json.loads(json_str)\n",
    "      json_objects.append(json_obj)\n",
    "    except json.JSONDecodeError as e:\n",
    "      print(f\"Error parsing JSON: {e}\")\n",
    "\n",
    "  return json_objects"
   ]
  },
  {
   "cell_type": "code",
   "execution_count": 18,
   "id": "f86d9b6e-06f6-4a18-a56a-913ab58fc7a6",
   "metadata": {},
   "outputs": [
    {
     "name": "stdout",
     "output_type": "stream",
     "text": [
      "\n",
      " -------------------------- \n",
      "\n",
      "Inference ID: sentiment-0. \n",
      "\n",
      "TEXT: Feds Accused of Exaggerating Fire Impact (AP): AP - The Forest Service exaggerated the effect of wildfires on California spotted owls in justifying a planned increase in logging in the Sierra Nevada, according to a longtime agency expert who worked on the plan.: nan\n",
      "\n",
      "RESULT: ```json\n",
      "{\n",
      "  \"sentiment\": \"negative\",\n",
      "  \"confidence\": 0.75\n",
      "}\n",
      "```\n",
      "\n",
      " -------------------------- \n",
      "\n",
      "Inference ID: sentiment-1. \n",
      "\n",
      "TEXT: New Method May Predict Quakes Weeks Ahead (AP): AP - Swedish geologists may have found a way to predict earthquakes weeks before they happen by monitoring the amount of metals like zinc and copper in subsoil water near earthquake sites, scientists said Wednesday.: nan\n",
      "\n",
      "RESULT: ```json\n",
      "{\n",
      "  \"sentiment\": \"neutral\",\n",
      "  \"confidence\": 0.85\n",
      "}\n",
      "```\n",
      "\n",
      " -------------------------- \n",
      "\n",
      "Inference ID: sentiment-2. \n",
      "\n",
      "TEXT: Marine Expedition Finds New Species (AP): AP - Norwegian scientists who explored the deep waters of the Atlantic Ocean said Thursday their findings  #151; including what appear to be new species of fish and squid  #151; could be used to protect marine ecosystems worldwide.: nan\n",
      "\n",
      "RESULT: ```json\n",
      "{\n",
      "  \"sentiment\": \"positive\",\n",
      "  \"confidence\": 0.9\n",
      "}\n",
      "```\n",
      "\n",
      " -------------------------- \n",
      "\n",
      "Inference ID: translation-0. \n",
      "\n",
      "TEXT: Feds Accused of Exaggerating Fire Impact (AP): AP - The Forest Service exaggerated the effect of wildfires on California spotted owls in justifying a planned increase in logging in the Sierra Nevada, according to a longtime agency expert who worked on the plan.: nan\n",
      "\n",
      "RESULT: The article discusses allegations that the U.S. Forest Service exaggerated the impact of wildfires on California spotted owls in order to justify increasing logging in the Sierra Nevada. A longtime agency expert who worked on the plan is cited as making these claims. The article suggests that the Forest Service may have misrepresented data to support their logging plans.\n",
      "\n",
      " -------------------------- \n",
      "\n",
      "Inference ID: translation-1. \n",
      "\n",
      "TEXT: New Method May Predict Quakes Weeks Ahead (AP): AP - Swedish geologists may have found a way to predict earthquakes weeks before they happen by monitoring the amount of metals like zinc and copper in subsoil water near earthquake sites, scientists said Wednesday.: nan\n",
      "\n",
      "RESULT: The article is about a new method that could predict earthquakes weeks in advance by monitoring the presence of metals like zinc and copper in subsoil water near earthquake sites. The method was developed by Swedish geologists and was announced on Wednesday.\n",
      "\n",
      " -------------------------- \n",
      "\n",
      "Inference ID: translation-2. \n",
      "\n",
      "TEXT: Marine Expedition Finds New Species (AP): AP - Norwegian scientists who explored the deep waters of the Atlantic Ocean said Thursday their findings  #151; including what appear to be new species of fish and squid  #151; could be used to protect marine ecosystems worldwide.: nan\n",
      "\n",
      "RESULT: # Protecting Marine Ecosystems Worldwide\n",
      "\n",
      "## Key Strategies for Protecting Marine Ecosystems\n",
      "\n",
      "### 1. **Marine Protected Areas (MPAs)**\n",
      "   - Establish and expand MPAs to safeguard marine biodiversity.\n",
      "   - Limit human activities like fishing and drilling in these areas.\n",
      "\n",
      "### 2. **Sustainable Fishing Practices**\n",
      "   - Implement sustainable fishing quotas and gear restrictions.\n",
      "   - Promote selective fishing to avoid overfishing and bycatch.\n",
      "\n",
      "### 3. **Pollution Control**\n",
      "   - Reduce plastic waste and marine debris through waste management.\n",
      "   - Limit chemical discharges from industries and agriculture.\n",
      "\n",
      "### 4. **Climate Action**\n",
      "   - Reduce greenhouse gas emissions to mitigate ocean acidification.\n",
      "   - Protect coastal areas from rising sea levels and storms.\n",
      "\n",
      "### 5. **Public Awareness and Education**\n",
      "   - Educate communities on marine conservation.\n",
      "   - Promote eco-friendly tourism and fishing practices.\n",
      "\n",
      "### 6. **International Cooperation**\n",
      "   - Collaborate globally for marine conservation efforts.\n",
      "   - Enforce international agreements like the UNCLOS.\n",
      "\n",
      "## Conclusion\n",
      "Protecting marine ecosystems requires global cooperation, sustainable practices, and public awareness to ensure ocean health for future generations.\n",
      "\n",
      " -------------------------- \n",
      "\n",
      "Inference ID: summary-0. \n",
      "\n",
      "TEXT: Feds Accused of Exaggerating Fire Impact (AP): AP - The Forest Service exaggerated the effect of wildfires on California spotted owls in justifying a planned increase in logging in the Sierra Nevada, according to a longtime agency expert who worked on the plan.: nan\n",
      "\n",
      "RESULT: The Forest Service's plan to increase logging in the Sierra Nevada has been criticized for exaggerating the effect of wildfires on California spotted owls. A longtime agency expert who worked on the plan has stated that the agency overstated the impact of wildfires on the owls to justify the logging increase. This suggests that the Forest Service may have misrepresented the situation to support its logging plans.\n",
      "\n",
      " -------------------------- \n",
      "\n",
      "Inference ID: summary-1. \n",
      "\n",
      "TEXT: New Method May Predict Quakes Weeks Ahead (AP): AP - Swedish geologists may have found a way to predict earthquakes weeks before they happen by monitoring the amount of metals like zinc and copper in subsoil water near earthquake sites, scientists said Wednesday.: nan\n",
      "\n",
      "RESULT: ### Understanding the Science Behind Predicting Earthquakes Using Subsoil Water Chemistry\n",
      "\n",
      "#### **1. What is the scientific basis behind this method?**\n",
      "The study suggests that earthquakes might be preceded by changes in the levels of metals like zinc and copper in subsoil water. The underlying idea is that tectonic stress and rock deformation before an earthquake could release these metals from the earth’s crust into groundwater. By monitoring these changes, scientists might be able to predict earthquakes weeks in advance.\n",
      "\n",
      "#### **2. How does tectonic stress lead to the release of metals?**\n",
      "Tectonic stress causes microfractures in rocks. As these fractures form, they can release minerals and metals that were trapped within the rocks. These metals then dissolve into groundwater, leading to measurable changes in water chemistry.\n",
      "\n",
      "#### **3. What are the challenges in this method?**\n",
      "- **Variability:** Earthquakes vary in size, depth, and location. The method would need to account for these differences to be universally applicable.\n",
      "- **Monitoring:** Continuous monitoring of subsoil water is required, which can be logistically and financially challenging.\n",
      "- **False positives:** Other geological processes (like volcanic activity) might also release metals into groundwater, leading to false earthquake predictions.\n",
      "\n",
      "#### **4. How does this compare to other earthquake prediction methods?**\n",
      "- **Seismic activity:** Traditional methods rely on monitoring seismic waves, but they often only provide seconds or minutes of warning.\n",
      "- **Animal behavior:** Some studies suggest animals might sense earthquakes before they happen, but this is not scientifically proven.\n",
      "- **Radon gas:** Some research suggests that radon gas levels might change before earthquakes, but this is also not consistently reliable.\n",
      "\n",
      "This method is unique because it suggests a measurable change in water chemistry weeks before an earthquake, offering a longer warning period.\n",
      "\n",
      "#### **5. What are the implications if this method is confirmed?**\n",
      "- **Early warning:** If scientists can reliably predict earthquakes weeks in advance, it could save lives and reduce damage by allowing for better preparation.\n",
      "- **Economic benefits:** Communities could take measures to strengthen infrastructure, evacuate areas, or prepare emergency responses.\n",
      "- **Scientific advancement:** It would represent a significant breakthrough in understanding earthquake precursors and tectonic activity.\n",
      "\n",
      "#### **6. What are the next steps in this research?**\n",
      "- **Field studies:** More studies are needed to confirm the relationship between metal levels and earthquakes.\n",
      "- **Technology development:** Better monitoring tools might be needed to detect subtle changes in water chemistry.\n",
      "- **Public policy:** If proven reliable, governments might need to invest in monitoring networks.\n",
      "\n",
      "### Conclusion\n",
      "This research is promising because it suggests a measurable way to predict earthquakes weeks in advance. However, more research is needed to confirm this method’s reliability and applicability across different earthquake scenarios. If successful, it could revolutionize earthquake prediction and save countless lives.\n",
      "\n",
      "---\n",
      "\n",
      "### **Key Takeaways**\n",
      "- **Scientific basis:** Changes in subsoil water chemistry might predict earthquakes.\n",
      "- **Mechanism:** Tectonic stress causes microfractures, releasing metals into groundwater.\n",
      "- **Challenges:** Variability, monitoring logistics, and false positives.\n",
      "- **Implications:** Early warning could save lives and reduce damage.\n",
      "- **Next steps:** More research, technology development, and public policy considerations.\n",
      "\n",
      " -------------------------- \n",
      "\n",
      "Inference ID: summary-2. \n",
      "\n",
      "TEXT: Marine Expedition Finds New Species (AP): AP - Norwegian scientists who explored the deep waters of the Atlantic Ocean said Thursday their findings  #151; including what appear to be new species of fish and squid  #151; could be used to protect marine ecosystems worldwide.: nan\n",
      "\n",
      "RESULT: ### The Deep Ocean Exploration and Its Implications for Marine Conservation\n",
      "\n",
      "The deep waters of the Atlantic Ocean have long been a source of mystery and intrigue, hiding secrets that only advanced technology can uncover. Recently, a team of researchers announced their findings from an expedition to these depths, revealing what appears to be new species of fish and squid. These discoveries not only expand our understanding of marine biodiversity but also provide a foundation for protecting marine ecosystems worldwide.\n",
      "\n",
      "#### The Expedition and Its Discoveries\n",
      "\n",
      "The expedition, conducted by a team of scientists, utilized cutting-edge technology to explore the deep waters of the Atlantic Ocean. The team deployed deep-sea submersibles and remotely operated vehicles (ROVs) to capture images and samples from the ocean floor. Their findings include what seem to be new species of fish and squid, highlighting the vast biodiversity that remains undiscovered in the deep ocean.\n",
      "\n",
      "The discovery of new species is particularly significant because it underscores the vastness of marine life that remains unknown to science. The deep ocean, with its extreme pressures and darkness, presents a unique environment that has led to the evolution of creatures with distinct adaptations. These findings provide a glimpse into the complex web of life that exists beneath the ocean's surface.\n",
      "\n",
      "#### Implications for Marine Conservation\n",
      "\n",
      "The discoveries made by the expedition have far-reaching implications for marine conservation. By identifying new species, the researchers can better understand the biodiversity of the Atlantic Ocean and its ecological dynamics. This knowledge is essential for developing effective conservation strategies that protect marine ecosystems from threats such as overfishing, climate change, and deep-sea mining.\n",
      "\n",
      "One of the key takeaways from the expedition is the need for international cooperation in marine conservation. The deep waters of the Atlantic Ocean are a shared resource, and their protection requires a global effort. The findings can be used to advocate for the establishment of marine protected areas (MPAs) that safeguard the habitats of these newly discovered species.\n",
      "\n",
      "#### The Role of Technology in Ocean Exploration\n",
      "\n",
      "The success of the expedition highlights the importance of technology in ocean exploration. The use of submersibles and ROVs allowed the researchers to reach depths that were previously inaccessible. These technologies provide scientists with the tools to study the deep ocean in unprecedented detail, leading to new discoveries and a better understanding of marine ecosystems.\n",
      "\n",
      "Moreover, the data collected during the expedition can be used to develop models that predict the impacts of human activities on the deep ocean. This is crucial for making informed decisions about resource extraction and other activities that could harm marine ecosystems.\n",
      "\n",
      "#### Conclusion\n",
      "\n",
      "The expedition to the deep waters of the Atlantic Ocean has yielded remarkable findings, including what appear to be new species of fish and squid. These discoveries not only expand our knowledge of marine biodiversity but also provide a foundation for protecting marine ecosystems worldwide. By leveraging these findings, scientists can advocate for policies that safeguard the deep ocean and its inhabitants, ensuring a sustainable future for marine life.\n",
      "\n",
      "The exploration of the deep ocean is a testament to the power of scientific inquiry and the potential for new discoveries to drive conservation efforts. As we continue to uncover the mysteries of the Atlantic Ocean, we must also commit to protecting its fragile ecosystems for future generations.\n",
      "\n",
      " -------------------------- \n",
      "\n",
      "Inference ID: topic_classification-0. \n",
      "\n",
      "TEXT: Feds Accused of Exaggerating Fire Impact (AP): AP - The Forest Service exaggerated the effect of wildfires on California spotted owls in justifying a planned increase in logging in the Sierra Nevada, according to a longtime agency expert who worked on the plan.: nan\n",
      "\n",
      "RESULT:  The Sierra Nevada is a mountain range in the western United States, stretching across California and Nevada. The area is known for its stunning scenery, diverse wildlife, and rich natural resources. The Sierra Nevada is also a popular destination for outdoor activities such as hiking, camping, and skiing.\n",
      "\n",
      "The Sierra Nevada is home to a variety of wildlife, including black bears, mountain lions, deer, and elk. The area is also home to a variety of birds, such as eagles, hawks, and owls. The Sierra Nevada is also home to a variety of plant life, including pine trees, oak trees, and wildflowers.\n",
      "\n",
      "The Sierra Nevada is a popular destination for outdoor activities such as hiking, camping, and skiing. The area is also home to a variety of recreational activities, such as fishing, hunting, and horseback riding. The Sierra Nevada is also a popular destination for rock climbing, mountain biking, and whitewater rafting.\n",
      "\n",
      "The Sierra Nevada is a beautiful and diverse area that is home to a variety of wildlife and recreational activities. The area is a popular destination for outdoor activities and is a great place to visit for anyone who loves the outdoors.\n",
      "\n",
      " -------------------------- \n",
      "\n",
      "Inference ID: topic_classification-1. \n",
      "\n",
      "TEXT: New Method May Predict Quakes Weeks Ahead (AP): AP - Swedish geologists may have found a way to predict earthquakes weeks before they happen by monitoring the amount of metals like zinc and copper in subsoil water near earthquake sites, scientists said Wednesday.: nan\n",
      "\n",
      "RESULT: ```json\n",
      "{\n",
      "  \"primary_category\": \"science\",\n",
      "  \"confidence\": 0.95\n",
      "}\n",
      "```\n",
      "\n",
      " -------------------------- \n",
      "\n",
      "Inference ID: topic_classification-2. \n",
      "\n",
      "TEXT: Marine Expedition Finds New Species (AP): AP - Norwegian scientists who explored the deep waters of the Atlantic Ocean said Thursday their findings  #151; including what appear to be new species of fish and squid  #151; could be used to protect marine ecosystems worldwide.: nan\n",
      "\n",
      "RESULT: ```json\n",
      "{\n",
      "  \"primary_category\": \"science\",\n",
      "  \"confidence\": 0.9\n",
      "}\n",
      "```\n",
      "\n",
      " -------------------------- \n",
      "\n",
      "Inference ID: keyword_extraction-0. \n",
      "\n",
      "TEXT: Feds Accused of Exaggerating Fire Impact (AP): AP - The Forest Service exaggerated the effect of wildfires on California spotted owls in justifying a planned increase in logging in the Sierra Nevada, according to a longtime agency expert who worked on the plan.: nan\n",
      "\n",
      "RESULT: ```json\n",
      "{\n",
      "  \"keywords\": [\"Forest Service\", \"wildfires\", \"California spotted owls\", \"logging\", \"Sierra Nevada\"],\n",
      "  \"context\": \"The keywords highlight the main elements of the controversy. 'Forest Service' refers to the agency accused of exaggerating wildfire impacts. 'Wildfires' are central to the debate over their effect on 'California spotted owls', a protected species. 'Logging' is the planned activity justified by the disputed claims, and 'Sierra Nevada' is the region where this environmental conflict is taking place.\"\n",
      "}\n",
      "```\n",
      "\n",
      " -------------------------- \n",
      "\n",
      "Inference ID: keyword_extraction-1. \n",
      "\n",
      "TEXT: New Method May Predict Quakes Weeks Ahead (AP): AP - Swedish geologists may have found a way to predict earthquakes weeks before they happen by monitoring the amount of metals like zinc and copper in subsoil water near earthquake sites, scientists said Wednesday.: nan\n",
      "\n",
      "RESULT: ```json\n",
      "{\n",
      "  \"keywords\": [\"earthquakes\", \"prediction\", \"geologists\", \"metals\", \"subsoil water\"],\n",
      "  \"context\": \"The text discusses a new method for predicting earthquakes weeks in advance by Swedish geologists. 'Earthquakes' is the central topic, while 'prediction' highlights the innovative aspect of forecasting them earlier. 'Geologists' refers to the scientists involved in the research. 'Metals' like zinc and copper are key indicators being monitored, and 'subsoil water' is the medium where these metals are detected to predict seismic activity.\"\n",
      "}\n",
      "```\n",
      "\n",
      " -------------------------- \n",
      "\n",
      "Inference ID: keyword_extraction-2. \n",
      "\n",
      "TEXT: Marine Expedition Finds New Species (AP): AP - Norwegian scientists who explored the deep waters of the Atlantic Ocean said Thursday their findings  #151; including what appear to be new species of fish and squid  #151; could be used to protect marine ecosystems worldwide.: nan\n",
      "\n",
      "RESULT: ```json\n",
      "{\n",
      "  \"keywords\": [\"Marine expedition\", \"New species\", \"Atlantic Ocean\", \"Norwegian scientists\", \"Marine ecosystems\"],\n",
      "  \"context\": \"The keywords highlight the main aspects of the text. 'Marine expedition' refers to the scientific exploration mentioned. 'New species' underscores the discovery of unidentified fish and squid. 'Atlantic Ocean' specifies the location of the research. 'Norwegian scientists' identifies the group conducting the study. 'Marine ecosystems' relates to the potential global impact of the findings for conservation efforts.\"\n",
      "}\n",
      "```\n"
     ]
    }
   ],
   "source": [
    "# Go through all batch jobs, providing the output file ID\n",
    "for batch_job in batch_jobs:\n",
    "  job_status = client.batches.retrieve(batch_job.id)\n",
    "  result_file_id = job_status.output_file_id\n",
    "  result = client.files.content(result_file_id).content\n",
    "  results = parse_json_objects(result)\n",
    "\n",
    "    # For each, print the result\n",
    "  for res in results:\n",
    "    inference_id = res['custom_id']\n",
    "    index = inference_id.split('-')[-1]\n",
    "    result = res['response']['body']['choices'][0]['message']['content']\n",
    "    text = df.iloc[int(index)]['text']\n",
    "    print(f'\\n -------------------------- \\n')\n",
    "    print(f\"Inference ID: {inference_id}. \\n\\nTEXT: {text}\\n\\nRESULT: {result}\")"
   ]
  },
  {
   "cell_type": "markdown",
   "id": "e9573d9e",
   "metadata": {},
   "source": [
    "## Summary"
   ]
  },
  {
   "cell_type": "markdown",
   "id": "d42bcd40",
   "metadata": {},
   "source": [
    "This tutorial used the chat completion endpoint to perform many tasks via kluster.ai batch API. This particular example performed five different tasks for each element of the dataset: sentiment analysis, translation (to Spanish), summarization, topic classification and keyword extraction.\n",
    "\n",
    "To submit a batch job we've:\n",
    "\n",
    "1. Created the JSONL file, where each line of the file represented a separate request (for each task and element of dataset)\n",
    "2. Submitted the file to the platform\n",
    "3. Started the batch job, and monitored its progress\n",
    "4. Once completed, we fetched the results\n",
    "\n",
    "All of this using the OpenAI Python library and API, no changes needed!\n",
    "\n",
    "Kluster.ai's batch API empowers you to scale your workflows seamlessly, making it an invaluable tool for processing extensive datasets. As next steps, feel free to create your own dataset, or expand on top of this existing example. Good luck!"
   ]
  }
 ],
 "metadata": {
  "kernelspec": {
   "display_name": "Python 3 (ipykernel)",
   "language": "python",
   "name": "python3"
  },
  "language_info": {
   "codemirror_mode": {
    "name": "ipython",
    "version": 3
   },
   "file_extension": ".py",
   "mimetype": "text/x-python",
   "name": "python",
   "nbconvert_exporter": "python",
   "pygments_lexer": "ipython3",
   "version": "3.10.8"
  }
 },
 "nbformat": 4,
 "nbformat_minor": 5
}
